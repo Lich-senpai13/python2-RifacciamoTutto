{
  "nbformat": 4,
  "nbformat_minor": 0,
  "metadata": {
    "colab": {
      "provenance": []
    },
    "kernelspec": {
      "name": "python3",
      "display_name": "Python 3"
    },
    "language_info": {
      "name": "python"
    }
  },
  "cells": [
    {
      "cell_type": "markdown",
      "source": [
        "# **questo notebook contiene informazioni fondamentali per lavorare sulle liste**"
      ],
      "metadata": {
        "id": "1-6jg4g6DMDT"
      }
    },
    {
      "cell_type": "markdown",
      "source": [
        "definizione di lista :\n",
        "una lista è una struttura di dati dinamici utilizzata per memorizare dati in modo non permanente (salvataggio della RAM).\n",
        "Dinamico significa che la dimensione della lista non deve essere fissata a priori.\n",
        "Non permanente significa che i dati memorizati nella lista vengono cancellati qundo si chiude il notebook."
      ],
      "metadata": {
        "id": "mEARDkLLDdsW"
      }
    },
    {
      "cell_type": "markdown",
      "source": [
        "1. inizializazione di una lista"
      ],
      "metadata": {
        "id": "oJU_rWt4E_57"
      }
    },
    {
      "cell_type": "code",
      "source": [
        "lista = [1,2,3,4,5,6,7,8,9]"
      ],
      "metadata": {
        "id": "KzDeIfM9GF_8"
      },
      "execution_count": null,
      "outputs": []
    },
    {
      "cell_type": "markdown",
      "source": [
        "2. inserimento di elementi "
      ],
      "metadata": {
        "id": "8Z0KRMe-FDkD"
      }
    },
    {
      "cell_type": "code",
      "source": [
        "lista.append(10) #aggiunge un elemento alla fine di una lista\n",
        "lista.extend([11,12,13]) #aggiunge 3 elementi alla fine della lista \n",
        "lista.insert(5,20) #aggiunge il 20 alla posizione numero 5"
      ],
      "metadata": {
        "id": "60PgK4UHGP6k"
      },
      "execution_count": null,
      "outputs": []
    },
    {
      "cell_type": "markdown",
      "source": [
        "3. visualizazione di una lista"
      ],
      "metadata": {
        "id": "ba3wcfb3FIgL"
      }
    },
    {
      "cell_type": "code",
      "source": [
        "print(lista)"
      ],
      "metadata": {
        "colab": {
          "base_uri": "https://localhost:8080/"
        },
        "id": "c8bpjMijHU69",
        "outputId": "b9ba0aa5-710c-4d9a-dac4-a203e8b7ced4"
      },
      "execution_count": null,
      "outputs": [
        {
          "output_type": "stream",
          "name": "stdout",
          "text": [
            "[1, 2, 3, 4, 5, 20, 6, 7, 8, 9, 10, 10, 11, 12, 13]\n"
          ]
        }
      ]
    },
    {
      "cell_type": "markdown",
      "source": [
        "4. rimozione di elementi di una lista"
      ],
      "metadata": {
        "id": "8sIKAU_eFNdz"
      }
    },
    {
      "cell_type": "code",
      "source": [
        "lista.remove(10) #rimuove la prima occorrenza(istanza) del numero 10 \n",
        "lista.pop(10) #rimuove l'elemento nella posizione 10 \n",
        "del lista[10] #rimuove l'elemento nella posizione 10"
      ],
      "metadata": {
        "id": "R2ccz4FAHlJz"
      },
      "execution_count": null,
      "outputs": []
    },
    {
      "cell_type": "markdown",
      "source": [
        "5. aggiunta di un elemento di una lista "
      ],
      "metadata": {
        "id": "Th8BNXpmFRGT"
      }
    },
    {
      "cell_type": "code",
      "source": [
        "lista.append(10) #aggiunge un elemento alla fine di una lista\n",
        "lista.extend([11,12,13]) #aggiunge 3 elementi alla fine della lista \n",
        "lista.insert(5,20) #aggiunge il 20 alla posizione numero 5"
      ],
      "metadata": {
        "id": "AMqzNOT0Iwok"
      },
      "execution_count": null,
      "outputs": []
    },
    {
      "cell_type": "markdown",
      "source": [
        "6. visualizazione di uno o più elementi di una lista "
      ],
      "metadata": {
        "id": "BneBjJHMFXEq"
      }
    },
    {
      "cell_type": "code",
      "source": [
        "print(lista[4]) #visualizza il 5° elemento, cioè l'elemento in posizione 4 \n",
        "print(lista[4:8]) #slicing: visualizza gli elementi dalla posizione 4 fino alla posizione 7\n",
        "print(lista[4:8:2]) #slicing: visualizza gli elementi 2 a 2 \n",
        "print(lista[4:]) # visualizza gli elementi dal 4 fino alla fine \n",
        "print(lista[:4]) #visualizza gli elementi fino alla posizione 3 \n",
        "print(lista[::4]) #prende tutti i numeri a 4 a 4 \n",
        "print(lista[-1]) #visualizza l'ultimo elemento "
      ],
      "metadata": {
        "id": "majSZZmQJFUl",
        "outputId": "5ce66554-8877-4702-9bc6-6a2ae598e4d3",
        "colab": {
          "base_uri": "https://localhost:8080/"
        }
      },
      "execution_count": null,
      "outputs": [
        {
          "output_type": "stream",
          "name": "stdout",
          "text": [
            "5\n",
            "[5, 6, 7, 8]\n",
            "[5, 7]\n",
            "[5, 6, 7, 8, 9]\n",
            "[1, 2, 3, 4]\n",
            "[1, 5, 9]\n",
            "9\n"
          ]
        }
      ]
    },
    {
      "cell_type": "code",
      "source": [
        "lista.index(10) #restituisce l'indice di dove si trova la prima occorrenza del elemento 10"
      ],
      "metadata": {
        "id": "yNpgKZ2ITXsj"
      },
      "execution_count": null,
      "outputs": []
    },
    {
      "cell_type": "markdown",
      "source": [
        "7. trovare minimo è massimo di una lista "
      ],
      "metadata": {
        "id": "T3iULYl1Foxb"
      }
    },
    {
      "cell_type": "code",
      "source": [
        "min(lista)\n",
        "max(lista)"
      ],
      "metadata": {
        "colab": {
          "base_uri": "https://localhost:8080/"
        },
        "id": "qmHjzRRSLkME",
        "outputId": "5e731767-273e-4455-d6cb-0ce5d3b6fee6"
      },
      "execution_count": null,
      "outputs": [
        {
          "output_type": "execute_result",
          "data": {
            "text/plain": [
              "20"
            ]
          },
          "metadata": {},
          "execution_count": 5
        }
      ]
    },
    {
      "cell_type": "markdown",
      "source": [
        "8. effettuare operazioni su eleminti di una lista "
      ],
      "metadata": {
        "id": "b2pKA58LFt77"
      }
    },
    {
      "cell_type": "code",
      "source": [
        "sum(lista) #calcola la somma degli elementi  una lista\n",
        "from statistics  import mean\n",
        "mean(lista) #calcola la media degli elementi  una lista\n",
        "len(lista) #conta la lunghezza della lista"
      ],
      "metadata": {
        "colab": {
          "base_uri": "https://localhost:8080/"
        },
        "id": "388IkulOLajs",
        "outputId": "5d861e65-b3ec-44be-b526-90f39561e527"
      },
      "execution_count": null,
      "outputs": [
        {
          "output_type": "execute_result",
          "data": {
            "text/plain": [
              "8.066666666666666"
            ]
          },
          "metadata": {},
          "execution_count": 11
        }
      ]
    },
    {
      "cell_type": "markdown",
      "source": [
        "9. ordinare gli elementi di una lista"
      ],
      "metadata": {
        "id": "kaaFvJoyF3Bb"
      }
    },
    {
      "cell_type": "code",
      "source": [
        "lista.sort() #ordina gli elementi di una lista in ordine crescente \n",
        "lista.sort(reverse = True) #ordina gli elementi di una lista in ordine decrescente \n",
        "print(lista)"
      ],
      "metadata": {
        "colab": {
          "base_uri": "https://localhost:8080/"
        },
        "id": "R0WvptfuM7ME",
        "outputId": "d4d2a27f-8a90-407a-fed3-0d3faf55b019"
      },
      "execution_count": null,
      "outputs": [
        {
          "output_type": "stream",
          "name": "stdout",
          "text": [
            "[20, 13, 12, 11, 10, 10, 9, 8, 7, 6, 5, 4, 3, 2, 1]\n"
          ]
        }
      ]
    },
    {
      "cell_type": "markdown",
      "source": [
        "10. controllo della presenza di un elemento nella lista "
      ],
      "metadata": {
        "id": "PzIJYdfeN_tF"
      }
    },
    {
      "cell_type": "code",
      "source": [
        "9 in lista        #restituisce True se il 9 è presente nella lista"
      ],
      "metadata": {
        "id": "kQkDlS7nONZN"
      },
      "execution_count": null,
      "outputs": []
    }
  ]
}
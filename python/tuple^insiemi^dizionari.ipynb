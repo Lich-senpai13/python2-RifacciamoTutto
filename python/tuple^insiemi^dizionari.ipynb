{
  "nbformat": 4,
  "nbformat_minor": 0,
  "metadata": {
    "colab": {
      "provenance": []
    },
    "kernelspec": {
      "name": "python3",
      "display_name": "Python 3"
    },
    "language_info": {
      "name": "python"
    }
  },
  "cells": [
    {
      "cell_type": "markdown",
      "source": [
        "tuple non sono modificabili"
      ],
      "metadata": {
        "id": "-w0C2uNlQiqe"
      }
    },
    {
      "cell_type": "code",
      "execution_count": null,
      "metadata": {
        "colab": {
          "base_uri": "https://localhost:8080/"
        },
        "id": "3lTQbn12QPgz",
        "outputId": "63f599fe-cfd1-4acb-b7d0-aa6bd1b860c7"
      },
      "outputs": [
        {
          "output_type": "stream",
          "name": "stdout",
          "text": [
            "(1, 2, 3, 4, 5, 6, 76)\n"
          ]
        }
      ],
      "source": [
        "tupla1 = (1,2,3,4,5,6,76)\n",
        "print(tupla1)"
      ]
    },
    {
      "cell_type": "code",
      "source": [
        "tupla2=(\"ico\",)    #la virgola finale rende la tupla una tupla .senza diventa una stringa \n",
        "print(type(tupla2))\n",
        "print(tupla2)\n",
        "tupla_2=(\"ico\")\n",
        "print(type(tupla_2))"
      ],
      "metadata": {
        "colab": {
          "base_uri": "https://localhost:8080/"
        },
        "id": "cSYGqsORQpM8",
        "outputId": "6a6e9f0d-481a-4305-fe1f-4b5342baa1b2"
      },
      "execution_count": null,
      "outputs": [
        {
          "output_type": "stream",
          "name": "stdout",
          "text": [
            "<class 'tuple'>\n",
            "('ico',)\n",
            "<class 'str'>\n"
          ]
        }
      ]
    },
    {
      "cell_type": "code",
      "source": [
        "tupla3=(\"ciao\",1, True,\"cetriolo\")  #legge i valori buoleani\n",
        "print(tupla3)"
      ],
      "metadata": {
        "colab": {
          "base_uri": "https://localhost:8080/"
        },
        "id": "flPCcbZwSVjT",
        "outputId": "addcc460-1e94-488c-9df1-1239382ecc94"
      },
      "execution_count": null,
      "outputs": [
        {
          "output_type": "stream",
          "name": "stdout",
          "text": [
            "('ciao', 1, True, 'cetriolo')\n"
          ]
        }
      ]
    },
    {
      "cell_type": "code",
      "source": [
        "prova=tuple([\"ciao\",\"gabbiano\",53])\n",
        "print(prova)"
      ],
      "metadata": {
        "colab": {
          "base_uri": "https://localhost:8080/"
        },
        "id": "yBNgFWYiS3MT",
        "outputId": "cd58b40c-24b9-4c87-faa1-d37696de29e1"
      },
      "execution_count": null,
      "outputs": [
        {
          "output_type": "stream",
          "name": "stdout",
          "text": [
            "('ciao', 'gabbiano', 53)\n"
          ]
        }
      ]
    },
    {
      "cell_type": "code",
      "source": [
        "ploto=[1,2,3]\n",
        "prova2=tuple(ploto) #la lista e stata è stata convertita in tupla\n",
        "print(prova2)"
      ],
      "metadata": {
        "colab": {
          "base_uri": "https://localhost:8080/"
        },
        "id": "le40aaw7TWh7",
        "outputId": "1beba5f4-2dc3-4c4a-c165-9eacca9ca7ed"
      },
      "execution_count": null,
      "outputs": [
        {
          "output_type": "stream",
          "name": "stdout",
          "text": [
            "(1, 2, 3)\n"
          ]
        }
      ]
    },
    {
      "cell_type": "markdown",
      "source": [
        "# Esercizzi Tuple"
      ],
      "metadata": {
        "id": "FXKsFBktT81M"
      }
    },
    {
      "cell_type": "markdown",
      "source": [
        "generare 20 numeri casuali non uguali che varino da 1 a 100, poi inserire in una struttura dati dati adeguata che non sia modificabile."
      ],
      "metadata": {
        "id": "-AoOVT94ULwb"
      }
    },
    {
      "cell_type": "code",
      "source": [
        "import random\n",
        "lista0 = random.sample(range(1,100),20)  #sample = valori diversi, (range(1,100) = i numeri casuali sono da 1 a 100 , 20 = il numero di volte che lo deve fare\n",
        "print(lista0)    #restituisce una lista [+]\n",
        "###############################################################\n",
        "lista1 = tuple(random.sample(range(1,100),20))\n",
        "print(lista1)"
      ],
      "metadata": {
        "colab": {
          "base_uri": "https://localhost:8080/"
        },
        "id": "TO_OJmg1T8j7",
        "outputId": "df0c0fc3-1b9a-477f-843e-a35ef5061190"
      },
      "execution_count": null,
      "outputs": [
        {
          "output_type": "stream",
          "name": "stdout",
          "text": [
            "[46, 24, 21, 48, 75, 34, 96, 97, 41, 67, 20, 49, 33, 58, 17, 22, 55, 56, 6, 82]\n",
            "(44, 51, 10, 32, 73, 31, 33, 74, 21, 16, 22, 34, 42, 87, 39, 11, 9, 28, 41, 84)\n"
          ]
        }
      ]
    },
    {
      "cell_type": "markdown",
      "source": [
        "aggiungere i primi 3 cognomi della classe in posizione 1 al precendente vetore"
      ],
      "metadata": {
        "id": "Lzx90YhXWas6"
      }
    },
    {
      "cell_type": "code",
      "source": [
        "tumpla4= list(lista1)\n",
        "print(tumpla4)\n",
        "tumpla4[0:0] = [\"avasiloae\",\"bernasconi\",\"cottone\"]   # mette i valori al inizio\n",
        "print(tumpla4)\n",
        "tupla4inTuple= tuple(tumpla4)   #trasformata in tupla\n",
        "print(tupla4inTuple)    "
      ],
      "metadata": {
        "colab": {
          "base_uri": "https://localhost:8080/"
        },
        "id": "zoszo92fWQ-M",
        "outputId": "63054f58-b951-48ce-ece5-322c96644042"
      },
      "execution_count": null,
      "outputs": [
        {
          "output_type": "stream",
          "name": "stdout",
          "text": [
            "[44, 51, 10, 32, 73, 31, 33, 74, 21, 16, 22, 34, 42, 87, 39, 11, 9, 28, 41, 84]\n",
            "['avasiloae', 'bernasconi', 'cottone', 44, 51, 10, 32, 73, 31, 33, 74, 21, 16, 22, 34, 42, 87, 39, 11, 9, 28, 41, 84]\n",
            "('avasiloae', 'bernasconi', 'cottone', 44, 51, 10, 32, 73, 31, 33, 74, 21, 16, 22, 34, 42, 87, 39, 11, 9, 28, 41, 84)\n"
          ]
        }
      ]
    },
    {
      "cell_type": "markdown",
      "source": [
        "#***//insiemi Python//***"
      ],
      "metadata": {
        "id": "8U7y14PaYQWb"
      }
    },
    {
      "cell_type": "markdown",
      "source": [
        "gli **insiemi** sono strutture dati .\n",
        "Gli insiemi vengono utilizzate .....\n",
        "si utilizzano le ***graffe= {}***"
      ],
      "metadata": {
        "id": "MToCqm8LYk0y"
      }
    },
    {
      "cell_type": "markdown",
      "source": [
        "servono per togliere i duplicati"
      ],
      "metadata": {
        "id": "f_KkCQXhkb7h"
      }
    },
    {
      "cell_type": "code",
      "source": [
        "insieme ={\"ciao\",\"ciaone\",\"salve\"} #non hanno un ordine predefinito\n",
        "print(insieme)"
      ],
      "metadata": {
        "colab": {
          "base_uri": "https://localhost:8080/"
        },
        "id": "LaNjRb1MYTRy",
        "outputId": "915f4078-ffed-4629-e906-8ab9f80eadcc"
      },
      "execution_count": null,
      "outputs": [
        {
          "output_type": "stream",
          "name": "stdout",
          "text": [
            "{'salve', 'ciao', 'ciaone'}\n"
          ]
        }
      ]
    },
    {
      "cell_type": "code",
      "source": [
        "insieme2=set((\"super ciao\",\" super ciaone\",\"super salve\"))  #(())=conversione tupla ,([])=conversione di una lista\n",
        "print(insieme2)"
      ],
      "metadata": {
        "colab": {
          "base_uri": "https://localhost:8080/"
        },
        "id": "tbtnxholZY8K",
        "outputId": "124faa56-f1b6-4f76-c324-e0cb04be36a7"
      },
      "execution_count": null,
      "outputs": [
        {
          "output_type": "stream",
          "name": "stdout",
          "text": [
            "{'super ciao', 'super salve', ' super ciaone'}\n"
          ]
        }
      ]
    },
    {
      "cell_type": "code",
      "source": [
        "print(type(insieme))\n",
        "print(type(insieme2))"
      ],
      "metadata": {
        "colab": {
          "base_uri": "https://localhost:8080/"
        },
        "id": "z11IqdBLZ4vq",
        "outputId": "d17a3078-2d16-4234-eacf-33600f20b364"
      },
      "execution_count": null,
      "outputs": [
        {
          "output_type": "stream",
          "name": "stdout",
          "text": [
            "<class 'set'>\n",
            "<class 'set'>\n"
          ]
        }
      ]
    },
    {
      "cell_type": "code",
      "source": [
        "len(insieme2)   #n° elementi "
      ],
      "metadata": {
        "colab": {
          "base_uri": "https://localhost:8080/"
        },
        "id": "opjYKSBIaUOC",
        "outputId": "21cb8804-5d71-4bae-b6e8-7f39629f78ee"
      },
      "execution_count": null,
      "outputs": [
        {
          "output_type": "execute_result",
          "data": {
            "text/plain": [
              "3"
            ]
          },
          "metadata": {},
          "execution_count": 30
        }
      ]
    },
    {
      "cell_type": "code",
      "source": [
        "insiemeNumerico={1,2,3,4,45}\n",
        "CiProviamo={i for i in range(10)}  #è possibile fare list comprehension\n",
        "print(CiProviamo)\n",
        "print(insiemeNumerico)"
      ],
      "metadata": {
        "colab": {
          "base_uri": "https://localhost:8080/"
        },
        "id": "MvEWhCi2aa16",
        "outputId": "c1c56ff5-f2a8-42c3-a4dc-9b57a02a0058"
      },
      "execution_count": null,
      "outputs": [
        {
          "output_type": "stream",
          "name": "stdout",
          "text": [
            "{0, 1, 2, 3, 4, 5, 6, 7, 8, 9}\n",
            "{1, 2, 3, 4, 45}\n"
          ]
        }
      ]
    },
    {
      "cell_type": "code",
      "source": [
        "insiemeMisto={1,\"marceline\",True,2.3}\n",
        "print(insiemeMisto)  # i valori buleani non le legge "
      ],
      "metadata": {
        "colab": {
          "base_uri": "https://localhost:8080/"
        },
        "id": "a3VSTkMwa88K",
        "outputId": "61f492a7-039e-4c2c-db1d-60a77bdb3205"
      },
      "execution_count": null,
      "outputs": [
        {
          "output_type": "stream",
          "name": "stdout",
          "text": [
            "{'marceline', 1, 2.3}\n"
          ]
        }
      ]
    },
    {
      "cell_type": "code",
      "source": [
        "insiemeN_nonRicordo={\"spaghetti\",\"penne\",\"tortiglioni\"}\n",
        "print(insiemeN_nonRicordo)"
      ],
      "metadata": {
        "id": "QGJuPVnAbdTy"
      },
      "execution_count": null,
      "outputs": []
    },
    {
      "cell_type": "code",
      "source": [
        "#aggiungere elementi\n",
        "insime6={\"giorgio flacone\" ,897,7}\n",
        "inser1={\"tronco\",\"corteccia\",\"linfa\"}\n",
        "insime6.update(inser1)\n",
        "print(insime6)"
      ],
      "metadata": {
        "colab": {
          "base_uri": "https://localhost:8080/"
        },
        "id": "2PB6NXxlbs8C",
        "outputId": "1fb4b33c-6cc0-4d2f-c348-3199cca3452b"
      },
      "execution_count": null,
      "outputs": [
        {
          "output_type": "stream",
          "name": "stdout",
          "text": [
            "{'tronco', 897, 'giorgio flacone', 'linfa', 7, 'corteccia'}\n"
          ]
        }
      ]
    },
    {
      "cell_type": "code",
      "source": [
        "#rimuovere elementi\n",
        "insime7={\"cecco\",\"leopardi\",\"dante\",\"guinizzelli\",76}\n",
        "print(insime7)\n",
        "insime7.remove(\"leopardi\")\n",
        "print(insime7)"
      ],
      "metadata": {
        "colab": {
          "base_uri": "https://localhost:8080/"
        },
        "id": "ode1dgzEfEAp",
        "outputId": "fb79ae8a-7f9e-49d7-de76-276c6bcb8af3"
      },
      "execution_count": null,
      "outputs": [
        {
          "output_type": "stream",
          "name": "stdout",
          "text": [
            "{'dante', 76, 'guinizzelli', 'cecco', 'leopardi'}\n",
            "{'dante', 76, 'guinizzelli', 'cecco'}\n"
          ]
        }
      ]
    },
    {
      "cell_type": "code",
      "source": [
        "#rimuovere utilizzaando discard()\n",
        "insime7.discard(\"cecco\")\n",
        "print(insime7)"
      ],
      "metadata": {
        "colab": {
          "base_uri": "https://localhost:8080/"
        },
        "id": "xMMoSLFcflA4",
        "outputId": "26349d71-9e7c-4da5-a214-fc2a7b9c26ac"
      },
      "execution_count": null,
      "outputs": [
        {
          "output_type": "stream",
          "name": "stdout",
          "text": [
            "{'dante', 76, 'guinizzelli'}\n"
          ]
        }
      ]
    },
    {
      "cell_type": "code",
      "source": [
        "#rimuovere con pop\n",
        "x= insime7.pop()   #VIENE FATTO A RANDOM\n",
        "print(x)\n",
        "print(insime7)"
      ],
      "metadata": {
        "colab": {
          "base_uri": "https://localhost:8080/"
        },
        "id": "d2c8zLKcf4vw",
        "outputId": "c89f1dc0-364a-4adc-89e4-d4334b6a77b6"
      },
      "execution_count": null,
      "outputs": [
        {
          "output_type": "stream",
          "name": "stdout",
          "text": [
            "dante\n",
            "{76, 'guinizzelli'}\n"
          ]
        }
      ]
    },
    {
      "cell_type": "code",
      "source": [
        "#metodo union \n",
        "set1={1,2,3,4,5,6}\n",
        "set2={10,20,30,40,50,60}\n",
        "set4={12,142,53,45,876}\n",
        "set3=set1.union(set2,set4)\n",
        "print(set3)"
      ],
      "metadata": {
        "colab": {
          "base_uri": "https://localhost:8080/"
        },
        "id": "ES20lQDpgtV5",
        "outputId": "a9240c49-ed84-4790-dd2b-8b8267e8de07"
      },
      "execution_count": null,
      "outputs": [
        {
          "output_type": "stream",
          "name": "stdout",
          "text": [
            "{1, 2, 3, 4, 5, 6, 40, 10, 876, 45, 12, 142, 50, 20, 53, 60, 30}\n"
          ]
        }
      ]
    },
    {
      "cell_type": "code",
      "source": [
        "insiememe={1,4,5,6,7,10,1,4}   \n",
        "print(insiememe)     #non prende le doppie\n",
        "##################################################\n",
        "#si deve fare per farza con tuple oppure lista\n",
        "\n",
        "insiememe1=[1,4,5,6,7,10,1,4] \n",
        "insiememe2=(1,4,5,6,7,10,1,4)\n",
        "print(insiememe1,\"\\t\",insiememe2)\n"
      ],
      "metadata": {
        "colab": {
          "base_uri": "https://localhost:8080/"
        },
        "id": "fHe73Zd6iBCB",
        "outputId": "3e99971e-058e-46fd-8019-e2bc1bc35e2d"
      },
      "execution_count": null,
      "outputs": [
        {
          "output_type": "stream",
          "name": "stdout",
          "text": [
            "{1, 4, 5, 6, 7, 10}\n",
            "[1, 4, 5, 6, 7, 10, 1, 4] \t (1, 4, 5, 6, 7, 10, 1, 4)\n"
          ]
        }
      ]
    },
    {
      "cell_type": "code",
      "source": [
        "#caricare in una lista 20 numeri casuali tra 1 e 100 ed eliminarne i duplicati"
      ],
      "metadata": {
        "id": "hSCg4OHOi8XJ"
      },
      "execution_count": null,
      "outputs": []
    },
    {
      "cell_type": "code",
      "source": [
        "import random\n",
        "listaConDuplicati=list(set([random.randint(1,100)for i in range(20)]))\n",
        "print(type(listaConDuplicati),\"\\t \\t \\t \\t\",listaConDuplicati)"
      ],
      "metadata": {
        "colab": {
          "base_uri": "https://localhost:8080/"
        },
        "id": "M-tI8O4tkxgA",
        "outputId": "2613653a-ea54-4a5a-d3b7-3c267708672d"
      },
      "execution_count": null,
      "outputs": [
        {
          "output_type": "stream",
          "name": "stdout",
          "text": [
            "<class 'list'> \t \t \t \t [96, 33, 35, 36, 69, 100, 37, 73, 74, 11, 44, 91, 17, 83, 22, 27, 31]\n"
          ]
        }
      ]
    },
    {
      "cell_type": "markdown",
      "source": [
        "# ***//Dizionari//***"
      ],
      "metadata": {
        "id": "xCckUlE_nMnq"
      }
    },
    {
      "cell_type": "markdown",
      "source": [
        "strutture dati con coppie dui valori"
      ],
      "metadata": {
        "id": "d5bFkyRCnbj3"
      }
    },
    {
      "cell_type": "code",
      "source": [
        "#esempio\n",
        "cairo={#\"chiave\":\"valore\"\n",
        "    \"genere\":\"maschio\",    \n",
        "    \"età\":12,\n",
        "    \"altezza\":200,\n",
        "    \"piedi\":2\n",
        "}\n",
        "\n",
        "print(cairo)"
      ],
      "metadata": {
        "colab": {
          "base_uri": "https://localhost:8080/"
        },
        "id": "ZiggCTCanVXo",
        "outputId": "171c4ca3-1363-46b6-9e0f-4ade69af9156"
      },
      "execution_count": null,
      "outputs": [
        {
          "output_type": "stream",
          "name": "stdout",
          "text": [
            "{'genere': 'maschio', 'età': 12, 'altezza': 200, 'piedi': 2}\n"
          ]
        }
      ]
    },
    {
      "cell_type": "code",
      "source": [
        "#aggiungere nuove chiavi\n",
        "cairo.update({\"cognome\":\"despigola\"})\n",
        "cairo[\"genere\"]=\"non identificato\""
      ],
      "metadata": {
        "id": "6XEyYqI9n_sA"
      },
      "execution_count": null,
      "outputs": []
    },
    {
      "cell_type": "code",
      "source": [
        "manga={\n",
        "    \"one punch man\":{\n",
        "        \"personaggio1\":\"nome1\",\n",
        "        \"personaggio2\":\"nome2\",\n",
        "        \"personaggio3\":\"nome3\"\n",
        "    }\n",
        "    \"mob 100\":{\n",
        "        \"personaio1\":\"noAe1\",\n",
        "        \"personago2\":\"nAme2\",\n",
        "        \"personago3\":\"noAe3\"\n",
        "    }\n",
        "}"
      ],
      "metadata": {
        "id": "RhgJTBpEpFB4"
      },
      "execution_count": null,
      "outputs": []
    }
  ]
}
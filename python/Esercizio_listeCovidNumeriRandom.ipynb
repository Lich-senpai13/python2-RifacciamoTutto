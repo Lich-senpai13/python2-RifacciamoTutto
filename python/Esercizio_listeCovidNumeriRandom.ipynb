{
  "nbformat": 4,
  "nbformat_minor": 0,
  "metadata": {
    "colab": {
      "provenance": [],
      "collapsed_sections": []
    },
    "kernelspec": {
      "name": "python3",
      "display_name": "Python 3"
    },
    "language_info": {
      "name": "python"
    }
  },
  "cells": [
    {
      "cell_type": "markdown",
      "source": [
        "#Esercizio 1"
      ],
      "metadata": {
        "id": "F1InHJmbdM6X"
      }
    },
    {
      "cell_type": "markdown",
      "source": [
        "Cercare su internet le infomrazioni riguardanti le statistiche sui casi di COVID nelle regioni italiane (casi totali) e memorizzarli in opportune struttture dati. Scrivere poi le istruzioni per avere le seguenti informazioni:\n",
        "\n"
      ],
      "metadata": {
        "id": "QhSL9Ve9bdnO"
      }
    },
    {
      "cell_type": "markdown",
      "source": [
        "1. il numero totale di casi di COVID in ITalia"
      ],
      "metadata": {
        "id": "xkMF7u4fcPHU"
      }
    },
    {
      "cell_type": "code",
      "source": [
        "casi_num_CovidITA = [3600000,2330000,2260000,2110000,1900000,1660000,1530000,1490000,1430000,636000,587000,571000,567000,506000,456000,387000,272000,221000,186000,91703,45876]\n",
        "casi_No_CovidITA = [\"Lombardia\",\"Veneto\",\"Campania\",\"Lazio\",\"Emilia-Romagna\",\"Sicilia\",\"Piemonte\",\"Puglia\",\"Toscana\",\"Marche\",\"Liguria\",\"Abruzzo\",\"Calabria\",\"Friuli-Venezia Giulia\",\"Sardegna\",\"Umbria\",\"Alto Adige\",\"Trento\",\"Basilicata\",\"Molise\",\"Valle d_Aosta\"]\n",
        "print(casi_num_CovidITA)\n",
        "print(casi_No_CovidITA)\n",
        "totCasi = sum(casi_num_CovidITA)\n",
        "print(\"\\n\",totCasi)"
      ],
      "metadata": {
        "id": "_FhU3WWPcSc0",
        "colab": {
          "base_uri": "https://localhost:8080/"
        },
        "outputId": "f39b0b7d-d8aa-44eb-9e00-54a3ca8c8716"
      },
      "execution_count": null,
      "outputs": [
        {
          "output_type": "stream",
          "name": "stdout",
          "text": [
            "[3600000, 2330000, 2260000, 2110000, 1900000, 1660000, 1530000, 1490000, 1430000, 636000, 587000, 571000, 567000, 506000, 456000, 387000, 272000, 221000, 186000, 91703, 45876]\n",
            "['Lombardia', 'Veneto', 'Campania', 'Lazio', 'Emilia-Romagna', 'Sicilia', 'Piemonte', 'Puglia', 'Toscana', 'Marche', 'Liguria', 'Abruzzo', 'Calabria', 'Friuli-Venezia Giulia', 'Sardegna', 'Umbria', 'Alto Adige', 'Trento', 'Basilicata', 'Molise', 'Valle d_Aosta']\n",
            "\n",
            " 22836579\n"
          ]
        }
      ]
    },
    {
      "cell_type": "markdown",
      "source": [
        "2. il numero medio di casi di COVID in Italia"
      ],
      "metadata": {
        "id": "cEbSqa1FcTQs"
      }
    },
    {
      "cell_type": "code",
      "source": [
        "from statistics import mean\n",
        "\n",
        "print(mean(casi_num_CovidITA))"
      ],
      "metadata": {
        "id": "g1IbY5N7cW10",
        "colab": {
          "base_uri": "https://localhost:8080/"
        },
        "outputId": "10f72c67-f490-4df5-89e2-5d13cd3fee50"
      },
      "execution_count": null,
      "outputs": [
        {
          "output_type": "stream",
          "name": "stdout",
          "text": [
            "1087456.142857143\n"
          ]
        }
      ]
    },
    {
      "cell_type": "markdown",
      "source": [
        "3. le regioni che hanno avuto un numero di casi superiore alla media"
      ],
      "metadata": {
        "id": "RV60Rp2DcXJ1"
      }
    },
    {
      "cell_type": "code",
      "source": [
        "media = mean(casi_num_CovidITA)\n",
        "\n",
        "for numero in casi_num_CovidITA:\n",
        "  if numero > media :\n",
        "    print(casi_No_CovidITA[casi_num_CovidITA.index(numero)])\n"
      ],
      "metadata": {
        "id": "MVte31bQcbva",
        "colab": {
          "base_uri": "https://localhost:8080/"
        },
        "outputId": "8109f2b3-f507-4cf7-8d1b-151942bce4ac"
      },
      "execution_count": null,
      "outputs": [
        {
          "output_type": "stream",
          "name": "stdout",
          "text": [
            "Lombardia\n",
            "Veneto\n",
            "Campania\n",
            "Lazio\n",
            "Emilia-Romagna\n",
            "Sicilia\n",
            "Piemonte\n",
            "Puglia\n",
            "Toscana\n"
          ]
        }
      ]
    },
    {
      "cell_type": "markdown",
      "source": [
        "4. la percentuale di casi di COVID nelle varie regioni rispetto al totale italiano. Caricare questi dati in un'altra lista"
      ],
      "metadata": {
        "id": "qcz6bUGqccXh"
      }
    },
    {
      "cell_type": "code",
      "source": [
        "totIta = 2290000\n",
        "\n",
        "for numero in casi_No_CovidITA : \n",
        "    print((casi_num_CovidITA[casi_No_CovidITA.index(numero)]/totIta)*100)"
      ],
      "metadata": {
        "id": "wZAeQZUrcpup",
        "colab": {
          "base_uri": "https://localhost:8080/"
        },
        "outputId": "246c9098-c863-46c3-aded-c778d81f8d50"
      },
      "execution_count": null,
      "outputs": [
        {
          "output_type": "stream",
          "name": "stdout",
          "text": [
            "157.20524017467247\n",
            "101.7467248908297\n",
            "98.68995633187772\n",
            "92.13973799126637\n",
            "82.96943231441048\n",
            "72.48908296943232\n",
            "66.8122270742358\n",
            "65.06550218340611\n",
            "62.44541484716157\n",
            "27.77292576419214\n",
            "25.633187772925766\n",
            "24.934497816593886\n",
            "24.759825327510917\n",
            "22.09606986899563\n",
            "19.912663755458514\n",
            "16.899563318777293\n",
            "11.87772925764192\n",
            "9.65065502183406\n",
            "8.12227074235808\n",
            "4.0044978165938865\n",
            "2.0033187772925762\n"
          ]
        }
      ]
    },
    {
      "cell_type": "markdown",
      "source": [
        "Cercare adesso la popolazione delle varie regioni italiane e caricare i dati in una opportuna struttura dati."
      ],
      "metadata": {
        "id": "NsxW5y1NcqHj"
      }
    },
    {
      "cell_type": "code",
      "source": [
        "popoloRegioni = [100600, 4906000, 5802000, 5879000, 4459000, 5000000, 4356000, 402900, 3730000, 1525000, 1551000, 1312000, 1947000, 1215000, 1640000, 882015 ,520891, 538223, 562869, 305617, 125666 ]\n",
        "print(popoloRegioni)"
      ],
      "metadata": {
        "id": "0ey1FJW4cwtS",
        "colab": {
          "base_uri": "https://localhost:8080/"
        },
        "outputId": "e1192c7c-e64c-4044-83d1-c6fb2d2a60b9"
      },
      "execution_count": null,
      "outputs": [
        {
          "output_type": "stream",
          "name": "stdout",
          "text": [
            "[100600, 4906000, 5802000, 5879000, 4459000, 5000000, 4356000, 402900, 3730000, 1525000, 1551000, 1312000, 1947000, 1215000, 1640000, 882015, 520891, 538223, 562869, 305617, 125666]\n"
          ]
        }
      ]
    },
    {
      "cell_type": "markdown",
      "source": [
        "5. trovare, per ogni regione, la percentuale di casi sul totale della popolazione di quella regione: caricare i dati in un'altra lista.\n",
        "che ha avuto più casi in rapporto alla popolazione"
      ],
      "metadata": {
        "id": "O08u1Y_mcxFr"
      }
    },
    {
      "cell_type": "code",
      "source": [
        "indice = 0 \n",
        "listaPerc = [] \n",
        "for NumPop in popoloRegioni: \n",
        "  perc = casi_num_CovidITA"
      ],
      "metadata": {
        "id": "JLt5Ey_Wc-Pp"
      },
      "execution_count": 1,
      "outputs": []
    },
    {
      "cell_type": "markdown",
      "source": [
        "#Esercizio 2"
      ],
      "metadata": {
        "id": "lDj-tyLwdDTh"
      }
    },
    {
      "cell_type": "markdown",
      "source": [
        "1. Creare due liste di 20 numeri casuali interi, compresi tra 1 e 10 non utilizzzando la list comprehension. Determinare il tempo di esecuzione di questo programma"
      ],
      "metadata": {
        "id": "HiNbJe-ldQTC"
      }
    },
    {
      "cell_type": "code",
      "source": [
        "#non segue la consegna ma è parzialmente giusta in qulche modo \n",
        "import random\n",
        "\n",
        "for numerino in range(0,20):\n",
        "  print(random.randrange(1,10),end=\", \")\n",
        "\n"
      ],
      "metadata": {
        "id": "hruqXxVAdWHr",
        "colab": {
          "base_uri": "https://localhost:8080/"
        },
        "outputId": "2493381e-5c44-4090-d9bf-cd51998afd8a"
      },
      "execution_count": null,
      "outputs": [
        {
          "output_type": "stream",
          "name": "stdout",
          "text": [
            "6, 4, 8, 8, 4, 9, 5, 8, 3, 1, 1, 9, 9, 7, 1, 7, 9, 3, 1, 9, "
          ]
        }
      ]
    },
    {
      "cell_type": "code",
      "source": [
        "import random , time\n",
        "StarTime = time.time()\n",
        "lista1 = []\n",
        "lista2 = []\n",
        "for numerino in range(0,20):\n",
        "  lista1.append(random.randint(1,10))\n",
        "  lista2.append(random.randint(1,10))\n",
        "endTime = time.time()\n",
        "print(endTime - StarTime )\n",
        "print(lista1)\n",
        "print(lista2)"
      ],
      "metadata": {
        "colab": {
          "base_uri": "https://localhost:8080/"
        },
        "id": "7eB6lz9xtpPs",
        "outputId": "7745ec30-09e4-4a98-8ced-5fa22dd9a9b2"
      },
      "execution_count": null,
      "outputs": [
        {
          "output_type": "stream",
          "name": "stdout",
          "text": [
            "0.0001785755157470703\n",
            "[8, 3, 1, 7, 7, 10, 5, 4, 7, 3, 1, 6, 5, 3, 9, 5, 8, 6, 10, 3]\n",
            "[6, 3, 1, 7, 4, 1, 6, 7, 4, 3, 4, 1, 8, 3, 4, 7, 1, 4, 9, 10]\n"
          ]
        }
      ]
    },
    {
      "cell_type": "markdown",
      "source": [
        "2. Creare due liste di 20 numeri casuali interi, compresi tra 1 e 10  utilizzzando la list comprehension. Determinare il tempo di esecuzione di questo programma\n"
      ],
      "metadata": {
        "id": "wu_rcB1-dWgK"
      }
    },
    {
      "cell_type": "code",
      "source": [
        "import random\n",
        "a = int([random.randrange(1,10) for numerino in range(0,20)])\n",
        "print(a)"
      ],
      "metadata": {
        "id": "rqz-1n7qdx3A",
        "colab": {
          "base_uri": "https://localhost:8080/"
        },
        "outputId": "926870be-5868-440f-effb-a95d21da6c87"
      },
      "execution_count": null,
      "outputs": [
        {
          "output_type": "stream",
          "name": "stdout",
          "text": [
            "[5, 1, 8, 4, 3, 9, 9, 8, 6, 7, 1, 7, 9, 7, 3, 1, 2, 3, 8, 6]\n"
          ]
        }
      ]
    },
    {
      "cell_type": "code",
      "source": [
        "import random , time\n",
        "StarTime = time.time()\n",
        "lista1 = [random.randint(1,10) for numerino in range(20)]\n",
        "lista2 = [random.randint(1,10) for numerino in range(20)]\n",
        "endTime = time.time()\n",
        "print(lista1)\n",
        "print(lista2)\n",
        "print(endTime - StarTime)"
      ],
      "metadata": {
        "colab": {
          "base_uri": "https://localhost:8080/"
        },
        "id": "Jg6KC7f_vZaI",
        "outputId": "5954ccaa-c59f-4cde-9a1c-ad31e08c4513"
      },
      "execution_count": null,
      "outputs": [
        {
          "output_type": "stream",
          "name": "stdout",
          "text": [
            "[4, 10, 2, 5, 10, 3, 2, 3, 9, 5, 7, 2, 10, 3, 8, 10, 2, 3, 1, 8]\n",
            "[3, 1, 6, 3, 5, 8, 9, 3, 6, 7, 6, 4, 7, 7, 3, 9, 9, 8, 1, 7]\n",
            "0.000331878662109375\n"
          ]
        }
      ]
    },
    {
      "cell_type": "markdown",
      "source": [
        "3. creare una terza lista di valore booleani: inserire un valore vero se il primo elemento della prima lista è maggiore del primo elemento della seconda lista e così via per tutti gli elemeni delle due liste"
      ],
      "metadata": {
        "id": "ep4BmOYddyIi"
      }
    },
    {
      "cell_type": "code",
      "source": [
        "ValoriBuleani = [(lista1[numerino] > lista2[numerino])for numerino in range(len(lista1))]\n",
        "print(lista1)\n",
        "print(lista2)\n",
        "print(ValoriBuleani)"
      ],
      "metadata": {
        "id": "838ZxBNVeCfn",
        "colab": {
          "base_uri": "https://localhost:8080/"
        },
        "outputId": "92bda14b-2f41-4488-b192-27b78e9fc7d8"
      },
      "execution_count": null,
      "outputs": [
        {
          "output_type": "stream",
          "name": "stdout",
          "text": [
            "[4, 10, 2, 5, 10, 3, 2, 3, 9, 5, 7, 2, 10, 3, 8, 10, 2, 3, 1, 8]\n",
            "[3, 1, 6, 3, 5, 8, 9, 3, 6, 7, 6, 4, 7, 7, 3, 9, 9, 8, 1, 7]\n",
            "[True, True, False, True, True, False, False, False, True, False, True, False, True, False, True, True, False, False, False, True]\n"
          ]
        }
      ]
    },
    {
      "cell_type": "markdown",
      "source": [
        "4. utilizzando la terza lista, contare quanti sono gli elementi della prima lista che sono maggiori della seconda lista"
      ],
      "metadata": {
        "id": "pJcj5hNVeC4b"
      }
    },
    {
      "cell_type": "code",
      "source": [
        "conteggio = 0 \n",
        "for numerino in ValoriBuleani: \n",
        "  if numerino : #numerico è un valore buleano percio controlla i val true folse\n",
        "    conteggio += 1\n",
        "print(conteggio )"
      ],
      "metadata": {
        "id": "ZOdPph2WeMBg",
        "colab": {
          "base_uri": "https://localhost:8080/"
        },
        "outputId": "0a4dbd6c-f912-463e-eb78-e91fff74a1ea"
      },
      "execution_count": null,
      "outputs": [
        {
          "output_type": "stream",
          "name": "stdout",
          "text": [
            "10\n"
          ]
        }
      ]
    },
    {
      "cell_type": "code",
      "source": [
        "#la più giusto \n",
        "ValoriBuleani.count(True)"
      ],
      "metadata": {
        "colab": {
          "base_uri": "https://localhost:8080/"
        },
        "id": "B8UMkO-DxuZ3",
        "outputId": "a2f16929-3179-462c-bd0b-88641ccf0a7e"
      },
      "execution_count": null,
      "outputs": [
        {
          "output_type": "execute_result",
          "data": {
            "text/plain": [
              "10"
            ]
          },
          "metadata": {},
          "execution_count": 38
        }
      ]
    },
    {
      "cell_type": "markdown",
      "source": [
        "5. eliminare dalla seconda lista tutti gli elementi minori rispetto a quelli della prima lista, inserendoli in una quarta lista"
      ],
      "metadata": {
        "id": "9KHq-xy7eMYO"
      }
    },
    {
      "cell_type": "code",
      "source": [
        "print(lista1)\n",
        "print(lista2)\n",
        "\n",
        "\n",
        "lista3= []\n",
        "indice = 0 \n",
        "for x in lista2:\n",
        "  indice += 1\n",
        "  if x < lista1[indice]:\n",
        "    lista3.append(x)\n",
        "    lista2.pop(x)\n",
        "\n",
        "\n",
        "print(lista3)\n"
      ],
      "metadata": {
        "id": "VfgmqLmteRbD",
        "colab": {
          "base_uri": "https://localhost:8080/"
        },
        "outputId": "5fb6a096-ec4c-4266-f5bb-0b53f1d77f1f"
      },
      "execution_count": null,
      "outputs": [
        {
          "output_type": "stream",
          "name": "stdout",
          "text": [
            "[4, 10, 2, 5, 10, 3, 2, 3, 9, 5, 7, 2, 10, 3, 8, 10, 2, 3, 1, 8]\n",
            "[3, 8, 6, 4, 7, 3, 9, 9, 8, 1, 7]\n",
            "[3, 7, 1]\n"
          ]
        }
      ]
    },
    {
      "cell_type": "markdown",
      "source": [
        "6. svutoare tutte e quattro le liste"
      ],
      "metadata": {
        "id": "R83H7_oheRzI"
      }
    },
    {
      "cell_type": "code",
      "source": [
        "lista1.clear()\n",
        "lista2.clear()\n",
        "lista3.clear()"
      ],
      "metadata": {
        "id": "iPDbfgW2efAJ"
      },
      "execution_count": null,
      "outputs": []
    }
  ]
}
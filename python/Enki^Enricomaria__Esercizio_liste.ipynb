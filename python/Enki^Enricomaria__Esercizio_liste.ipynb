{
  "nbformat": 4,
  "nbformat_minor": 0,
  "metadata": {
    "colab": {
      "provenance": [],
      "collapsed_sections": []
    },
    "kernelspec": {
      "name": "python3",
      "display_name": "Python 3"
    },
    "language_info": {
      "name": "python"
    }
  },
  "cells": [
    {
      "cell_type": "markdown",
      "source": [
        "#Esercizio 1"
      ],
      "metadata": {
        "id": "F1InHJmbdM6X"
      }
    },
    {
      "cell_type": "markdown",
      "source": [
        "Cercare su internet le informazioni riguardanti le statistiche sui casi di COVID nelle regioni italiane (casi totali) e memorizzarli in opportune struttture dati. Scrivere poi le istruzioni per avere le seguenti informazioni:\n",
        "\n"
      ],
      "metadata": {
        "id": "QhSL9Ve9bdnO"
      }
    },
    {
      "cell_type": "markdown",
      "source": [
        "1. il numero totale di casi di COVID in ITalia"
      ],
      "metadata": {
        "id": "xkMF7u4fcPHU"
      }
    },
    {
      "cell_type": "code",
      "source": [
        "CasiReg = [3660000, 2333000, 2660000, 2110000, 1900000, 1660000, 1530000, 1490000, 1430000, 636000, 587000, 571000, 567000, 506000, 456000, 387000, 272000, 221000 ,186000, 91703, 45876]\n",
        "Reg = [\"lombardia\", \"veneto\", \"campania\", \"lazio\", \"emilia romagna\", \"sicilia\", \"piemonte\", \"puglia\",\"toscana\", \"marche\", \"liguria\", \"abruzzo\", \"calabria\", \"friuli\", \"sardegna\", \"umbria\", \"alto adige\", \"Trento\", \"Basilicata\", \"molise\", \"valle d'aosta\"]\n",
        "\n",
        "TotCasi = sum(CasiReg)\n",
        "print(TotCasi)"
      ],
      "metadata": {
        "id": "_FhU3WWPcSc0",
        "outputId": "c3dde55f-cd0a-400f-c1ee-e91abdb61b6b",
        "colab": {
          "base_uri": "https://localhost:8080/"
        }
      },
      "execution_count": 1,
      "outputs": [
        {
          "output_type": "stream",
          "name": "stdout",
          "text": [
            "23299579\n"
          ]
        }
      ]
    },
    {
      "cell_type": "markdown",
      "source": [
        "2. il numero medio di casi di COVID in Italia"
      ],
      "metadata": {
        "id": "cEbSqa1FcTQs"
      }
    },
    {
      "cell_type": "code",
      "source": [
        "from statistics import mean \n",
        "mean(CasiReg) "
      ],
      "metadata": {
        "id": "g1IbY5N7cW10",
        "colab": {
          "base_uri": "https://localhost:8080/"
        },
        "outputId": "21e8bbcf-34a2-4c46-c2fb-da92a2658090"
      },
      "execution_count": 2,
      "outputs": [
        {
          "output_type": "execute_result",
          "data": {
            "text/plain": [
              "1109503.761904762"
            ]
          },
          "metadata": {},
          "execution_count": 2
        }
      ]
    },
    {
      "cell_type": "markdown",
      "source": [
        "3. le regioni che hanno avuto un numero di casi superiore alla media\n",
        "\n",
        "SISTEMARE"
      ],
      "metadata": {
        "id": "RV60Rp2DcXJ1"
      }
    },
    {
      "cell_type": "code",
      "source": [
        "indice = 0\n",
        "for casi in CasiReg:\n",
        "  if casi > mean(CasiReg):\n",
        "   print(Reg[indice])\n",
        "  indice += 1"
      ],
      "metadata": {
        "id": "MVte31bQcbva",
        "outputId": "b37cb18d-09dd-4313-a1bc-6d265dde6135",
        "colab": {
          "base_uri": "https://localhost:8080/"
        }
      },
      "execution_count": 3,
      "outputs": [
        {
          "output_type": "stream",
          "name": "stdout",
          "text": [
            "lombardia\n",
            "veneto\n",
            "campania\n",
            "lazio\n",
            "emilia romagna\n",
            "sicilia\n",
            "piemonte\n",
            "puglia\n",
            "toscana\n"
          ]
        }
      ]
    },
    {
      "cell_type": "code",
      "source": [
        "for Numcasi in CasiReg:\n",
        "  if Numcasi > mean(CasiReg):\n",
        "    print(Reg[CasiReg.index(Numcasi)])"
      ],
      "metadata": {
        "id": "T1g4NGTnd1De",
        "outputId": "0fed3eaa-ab62-4eaf-cf94-91a3527badab",
        "colab": {
          "base_uri": "https://localhost:8080/"
        }
      },
      "execution_count": 4,
      "outputs": [
        {
          "output_type": "stream",
          "name": "stdout",
          "text": [
            "lombardia\n",
            "veneto\n",
            "campania\n",
            "lazio\n",
            "emilia romagna\n",
            "sicilia\n",
            "piemonte\n",
            "puglia\n",
            "toscana\n"
          ]
        }
      ]
    },
    {
      "cell_type": "code",
      "source": [
        "for indice in range(len(CasiReg)):\n",
        "  if CasiReg[indice] > mean(CasiReg):\n",
        "   print(Reg[indice])"
      ],
      "metadata": {
        "id": "oM9EX0kmeuA1",
        "outputId": "7100c30e-bb33-4130-e9f0-8d8b842c87c0",
        "colab": {
          "base_uri": "https://localhost:8080/"
        }
      },
      "execution_count": 5,
      "outputs": [
        {
          "output_type": "stream",
          "name": "stdout",
          "text": [
            "lombardia\n",
            "veneto\n",
            "campania\n",
            "lazio\n",
            "emilia romagna\n",
            "sicilia\n",
            "piemonte\n",
            "puglia\n",
            "toscana\n"
          ]
        }
      ]
    },
    {
      "cell_type": "markdown",
      "source": [
        "4. la percentuale di casi di COVID nelle varie regioni rispetto al totale italiano. Caricare questi dati in un'altra lista"
      ],
      "metadata": {
        "id": "qcz6bUGqccXh"
      }
    },
    {
      "cell_type": "code",
      "source": [
        "tot = sum(CasiReg)\n",
        "ListaPerc = [Numcasi / tot * 100 for Numcasi in CasiReg] #creo lista per la percentuale, uso perc(variabile) per calcolare la percentuale con la formula\n",
        "print(ListaPerc)\n",
        "                                                     #uso il for per calcolare la percetuale con la variabile perc, per tutte le regioni con (in CasiReg)\n",
        "                                                       \n",
        "#Lista = [round(item) for item in ListaPerc] #per rimuovere i numeri dopo la virgola\n",
        "#print(Lista)\n",
        "lista2 = [round(item,2) for item in ListaPerc]\n",
        "print(lista2)"
      ],
      "metadata": {
        "id": "wZAeQZUrcpup",
        "colab": {
          "base_uri": "https://localhost:8080/"
        },
        "outputId": "bee30a62-0540-4956-b5ea-2e811e3e31f4"
      },
      "execution_count": 6,
      "outputs": [
        {
          "output_type": "stream",
          "name": "stdout",
          "text": [
            "[15.70843833701888, 10.01305645908881, 11.416515294117547, 9.055957620521813, 8.154653781512533, 7.124592251216214, 6.56664225563904, 6.394965333922986, 6.1374499513489065, 2.729663055285248, 2.5193588261830824, 2.450688057496661, 2.4335203653250557, 2.1717130597080745, 1.9571169075630077, 1.6609742176028157, 1.1674030676691627, 0.9485149924811945, 0.798297685979648, 0.3935822188031809, 0.19689626151614156]\n",
            "[15.71, 10.01, 11.42, 9.06, 8.15, 7.12, 6.57, 6.39, 6.14, 2.73, 2.52, 2.45, 2.43, 2.17, 1.96, 1.66, 1.17, 0.95, 0.8, 0.39, 0.2]\n"
          ]
        }
      ]
    },
    {
      "cell_type": "code",
      "source": [],
      "metadata": {
        "id": "xdZ7CmONhPYS"
      },
      "execution_count": 6,
      "outputs": []
    },
    {
      "cell_type": "markdown",
      "source": [
        "Cercare adesso la popolazione delle varie regioni italiane e caricare i dati in una opportuna struttura dati."
      ],
      "metadata": {
        "id": "NsxW5y1NcqHj"
      }
    },
    {
      "cell_type": "markdown",
      "source": [],
      "metadata": {
        "id": "VVaEjn-4GFL-"
      }
    },
    {
      "cell_type": "code",
      "source": [
        "NumPopolReg = [9965046, 4854633, 5590681, 5715190, 4431816, 4801468, 4252279, 3912166, 3676285, 1489789, 1507438, 1273660, 1844586, 1197295, 1579181, 859572, 520891, 538223 , 539999, 290769, 123337]"
      ],
      "metadata": {
        "id": "0ey1FJW4cwtS"
      },
      "execution_count": 7,
      "outputs": []
    },
    {
      "cell_type": "markdown",
      "source": [
        "5. trovare, per ogni regione, la percentuale di casi sul totale della popolazione(NumPopolReg) di quella regione: caricare i dati in un'altra lista.   trovare poi la regione che ha la % più alta in rapporto alla popolazione"
      ],
      "metadata": {
        "id": "O08u1Y_mcxFr"
      }
    },
    {
      "cell_type": "code",
      "source": [
        "indice = 0\n",
        "listaperc = []\n",
        "for NumPopol in NumPopolReg: #NumPopol(variabile) per controllare la popolazione in ogni regione (in NumPopolReg)\n",
        "    perc = CasiReg[indice] / NumPopol * 100 #(variabile)perc = all indice della lista CasiReg / il num della popolazione * 100 (formula percentuale)\n",
        "    listaperc.append(round(perc,2))\n",
        "    indice += 1 #scorre tutta la lista\n",
        "print(listaperc)\n",
        "\n"
      ],
      "metadata": {
        "id": "JLt5Ey_Wc-Pp",
        "outputId": "4e9db7e3-53b7-48f4-d864-05aa30744ffe",
        "colab": {
          "base_uri": "https://localhost:8080/"
        }
      },
      "execution_count": 8,
      "outputs": [
        {
          "output_type": "stream",
          "name": "stdout",
          "text": [
            "[36.73, 48.06, 47.58, 36.92, 42.87, 34.57, 35.98, 38.09, 38.9, 42.69, 38.94, 44.83, 30.74, 42.26, 28.88, 45.02, 52.22, 41.06, 34.44, 31.54, 37.2]\n"
          ]
        }
      ]
    },
    {
      "cell_type": "code",
      "source": [
        "listaperc = [round(CasiReg[indice] / NumPopolReg[indice]*100,3) for indice in range (len(CasiReg))]\n",
        "print(listaperc)\n",
        "PercMax = max(listaperc)\n",
        "print(PercMax)\n",
        "print(Reg[listaperc.index(max(listaperc))]) #ez"
      ],
      "metadata": {
        "colab": {
          "base_uri": "https://localhost:8080/"
        },
        "id": "fu_wuUBdj-jr",
        "outputId": "bd38af48-c99c-416c-bb7d-efbeb2105994"
      },
      "execution_count": 9,
      "outputs": [
        {
          "output_type": "stream",
          "name": "stdout",
          "text": [
            "[36.728, 48.057, 47.579, 36.919, 42.872, 34.573, 35.981, 38.086, 38.898, 42.691, 38.94, 44.831, 30.739, 42.262, 28.876, 45.022, 52.218, 41.061, 34.445, 31.538, 37.196]\n",
            "52.218\n",
            "alto adige\n"
          ]
        }
      ]
    },
    {
      "cell_type": "code",
      "source": [],
      "metadata": {
        "id": "e-0sIuGasTto"
      },
      "execution_count": 9,
      "outputs": []
    },
    {
      "cell_type": "markdown",
      "source": [
        "6. trovare la regione che ha avuto meno casi in relazione alla popolazione\n",
        "\n"
      ],
      "metadata": {
        "id": "uULjwtSVc-pc"
      }
    },
    {
      "cell_type": "code",
      "source": [
        "print(min(listaperc))\n",
        "print(listaperc.index(min(listaperc)))\n",
        "print(Reg[listaperc.index(min(listaperc))])"
      ],
      "metadata": {
        "id": "b11IAXxHdC-h",
        "outputId": "9599ad4c-be7f-4c90-d891-67c0f75c8875",
        "colab": {
          "base_uri": "https://localhost:8080/"
        }
      },
      "execution_count": 10,
      "outputs": [
        {
          "output_type": "stream",
          "name": "stdout",
          "text": [
            "28.876\n",
            "14\n",
            "sardegna\n"
          ]
        }
      ]
    },
    {
      "cell_type": "markdown",
      "source": [
        "#Esercizio 2"
      ],
      "metadata": {
        "id": "lDj-tyLwdDTh"
      }
    },
    {
      "cell_type": "markdown",
      "source": [
        "1. Creare due liste di 20 numeri casuali interi, compresi tra 1 e 10 non utilizzzando la list comprehension. Determinare il tempo di esecuzione di questo programma"
      ],
      "metadata": {
        "id": "HiNbJe-ldQTC"
      }
    },
    {
      "cell_type": "code",
      "source": [
        "# + veloce(1 ciclo)\n",
        "import random \n",
        "import time\n",
        "startTime = time.time()\n",
        "lista1 = []\n",
        "lista2 = []\n",
        "for i in range(20):\n",
        "  lista1.append(random.randint(1,10))\n",
        "  lista2.append(random.randint(1,10))\n",
        "endTime = time.time()\n",
        "\n",
        "print(lista1)\n",
        "print(lista2)\n",
        "print(endTime - startTime)"
      ],
      "metadata": {
        "id": "hruqXxVAdWHr",
        "colab": {
          "base_uri": "https://localhost:8080/"
        },
        "outputId": "2d069a77-e521-4cb3-9012-e4f1854fce0b"
      },
      "execution_count": 11,
      "outputs": [
        {
          "output_type": "stream",
          "name": "stdout",
          "text": [
            "[10, 5, 8, 3, 7, 2, 1, 8, 1, 9, 4, 9, 6, 7, 7, 5, 5, 10, 5, 3]\n",
            "[3, 10, 10, 10, 1, 1, 7, 10, 6, 6, 7, 5, 8, 9, 1, 9, 7, 4, 10, 9]\n",
            "0.00037670135498046875\n"
          ]
        }
      ]
    },
    {
      "cell_type": "markdown",
      "source": [
        "2. Creare due liste di 20 numeri casuali interi, compresi tra 1 e 10  utilizzzando la list comprehension. Determinare il tempo di esecuzione di questo programma\n"
      ],
      "metadata": {
        "id": "wu_rcB1-dWgK"
      }
    },
    {
      "cell_type": "code",
      "source": [
        "import random \n",
        "import time\n",
        "startTime = time.time()\n",
        "lista1 = [random.randint(1,10) for i in range(20)]\n",
        "lista2 = [random.randint(1,10) for i in range(20)]\n",
        "endTime = time.time()\n",
        "\n",
        "print(lista1)\n",
        "print(lista2)\n",
        "print(endTime - startTime)"
      ],
      "metadata": {
        "id": "rqz-1n7qdx3A",
        "colab": {
          "base_uri": "https://localhost:8080/"
        },
        "outputId": "d395c292-3203-4211-8239-df9753bc6218"
      },
      "execution_count": 12,
      "outputs": [
        {
          "output_type": "stream",
          "name": "stdout",
          "text": [
            "[2, 3, 5, 6, 7, 3, 9, 2, 9, 5, 10, 3, 6, 1, 7, 6, 7, 4, 1, 1]\n",
            "[4, 7, 7, 2, 5, 2, 2, 6, 2, 1, 3, 6, 4, 9, 9, 10, 2, 6, 7, 2]\n",
            "0.00029397010803222656\n"
          ]
        }
      ]
    },
    {
      "cell_type": "markdown",
      "source": [
        "3. creare una terza lista di valore booleani: inserire un valore vero se il primo elemento della prima lista è maggiore del primo elemento della seconda lista e così via per tutti gli elemeni delle due liste"
      ],
      "metadata": {
        "id": "ep4BmOYddyIi"
      }
    },
    {
      "cell_type": "code",
      "source": [
        "valBooleani = [lista1[x] > lista2[x] for x in range(len(lista1))]\n",
        "print(lista1)\n",
        "print(lista2)\n",
        "print(valBooleani)"
      ],
      "metadata": {
        "id": "838ZxBNVeCfn",
        "colab": {
          "base_uri": "https://localhost:8080/"
        },
        "outputId": "df68d6dd-f774-46a9-c4d4-cceff898115b"
      },
      "execution_count": 13,
      "outputs": [
        {
          "output_type": "stream",
          "name": "stdout",
          "text": [
            "[2, 3, 5, 6, 7, 3, 9, 2, 9, 5, 10, 3, 6, 1, 7, 6, 7, 4, 1, 1]\n",
            "[4, 7, 7, 2, 5, 2, 2, 6, 2, 1, 3, 6, 4, 9, 9, 10, 2, 6, 7, 2]\n",
            "[False, False, False, True, True, True, True, False, True, True, True, False, True, False, False, False, True, False, False, False]\n"
          ]
        }
      ]
    },
    {
      "cell_type": "markdown",
      "source": [
        "4. utilizzando la terza lista, contare quanti sono gli elementi della prima lista che sono maggiori della seconda lista"
      ],
      "metadata": {
        "id": "pJcj5hNVeC4b"
      }
    },
    {
      "cell_type": "code",
      "source": [
        "conteggio = 0\n",
        "for x in valBooleani:\n",
        "  if x: \n",
        "    conteggio += 1\n",
        "print(conteggio)"
      ],
      "metadata": {
        "id": "ZOdPph2WeMBg",
        "colab": {
          "base_uri": "https://localhost:8080/"
        },
        "outputId": "adce83a4-259b-443c-d027-5e9c1e4394ac"
      },
      "execution_count": 14,
      "outputs": [
        {
          "output_type": "stream",
          "name": "stdout",
          "text": [
            "9\n"
          ]
        }
      ]
    },
    {
      "cell_type": "code",
      "source": [
        "valBooleani.count(True)"
      ],
      "metadata": {
        "colab": {
          "base_uri": "https://localhost:8080/"
        },
        "id": "QEjhCOG3x4_j",
        "outputId": "e548f8c8-9297-4aef-a5e9-b617017170c1"
      },
      "execution_count": 15,
      "outputs": [
        {
          "output_type": "execute_result",
          "data": {
            "text/plain": [
              "9"
            ]
          },
          "metadata": {},
          "execution_count": 15
        }
      ]
    },
    {
      "cell_type": "markdown",
      "source": [
        "5. eliminare dalla seconda lista tutti gli elementi minori rispetto a quelli della prima lista, inserendoli in una quarta lista"
      ],
      "metadata": {
        "id": "9KHq-xy7eMYO"
      }
    },
    {
      "cell_type": "code",
      "source": [
        "print(lista1)\n",
        "print(lista2)\n",
        "\n",
        "lista3 = []\n",
        "indice = 0\n",
        "for x in lista2:\n",
        "  indice += 1\n",
        "  if x < lista1[indice]:\n",
        "    lista3.append(x)\n",
        "    lista2.pop(x)\n",
        "print(lista3)\n"
      ],
      "metadata": {
        "id": "VfgmqLmteRbD",
        "outputId": "37489d29-e4fd-4552-c963-5801b910944f",
        "colab": {
          "base_uri": "https://localhost:8080/"
        }
      },
      "execution_count": 16,
      "outputs": [
        {
          "output_type": "stream",
          "name": "stdout",
          "text": [
            "[2, 3, 5, 6, 7, 3, 9, 2, 9, 5, 10, 3, 6, 1, 7, 6, 7, 4, 1, 1]\n",
            "[4, 7, 7, 2, 5, 2, 2, 6, 2, 1, 3, 6, 4, 9, 9, 10, 2, 6, 7, 2]\n",
            "[2, 2, 6, 1, 6, 9, 2]\n"
          ]
        }
      ]
    },
    {
      "cell_type": "markdown",
      "source": [
        "6. svutoare tutte e quattro le liste"
      ],
      "metadata": {
        "id": "R83H7_oheRzI"
      }
    },
    {
      "cell_type": "code",
      "source": [
        "lista1.clear()\n",
        "lista2 = []"
      ],
      "metadata": {
        "id": "iPDbfgW2efAJ"
      },
      "execution_count": 17,
      "outputs": []
    }
  ]
}
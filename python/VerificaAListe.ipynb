{
  "nbformat": 4,
  "nbformat_minor": 0,
  "metadata": {
    "colab": {
      "provenance": [],
      "collapsed_sections": []
    },
    "kernelspec": {
      "name": "python3",
      "display_name": "Python 3"
    },
    "language_info": {
      "name": "python"
    }
  },
  "cells": [
    {
      "cell_type": "markdown",
      "source": [
        "struttura dati"
      ],
      "metadata": {
        "id": "tw_kkDtiEQZK"
      }
    },
    {
      "cell_type": "code",
      "execution_count": null,
      "metadata": {
        "id": "ni7X8VOQ5eTm"
      },
      "outputs": [],
      "source": [
        "h = [\"1\",\"2\",\"3\",\"4\",\"5\",\"6\",\"7\",\"8\",\"9\",\"10\",\"11\",\"12\",\"13\",\"14\",\"15\",\"16\",\"17\",\"18\",\"19\",\"20\",\"21\",\"22\",\"23\",\"24\"]\n",
        "T = [11,11,10,9,11,12,12,12,13,14,15,17,19,21,24,24,24,22,20,18,16,14,12,11]\n",
        "P = [90,90,90,70,70,30,30,10,10,0,0,0,0,0,0,0,0,0,0,5,10,15,20,25]"
      ]
    },
    {
      "cell_type": "markdown",
      "source": [
        "visualizzare gli elementi appartenenti alle ore 18"
      ],
      "metadata": {
        "id": "LMzrjGyB7xFh"
      }
    },
    {
      "cell_type": "code",
      "source": [
        "print(h[17])\n",
        "print(T[17])\n",
        "print(P[17])"
      ],
      "metadata": {
        "colab": {
          "base_uri": "https://localhost:8080/"
        },
        "id": "imURXmrP8oYs",
        "outputId": "4da62ecf-4b3b-4124-f415-1b362a6e1627"
      },
      "execution_count": null,
      "outputs": [
        {
          "output_type": "stream",
          "name": "stdout",
          "text": [
            "18\n",
            "22\n",
            "0\n"
          ]
        }
      ]
    },
    {
      "cell_type": "code",
      "source": [
        "ora = input(\"inserisci: \")\n",
        "print(T[h.index(ora)])\n",
        "print(P[h.index(ora)])"
      ],
      "metadata": {
        "colab": {
          "base_uri": "https://localhost:8080/"
        },
        "id": "rOSiNmzW6m1B",
        "outputId": "1db5b4cf-4fca-419a-8efd-8f5246190491"
      },
      "execution_count": null,
      "outputs": [
        {
          "output_type": "stream",
          "name": "stdout",
          "text": [
            "inserisci: 18\n",
            "22\n",
            "0\n"
          ]
        }
      ]
    },
    {
      "cell_type": "markdown",
      "source": [],
      "metadata": {
        "id": "Ci56u6ujEZkK"
      }
    },
    {
      "cell_type": "code",
      "source": [
        "print(h[9:18])\n",
        "print(T[9:18])\n",
        "print(P[9:18])"
      ],
      "metadata": {
        "colab": {
          "base_uri": "https://localhost:8080/"
        },
        "id": "tgCt4JBs7pux",
        "outputId": "a3e6f9bc-e8f8-47cd-c9bd-46662e58a4cb"
      },
      "execution_count": null,
      "outputs": [
        {
          "output_type": "stream",
          "name": "stdout",
          "text": [
            "['10', '11', '12', '13', '14', '15', '16', '17', '18']\n",
            "[14, 15, 17, 19, 21, 24, 24, 24, 22]\n",
            "[0, 0, 0, 0, 0, 0, 0, 0, 0]\n"
          ]
        }
      ]
    },
    {
      "cell_type": "code",
      "source": [
        "print(h[11:])\n",
        "print(T[11:])\n",
        "print(P[11:])"
      ],
      "metadata": {
        "colab": {
          "base_uri": "https://localhost:8080/"
        },
        "id": "EZ0PS0xn_Oba",
        "outputId": "bfb89805-8ab7-41ad-8e8b-616ec897ea57"
      },
      "execution_count": null,
      "outputs": [
        {
          "output_type": "stream",
          "name": "stdout",
          "text": [
            "['12', '13', '14', '15', '16', '17', '18', '19', '20', '21', '22', '23', '24']\n",
            "[17, 19, 21, 24, 24, 24, 22, 20, 18, 16, 14, 12, 11]\n",
            "[0, 0, 0, 0, 0, 0, 0, 0, 5, 10, 15, 20, 25]\n"
          ]
        }
      ]
    },
    {
      "cell_type": "code",
      "source": [
        "print(h[:14])\n",
        "print(T[:14])\n",
        "print(P[:14])"
      ],
      "metadata": {
        "colab": {
          "base_uri": "https://localhost:8080/"
        },
        "id": "c-gzLvgh_ZXR",
        "outputId": "92ed44b1-3dc5-4d2a-e5dd-5e0a5eae6a86"
      },
      "execution_count": null,
      "outputs": [
        {
          "output_type": "stream",
          "name": "stdout",
          "text": [
            "['1', '2', '3', '4', '5', '6', '7', '8', '9', '10', '11', '12', '13', '14']\n",
            "[11, 11, 10, 9, 11, 12, 12, 12, 13, 14, 15, 17, 19, 21]\n",
            "[90, 90, 90, 70, 70, 30, 30, 10, 10, 0, 0, 0, 0, 0]\n"
          ]
        }
      ]
    },
    {
      "cell_type": "code",
      "source": [
        "print(h[3: :2])\n",
        "print(T[3: :2])\n",
        "print(P[3: :2])"
      ],
      "metadata": {
        "colab": {
          "base_uri": "https://localhost:8080/"
        },
        "id": "JQCJKbis_k7C",
        "outputId": "19eea2d5-cc8c-4b4c-808f-c50f6f62f0f1"
      },
      "execution_count": null,
      "outputs": [
        {
          "output_type": "stream",
          "name": "stdout",
          "text": [
            "['4', '6', '8', '10', '12', '14', '16', '18', '20', '22', '24']\n",
            "[9, 12, 12, 14, 17, 21, 24, 22, 18, 14, 11]\n",
            "[70, 30, 10, 0, 0, 0, 0, 0, 5, 15, 25]\n"
          ]
        }
      ]
    },
    {
      "cell_type": "code",
      "source": [
        "valT_max = max(T)\n",
        "print(\"temperatura massima: \",valT_max)"
      ],
      "metadata": {
        "colab": {
          "base_uri": "https://localhost:8080/"
        },
        "id": "PdNMWEiXAGyJ",
        "outputId": "c2947e4f-50a6-498d-b08e-95a86b793a9d"
      },
      "execution_count": null,
      "outputs": [
        {
          "output_type": "stream",
          "name": "stdout",
          "text": [
            "temperatura massima:  24\n"
          ]
        }
      ]
    },
    {
      "cell_type": "code",
      "source": [
        "from statistics  import mean\n",
        "P_media = mean(P)\n",
        "print(P_media)"
      ],
      "metadata": {
        "colab": {
          "base_uri": "https://localhost:8080/"
        },
        "id": "OMK6RR-wAr9S",
        "outputId": "0eda1458-ce8c-48d0-8e71-9a78fc2c6ef1"
      },
      "execution_count": null,
      "outputs": [
        {
          "output_type": "stream",
          "name": "stdout",
          "text": [
            "23.541666666666668\n"
          ]
        }
      ]
    },
    {
      "cell_type": "markdown",
      "source": [
        "# esercizio per casa trovare tutte i valori più (ore)"
      ],
      "metadata": {
        "id": "tpvbFcH1AxYU"
      }
    },
    {
      "cell_type": "code",
      "source": [
        "Tmax = max(T)\n",
        "Pmax = T.index(Tmax)\n",
        "print(Pmax +1)\n",
        "\n",
        "########## versione alternativa\n",
        "\n",
        "Pmax2 = T.index(max(T))\n",
        "print(Pmax2 + 1)\n",
        "\n",
        "########## versione alternativa(2)\n",
        "\n",
        "print(T.index(max(T))+1)"
      ],
      "metadata": {
        "colab": {
          "base_uri": "https://localhost:8080/"
        },
        "id": "cgLrrfUn-tP9",
        "outputId": "a286fe26-9675-4437-d476-2147120ba23a"
      },
      "execution_count": null,
      "outputs": [
        {
          "output_type": "stream",
          "name": "stdout",
          "text": [
            "15\n",
            "15\n",
            "15\n"
          ]
        }
      ]
    },
    {
      "cell_type": "code",
      "source": [
        "T.pop(15)\n",
        "T.insert(15,25) #il primo valore indica la posizione  \n",
        "print(T,\"\\n\")\n",
        "########## versione alternativa \n",
        "T[15] = 25     #15 è l'elemento della posizione 15 \n",
        "print(T)"
      ],
      "metadata": {
        "colab": {
          "base_uri": "https://localhost:8080/"
        },
        "id": "r1cJNfpZBFXH",
        "outputId": "fc766988-b373-41c9-85bb-c522590999d3"
      },
      "execution_count": null,
      "outputs": [
        {
          "output_type": "stream",
          "name": "stdout",
          "text": [
            "[11, 11, 10, 9, 11, 12, 12, 12, 13, 14, 15, 17, 19, 21, 24, 25, 20, 18, 16, 14, 12, 11, 15, 15] \n",
            "\n",
            "[11, 11, 10, 9, 11, 12, 12, 12, 13, 14, 15, 17, 19, 21, 24, 25, 20, 18, 16, 14, 12, 11, 15, 15]\n"
          ]
        }
      ]
    },
    {
      "cell_type": "code",
      "source": [],
      "metadata": {
        "id": "-nd25YlFDs_l"
      },
      "execution_count": null,
      "outputs": []
    },
    {
      "cell_type": "code",
      "source": [
        "T.reverse()\n",
        "print(T)"
      ],
      "metadata": {
        "colab": {
          "base_uri": "https://localhost:8080/"
        },
        "id": "_XpV3kZZBKUK",
        "outputId": "9af98695-bd43-444e-d89c-be6200940ca4"
      },
      "execution_count": null,
      "outputs": [
        {
          "output_type": "stream",
          "name": "stdout",
          "text": [
            "[11, 12, 14, 16, 18, 20, 22, 24, 24, 24, 21, 19, 17, 15, 14, 13, 12, 12, 12, 11, 9, 10, 11, 11]\n"
          ]
        }
      ]
    },
    {
      "cell_type": "code",
      "source": [
        "P.reverse()\n",
        "print(P)"
      ],
      "metadata": {
        "colab": {
          "base_uri": "https://localhost:8080/"
        },
        "id": "_zJwHwRPDdO6",
        "outputId": "617f7ae9-374a-460e-e892-66488442bffc"
      },
      "execution_count": null,
      "outputs": [
        {
          "output_type": "stream",
          "name": "stdout",
          "text": [
            "[25, 20, 15, 10, 5, 0, 0, 0, 0, 0, 0, 0, 0, 0, 0, 10, 10, 30, 30, 70, 70, 90, 90, 90]\n"
          ]
        }
      ]
    }
  ]
}
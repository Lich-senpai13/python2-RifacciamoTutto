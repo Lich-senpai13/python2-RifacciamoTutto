{
  "nbformat": 4,
  "nbformat_minor": 0,
  "metadata": {
    "colab": {
      "provenance": [],
      "collapsed_sections": []
    },
    "kernelspec": {
      "name": "python3",
      "display_name": "Python 3"
    },
    "language_info": {
      "name": "python"
    }
  },
  "cells": [
    {
      "cell_type": "markdown",
      "source": [
        "# Es: Prep Verifica"
      ],
      "metadata": {
        "id": "rjepyAh7ycVo"
      }
    },
    {
      "cell_type": "markdown",
      "source": [
        "\n",
        "\n",
        "1.   si vuole memorizzare i valori del cambio tra euro e dollaro negli ultimi 15 giorni\n",
        "2.   trovare il giorno in cui il dollaro valeva di più \n",
        "3.   trovare quanto valeva il dollaro una settimana fà \n",
        "4.   trovare il valore del dollaro nel periodo compresto tra 5 e 10 girni fà \n",
        "\n"
      ],
      "metadata": {
        "id": "V3wosXREygvH"
      }
    },
    {
      "cell_type": "code",
      "execution_count": null,
      "metadata": {
        "id": "1Ynx8U3jybe6"
      },
      "outputs": [],
      "source": [
        "#1\n",
        "cambio = [0.9863,0.9866,0.9778,0.9861,0.9858,0.9857,0.9828]\n",
        "giorni = [\"18/10\",\"19/10\",\"20/10\",\"21/10\",\"22/10\",\"23/10\",\"24/10\",]"
      ]
    },
    {
      "cell_type": "code",
      "source": [
        "#2\n",
        "print((giorni[cambio.index(max(cambio))]))"
      ],
      "metadata": {
        "colab": {
          "base_uri": "https://localhost:8080/"
        },
        "id": "FtAQwZuV1d7Q",
        "outputId": "9adc3a6f-6440-4450-b5e1-5e0219a0fc03"
      },
      "execution_count": null,
      "outputs": [
        {
          "output_type": "stream",
          "name": "stdout",
          "text": [
            "19/10\n"
          ]
        }
      ]
    },
    {
      "cell_type": "code",
      "source": [
        "#3\n",
        "print(cambio[giorni.index(\"19/10\")])"
      ],
      "metadata": {
        "colab": {
          "base_uri": "https://localhost:8080/"
        },
        "id": "-cqf-SFc15wY",
        "outputId": "f52906b2-4898-4454-aaa5-e96b29d205c5"
      },
      "execution_count": null,
      "outputs": [
        {
          "output_type": "stream",
          "name": "stdout",
          "text": [
            "0.9866\n"
          ]
        }
      ]
    },
    {
      "cell_type": "code",
      "source": [
        "#4\n",
        "cambio2= [0.9721,0.9721,0.9778,0.9861,0.9858,0.9857,0.9828]\n",
        "print()"
      ],
      "metadata": {
        "id": "iMrfApXJ2TxP"
      },
      "execution_count": null,
      "outputs": []
    }
  ]
}
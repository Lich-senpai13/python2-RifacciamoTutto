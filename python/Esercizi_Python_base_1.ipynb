{
  "nbformat": 4,
  "nbformat_minor": 0,
  "metadata": {
    "colab": {
      "provenance": []
    },
    "kernelspec": {
      "name": "python3",
      "display_name": "Python 3"
    },
    "language_info": {
      "name": "python"
    }
  },
  "cells": [
    {
      "cell_type": "markdown",
      "source": [
        "Scrivere al di sotto di ogni esercizio il codice richiesto. Al termine, consegnare su classroom il notebook realizzato."
      ],
      "metadata": {
        "id": "u24Wx-pXrz4j"
      }
    },
    {
      "cell_type": "markdown",
      "source": [
        "0. assegnare alle variabili x, y e z i valori 10, 20 e 30 in un'unica istruzione. Assegnare alle variabili a, b e c il valore 100 sempre in un'unica istruzione"
      ],
      "metadata": {
        "id": "ym0EsAfkyxmz"
      }
    },
    {
      "cell_type": "code",
      "source": [
        "x = 10 ;y = 20  ;z = 30"
      ],
      "metadata": {
        "id": "K6G4zgcCzAAz"
      },
      "execution_count": null,
      "outputs": []
    },
    {
      "cell_type": "markdown",
      "source": [
        "1. far inserire all'utente due numeri interi, scambiarli e visualizzarli"
      ],
      "metadata": {
        "id": "_w3ESGmCr7SL"
      }
    },
    {
      "cell_type": "code",
      "source": [
        "n1= input(\"inser-1: \")\n",
        "n2= input(\"inser-2: \")\n",
        "\n",
        "print(n1,n2)\n",
        "print(n2,n1)"
      ],
      "metadata": {
        "id": "z5zHMYWlseti",
        "colab": {
          "base_uri": "https://localhost:8080/"
        },
        "outputId": "ed430833-b231-4341-cd02-1ec0789b500a"
      },
      "execution_count": null,
      "outputs": [
        {
          "output_type": "stream",
          "name": "stdout",
          "text": [
            "inser-1: 2\n",
            "inser-2: 3\n",
            "2 3\n",
            "3 2\n"
          ]
        }
      ]
    },
    {
      "cell_type": "markdown",
      "source": [
        "2. far inserire all'utente due numeri e calcolare lìelevamento a potenza del primo per il secondo. Provare poi a vedere qualk è l amasisma potenza del 2 che Python riece a calcolare: lo smartphone è altrettanto potente?"
      ],
      "metadata": {
        "id": "dkojX3qusGJi"
      }
    },
    {
      "cell_type": "code",
      "source": [
        "n1= int(input(\"inser-1: \"))\n",
        "n2= int(input(\"inser-2: \"))\n",
        "ris = pow(n1,n2)\n",
        "\n",
        "print(ris)"
      ],
      "metadata": {
        "id": "pYzftTyguOAc",
        "outputId": "8642b9c2-0299-4b54-acee-020891bc5e64",
        "colab": {
          "base_uri": "https://localhost:8080/"
        }
      },
      "execution_count": null,
      "outputs": [
        {
          "output_type": "stream",
          "name": "stdout",
          "text": [
            "inser-1: 2\n",
            "inser-2: 3\n",
            "8\n"
          ]
        }
      ]
    },
    {
      "cell_type": "markdown",
      "source": [
        "3. far inserire all'utente tre numeri e visualizzare il massimo dei tre"
      ],
      "metadata": {
        "id": "PYqK5w8yseCy"
      }
    },
    {
      "cell_type": "code",
      "source": [
        "n1= int(input(\"inser-1: \"))\n",
        "n2= int(input(\"inser-2: \"))\n",
        "n3= int(input(\"inser-3: \"))\n",
        "\n",
        "list=[n1,n2,n3]\n",
        "p = max(list)\n",
        "print(p)"
      ],
      "metadata": {
        "id": "pJSumYgPsmAb",
        "colab": {
          "base_uri": "https://localhost:8080/"
        },
        "outputId": "0bb30727-4507-4e70-c31f-c22e11cdc0fa"
      },
      "execution_count": null,
      "outputs": [
        {
          "output_type": "stream",
          "name": "stdout",
          "text": [
            "inser-1: 3\n",
            "inser-2: 43\n",
            "inser-3: 234\n",
            "234\n"
          ]
        }
      ]
    },
    {
      "cell_type": "markdown",
      "source": [
        "4. dati tre numeri, dire se con quei tre numeri possiamo costruire un triangolo"
      ],
      "metadata": {
        "id": "sJJHEnXXsmeL"
      }
    },
    {
      "cell_type": "code",
      "source": [
        "lat1= int(input(\"inser-1: \"))\n",
        "lat2= int(input(\"inser-2: \"))\n",
        "lat3= int(input(\"inser-3: \"))\n",
        "\n",
        "\n",
        "if lat1<lat2+lat3 and lat2<lat1+lat3 and lat3<lat2+lat1:\n",
        "  if lat1==lat2 and lat2==lat3:\n",
        "    print(\"Il triangolo è equilatero\")\n",
        "  elif lat1==lat2 or lat2==lat3 or lat3==lat1:\n",
        "    print(\"Il triangolo è isoscele\")\n",
        "  else:\n",
        "    print(\"Il triangolo è scaleno\")\n",
        "else:\n",
        "  print(\"I lati inseriti non possono essere quelli di un triangolo\")"
      ],
      "metadata": {
        "id": "u6iI2qeosvlS",
        "colab": {
          "base_uri": "https://localhost:8080/"
        },
        "outputId": "006ea687-88b5-4c60-e99c-58b100b69312"
      },
      "execution_count": null,
      "outputs": [
        {
          "output_type": "stream",
          "name": "stdout",
          "text": [
            "inser-1: 3\n",
            "inser-2: 4\n",
            "inser-3: 5\n",
            "Il triangolo è scaleno\n"
          ]
        }
      ]
    },
    {
      "cell_type": "markdown",
      "source": [
        "5. far inserire dall'utente le misure di due cateti di un triangolo rettangolo (valori reali) e calcolare l'area del rettangolo e l'ipotenusa"
      ],
      "metadata": {
        "id": "zeDmm2t9sxER"
      }
    },
    {
      "cell_type": "code",
      "source": [
        "cateto1 = int(input(\"inser Cateto: \"))\n",
        "cateto2 = int(input(\"inser Cateto: \"))\n",
        "\n",
        "from math import sqrt\n",
        "\n",
        "ipote = sqrt(cateto1**2 + cateto2**2)\n",
        "print(\"L'ipotenusa= \",ipote)"
      ],
      "metadata": {
        "id": "MJ2jzq4PtSti",
        "colab": {
          "base_uri": "https://localhost:8080/"
        },
        "outputId": "8dd78963-b833-4dee-fc0a-77bc36d152f3"
      },
      "execution_count": null,
      "outputs": [
        {
          "output_type": "stream",
          "name": "stdout",
          "text": [
            "inser Cateto: 3\n",
            "inser Cateto: 4\n",
            "L'ipotenusa=  5.0\n"
          ]
        }
      ]
    },
    {
      "cell_type": "markdown",
      "source": [
        "6. far inserire un numero intero dall'utente e dire se è pari o dispari"
      ],
      "metadata": {
        "id": "64dgOKMRtTDq"
      }
    },
    {
      "cell_type": "code",
      "source": [
        "N_utente = int(input(\"inser Cateto: \"))\n",
        "\n",
        "if N_utente % 2 == 0:\n",
        "  print(\"pari\")\n",
        "else:\n",
        "  print(\"dispari\")"
      ],
      "metadata": {
        "id": "W7fI6Ej8t8Z6",
        "colab": {
          "base_uri": "https://localhost:8080/"
        },
        "outputId": "baf15f82-5648-44c0-fd8d-e340e5e46116"
      },
      "execution_count": null,
      "outputs": [
        {
          "output_type": "stream",
          "name": "stdout",
          "text": [
            "inser Cateto: 4\n",
            "pari\n"
          ]
        }
      ]
    },
    {
      "cell_type": "markdown",
      "source": [
        "7. far inserire all'utente il valore di una temperatura in gradi centigradi e convertirlo in gradi fahrenheit"
      ],
      "metadata": {
        "id": "V16n7CsCuUXC"
      }
    },
    {
      "cell_type": "code",
      "source": [
        "nG = int(input(\"inser Grado: \"))\n",
        "camb=(nG*9/5)+32\n",
        "print(camb)"
      ],
      "metadata": {
        "id": "DUlV468iuhE7",
        "colab": {
          "base_uri": "https://localhost:8080/"
        },
        "outputId": "2b86f2b5-d0ec-4c50-f9b0-685d29e37f1f"
      },
      "execution_count": null,
      "outputs": [
        {
          "output_type": "stream",
          "name": "stdout",
          "text": [
            "inser Grado: 4\n",
            "39.2\n"
          ]
        }
      ]
    },
    {
      "cell_type": "markdown",
      "source": [
        "8. far inserire all'utente il valore di una temperatura in gradi fahrenheit e convertirlo in gradi centigradi"
      ],
      "metadata": {
        "id": "TRbh4pEwuher"
      }
    },
    {
      "cell_type": "code",
      "source": [
        "nG = int(input(\"inser fahrenheit: \"))\n",
        "camb2=(nG*-32)*5/9\n",
        "print(camb2)"
      ],
      "metadata": {
        "id": "CNwCDAIFup-K",
        "colab": {
          "base_uri": "https://localhost:8080/"
        },
        "outputId": "fe4f92da-6f0a-4754-d9c6-58de6a4c8793"
      },
      "execution_count": null,
      "outputs": [
        {
          "output_type": "stream",
          "name": "stdout",
          "text": [
            "inser fahrenheit: 4\n",
            "-71.11111111111111\n"
          ]
        }
      ]
    },
    {
      "cell_type": "markdown",
      "source": [
        "9. far inserire all'utente una velocità in Km/h e visualizzare la stessa velocità in metri al secondo"
      ],
      "metadata": {
        "id": "YRjS88gtuqeC"
      }
    },
    {
      "cell_type": "code",
      "source": [
        "velContest = int(input(\"inser fahrenheit: \"))\n",
        "pablo= velContest/3.6\n",
        "print(pablo)"
      ],
      "metadata": {
        "id": "Wricx3yyx3tb",
        "colab": {
          "base_uri": "https://localhost:8080/"
        },
        "outputId": "775f932d-09b9-4ac8-84ee-27527e6a40cb"
      },
      "execution_count": null,
      "outputs": [
        {
          "output_type": "stream",
          "name": "stdout",
          "text": [
            "inser fahrenheit: 32\n",
            "8.88888888888889\n"
          ]
        }
      ]
    },
    {
      "cell_type": "markdown",
      "source": [
        "10. far inserire all'utente il raggio di un cerchio e visualizzarne il diametro e l'area"
      ],
      "metadata": {
        "id": "ltgIq2OGx4I7"
      }
    },
    {
      "cell_type": "code",
      "source": [
        "raggio = int(input(\"inser Raggio: \"))\n",
        "calDiam= raggio*2\n",
        "\n",
        "import math \n",
        "\n",
        "area= math.pi*raggio*raggio\n",
        "print(area)\n",
        "print(calDiam)"
      ],
      "metadata": {
        "id": "BpbAnnUOzjGD",
        "colab": {
          "base_uri": "https://localhost:8080/"
        },
        "outputId": "20b2f192-c90b-42d7-c709-9b17597e5a9c"
      },
      "execution_count": null,
      "outputs": [
        {
          "output_type": "stream",
          "name": "stdout",
          "text": [
            "inser Raggio: 4\n",
            "50.26548245743669\n",
            "8\n"
          ]
        }
      ]
    },
    {
      "cell_type": "markdown",
      "source": [
        "11. far inserire all'utente il suo nome e poi il suo cognome e visualizzare il suo cognome e il suo nome separati da uno spazio"
      ],
      "metadata": {
        "id": "M18Obb-Gzjdq"
      }
    },
    {
      "cell_type": "code",
      "source": [
        "Nome = str(input(\"inser Nome: \"))\n",
        "Cognome = str(input(\"inser Cognome: \"))\n",
        "\n",
        "print(\"\\n\",Nome +\" \"+ Cognome)"
      ],
      "metadata": {
        "id": "w2C_ln0LzwPa",
        "colab": {
          "base_uri": "https://localhost:8080/"
        },
        "outputId": "e2df0b5f-b1e1-4f1c-9617-536757821599"
      },
      "execution_count": null,
      "outputs": [
        {
          "output_type": "stream",
          "name": "stdout",
          "text": [
            "inser Nome: Molino\n",
            "inser Cognome: Kanzaki\n",
            "\n",
            " Molino Kanzaki\n"
          ]
        }
      ]
    },
    {
      "cell_type": "markdown",
      "source": [
        "12. far inserire all'utente un numero e visualizzare il suo valore assoluto"
      ],
      "metadata": {
        "id": "BS9gBYBUzwp7"
      }
    },
    {
      "cell_type": "code",
      "source": [
        "import numpy as np\n",
        "\n",
        "Val = int(input(\"inser Numero: \"))\n",
        "\n",
        "print(np.absolute(Val))"
      ],
      "metadata": {
        "id": "KOZrphgUz89a",
        "colab": {
          "base_uri": "https://localhost:8080/"
        },
        "outputId": "52465a77-564e-4579-b433-8cc439b61659"
      },
      "execution_count": null,
      "outputs": [
        {
          "output_type": "stream",
          "name": "stdout",
          "text": [
            "inser Numero: -21312312\n",
            "21312312\n"
          ]
        }
      ]
    },
    {
      "cell_type": "markdown",
      "source": [
        "13. far inserire all'utente un voto e controllare che sia compreso tra 1 e 10, estremi inclusi, Se è compreso visualizzare la stringa 'OK' altrimenti visualizzare la stringa 'KO'"
      ],
      "metadata": {
        "id": "j1tl_8INz9ZS"
      }
    },
    {
      "cell_type": "code",
      "source": [
        "Voto = int(input(\"inser Voto: \"))\n",
        "\n",
        "if Voto < 11 and Voto > 0 :\n",
        "  print(\"OK\")\n",
        "  \n",
        "else:\n",
        "  print(\"KO\")"
      ],
      "metadata": {
        "id": "7Cgqx9K20ccr",
        "colab": {
          "base_uri": "https://localhost:8080/"
        },
        "outputId": "f38be664-2850-45de-d972-1d2f28db62f8"
      },
      "execution_count": null,
      "outputs": [
        {
          "output_type": "stream",
          "name": "stdout",
          "text": [
            "inser Voto: 78\n",
            "KO\n"
          ]
        }
      ]
    },
    {
      "cell_type": "markdown",
      "source": [
        "14. far inserire all'utente due numeri e dire se uno è multiplo dell'altro. Ad esempio se l'utente inserisse i valori 60 e 15 il programma dovrebbe visualizzare la stringa '60 è un multiplo di 15'. Stessa cosa se l'utente inserisse prima il 15 e poi il 60., Se non sono multipli, visualizzare un messaggio appropriato"
      ],
      "metadata": {
        "id": "3PIY9PvH0c06"
      }
    },
    {
      "cell_type": "code",
      "source": [
        "n = int(input(\"inser numeri: \"))\n",
        "n2 = int(input(\"inser numeri: \"))\n",
        "\n",
        "if n % n2 == 0:\n",
        "  print(n ,\"è multiplo di \", n2)\n",
        "else :\n",
        "  print(n, \"non è in multiplo di \",n2)\n"
      ],
      "metadata": {
        "id": "VS8xJJQZ1FfS",
        "colab": {
          "base_uri": "https://localhost:8080/"
        },
        "outputId": "9ca6c681-6ee2-4308-a626-40ad88654990"
      },
      "execution_count": null,
      "outputs": [
        {
          "output_type": "stream",
          "name": "stdout",
          "text": [
            "inser numeri: 8\n",
            "inser numeri: 4\n",
            "8 è multiplo di  4\n",
            "True\n"
          ]
        }
      ]
    }
  ]
}
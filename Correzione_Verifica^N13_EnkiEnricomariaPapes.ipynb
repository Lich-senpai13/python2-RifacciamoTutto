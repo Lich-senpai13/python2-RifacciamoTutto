{
  "nbformat": 4,
  "nbformat_minor": 0,
  "metadata": {
    "colab": {
      "provenance": [],
      "collapsed_sections": []
    },
    "kernelspec": {
      "name": "python3",
      "display_name": "Python 3"
    },
    "language_info": {
      "name": "python"
    }
  },
  "cells": [
    {
      "cell_type": "markdown",
      "source": [
        "# Testo 1"
      ],
      "metadata": {
        "id": "9imIpwsNGMt0"
      }
    },
    {
      "cell_type": "code",
      "execution_count": 57,
      "metadata": {
        "colab": {
          "base_uri": "https://localhost:8080/"
        },
        "id": "5LuRqdB4aVnW",
        "outputId": "2f050194-bc2b-41d6-d127-135203679bd2"
      },
      "outputs": [
        {
          "output_type": "stream",
          "name": "stdout",
          "text": [
            "['Bergamo', 'Brescia', 'Como', 'Cremona', 'Lecco', 'Lodi', 'MILANO', 'Mantova', 'Monza e della Brianza', 'Pavia', 'Sondrio', 'Varese']\n"
          ]
        }
      ],
      "source": [
        "#1\n",
        "ProvLomb=[\"Bergamo\",\"Brescia\",\"Como\",\"Cremona\",\"Lecco\",\"Lodi\",\"Mantova\",\"MILANO\",\"Monza e della Brianza\",\"Pavia\",\"Sondrio\",\"Varese\"]\n",
        "ProvLombVer = sorted(ProvLomb)\n",
        "print(ProvLombVer)"
      ]
    },
    {
      "cell_type": "code",
      "source": [
        "#2\n",
        "ProvLombUlt=ProvLombVer[-3:]\n",
        "print(ProvLombUlt)"
      ],
      "metadata": {
        "colab": {
          "base_uri": "https://localhost:8080/"
        },
        "id": "9HSvpeO_bcJ_",
        "outputId": "d3ef5fd3-62e7-4e21-a202-fd2d379a010b"
      },
      "execution_count": 58,
      "outputs": [
        {
          "output_type": "stream",
          "name": "stdout",
          "text": [
            "['Pavia', 'Sondrio', 'Varese']\n"
          ]
        }
      ]
    },
    {
      "cell_type": "code",
      "source": [
        "#3\n",
        "PosProvLomb=ProvLomb.index(\"MILANO\")\n",
        "print(PosProvLomb)"
      ],
      "metadata": {
        "colab": {
          "base_uri": "https://localhost:8080/"
        },
        "id": "jQmpDTNkclHn",
        "outputId": "cedb6418-3203-4b7e-b0da-c4fcc90873e0"
      },
      "execution_count": 59,
      "outputs": [
        {
          "output_type": "stream",
          "name": "stdout",
          "text": [
            "7\n"
          ]
        }
      ]
    },
    {
      "cell_type": "code",
      "source": [
        "#4\n",
        "import random\n",
        "ranProvLomb = random.choice(ProvLomb)\n",
        "print(ranProvLomb)"
      ],
      "metadata": {
        "colab": {
          "base_uri": "https://localhost:8080/"
        },
        "id": "eFQ3vH2TenUO",
        "outputId": "d1a81a84-d98d-45e6-8389-6253c171e212"
      },
      "execution_count": 62,
      "outputs": [
        {
          "output_type": "stream",
          "name": "stdout",
          "text": [
            "Cremona\n"
          ]
        }
      ]
    },
    {
      "cell_type": "code",
      "source": [
        "#5\n",
        "ran1ProvLomb = random.choice(ProvLomb)\n",
        "ran2ProvLomb = random.choice(ProvLomb)\n",
        "ran3ProvLomb = random.choice(ProvLomb)\n",
        "\n",
        "if ran1ProvLomb == ran2ProvLomb == ran3ProvLomb :\n",
        "  print(\"riprova\")\n",
        "if ran1ProvLomb == ran2ProvLomb :\n",
        "  print(\"riprova\")\n",
        "if ran2ProvLomb == ran3ProvLomb :\n",
        "  print(\"riprova\")\n",
        "if ran1ProvLomb == ran3ProvLomb :\n",
        "  print(\"riprova\")\n",
        "if ran1ProvLomb != ran2ProvLomb != ran3ProvLomb:\n",
        "    print(ran1ProvLomb,ran2ProvLomb,ran3ProvLomb)"
      ],
      "metadata": {
        "colab": {
          "base_uri": "https://localhost:8080/"
        },
        "id": "63F41SEhnWKv",
        "outputId": "071cfa2e-dc23-4dd4-d7d9-b4954def5ca1"
      },
      "execution_count": null,
      "outputs": [
        {
          "output_type": "stream",
          "name": "stdout",
          "text": [
            "riprova\n"
          ]
        }
      ]
    },
    {
      "cell_type": "code",
      "source": [],
      "metadata": {
        "id": "tvX619CASvlO"
      },
      "execution_count": null,
      "outputs": []
    },
    {
      "cell_type": "markdown",
      "source": [
        "# testo 2"
      ],
      "metadata": {
        "id": "nRYnGyuyiglI"
      }
    },
    {
      "cell_type": "markdown",
      "source": [
        "caricare con i primi 50 multipli di 5 "
      ],
      "metadata": {
        "id": "WWsOwiGzwh5I"
      }
    },
    {
      "cell_type": "code",
      "source": [
        "multili= [i for i in range(5,255,5)]     #listcompration\n",
        "print(multili)"
      ],
      "metadata": {
        "colab": {
          "base_uri": "https://localhost:8080/"
        },
        "id": "ItSjOBBjwglB",
        "outputId": "31d9171e-28b3-49f6-b96c-348c9f67a8f0"
      },
      "execution_count": 27,
      "outputs": [
        {
          "output_type": "stream",
          "name": "stdout",
          "text": [
            "[5, 10, 15, 20, 25, 30, 35, 40, 45, 50, 55, 60, 65, 70, 75, 80, 85, 90, 95, 100, 105, 110, 115, 120, 125, 130, 135, 140, 145, 150, 155, 160, 165, 170, 175, 180, 185, 190, 195, 200, 205, 210, 215, 220, 225, 230, 235, 240, 245, 250]\n"
          ]
        }
      ]
    },
    {
      "cell_type": "code",
      "source": [
        "#versione altenstiva\n",
        "multili= [i*5 for i in range(1,51)]     \n",
        "print(multili)"
      ],
      "metadata": {
        "colab": {
          "base_uri": "https://localhost:8080/"
        },
        "id": "877clPoCx3yR",
        "outputId": "f030c305-0ab8-4000-c4f5-ce22fba92519"
      },
      "execution_count": 28,
      "outputs": [
        {
          "output_type": "stream",
          "name": "stdout",
          "text": [
            "[5, 10, 15, 20, 25, 30, 35, 40, 45, 50, 55, 60, 65, 70, 75, 80, 85, 90, 95, 100, 105, 110, 115, 120, 125, 130, 135, 140, 145, 150, 155, 160, 165, 170, 175, 180, 185, 190, 195, 200, 205, 210, 215, 220, 225, 230, 235, 240, 245, 250]\n"
          ]
        }
      ]
    },
    {
      "cell_type": "code",
      "source": [
        "#versione altenstiva\n",
        "multili= [i for i in range(5,255) if i % 5 == 0]    \n",
        "print(multili) "
      ],
      "metadata": {
        "colab": {
          "base_uri": "https://localhost:8080/"
        },
        "id": "tWNQ1BfOyj0w",
        "outputId": "039263ee-a0a6-4d84-8c8b-7e701b61c4a5"
      },
      "execution_count": 29,
      "outputs": [
        {
          "output_type": "stream",
          "name": "stdout",
          "text": [
            "[5, 10, 15, 20, 25, 30, 35, 40, 45, 50, 55, 60, 65, 70, 75, 80, 85, 90, 95, 100, 105, 110, 115, 120, 125, 130, 135, 140, 145, 150, 155, 160, 165, 170, 175, 180, 185, 190, 195, 200, 205, 210, 215, 220, 225, 230, 235, 240, 245, 250]\n"
          ]
        }
      ]
    },
    {
      "cell_type": "markdown",
      "source": [
        "caricare in una nuova lista i multipi di 10 "
      ],
      "metadata": {
        "id": "tslBM5hTzY1a"
      }
    },
    {
      "cell_type": "code",
      "source": [
        "multili10 = [i for i in multili if i %10== 0]     #listcompration\n",
        "print(multili10)"
      ],
      "metadata": {
        "id": "3tcwluntzT3w",
        "colab": {
          "base_uri": "https://localhost:8080/"
        },
        "outputId": "2eb9206b-6fef-45a1-ed2b-bbaa3a6949ca"
      },
      "execution_count": 37,
      "outputs": [
        {
          "output_type": "stream",
          "name": "stdout",
          "text": [
            "[10, 20, 30, 40, 50, 60, 70, 80, 90, 100, 110, 120, 130, 140, 150, 160, 170, 180, 190, 200, 210, 220, 230, 240, 250]\n"
          ]
        }
      ]
    },
    {
      "cell_type": "markdown",
      "source": [
        "eliminare dalla seconda lista i valori tra 30 e 60\n"
      ],
      "metadata": {
        "id": "k_Zx2SqMA8JS"
      }
    },
    {
      "cell_type": "code",
      "source": [
        "count = 0 \n",
        "for valore in multili10:\n",
        "  if valore >= 30 and valore <=160:\n",
        "    multili10.remove(valore)\n",
        "    count=+ 1\n",
        "print(multili10)"
      ],
      "metadata": {
        "colab": {
          "base_uri": "https://localhost:8080/"
        },
        "id": "Tobe1gj2BQQB",
        "outputId": "81492c76-3c47-4669-ed56-4c996d32224b"
      },
      "execution_count": 38,
      "outputs": [
        {
          "output_type": "stream",
          "name": "stdout",
          "text": [
            "[10, 20, 40, 60, 80, 100, 120, 140, 160, 170, 180, 190, 200, 210, 220, 230, 240, 250]\n"
          ]
        }
      ]
    },
    {
      "cell_type": "markdown",
      "source": [
        "caricare una nuova lista i 5 elementi centrali "
      ],
      "metadata": {
        "id": "nZUNcFoWDaQq"
      }
    },
    {
      "cell_type": "code",
      "source": [
        "print(len(multili10))\n",
        "#########\n",
        "print(multili10[11:16])\n",
        "#########\n",
        "mulilicentrali= multili10[len(multili10)//2-2:len(multili10)//2+3]\n",
        "print(mulilicentrali)\n",
        "#########\n",
        "print(multili10[len(multili10)//2-2:len(multili10)//2+3])  #universale per trovare i dati centrali di una lista"
      ],
      "metadata": {
        "colab": {
          "base_uri": "https://localhost:8080/"
        },
        "id": "u4Brx7-DDg2D",
        "outputId": "a77721f1-cadc-4536-c1b2-b41ef8a966c2"
      },
      "execution_count": 41,
      "outputs": [
        {
          "output_type": "stream",
          "name": "stdout",
          "text": [
            "18\n",
            "[190, 200, 210, 220, 230]\n",
            "[140, 160, 170, 180, 190]\n",
            "[140, 160, 170, 180, 190]\n"
          ]
        }
      ]
    },
    {
      "cell_type": "code",
      "source": [
        "prodotti = [numerino*10 for numerino in mulilicentrali]\n",
        "print(prodotti)"
      ],
      "metadata": {
        "colab": {
          "base_uri": "https://localhost:8080/"
        },
        "id": "yDen4dMkFiDq",
        "outputId": "53b1112c-428c-4340-983f-7a1fab86d970"
      },
      "execution_count": 43,
      "outputs": [
        {
          "output_type": "stream",
          "name": "stdout",
          "text": [
            "[1400, 1600, 1700, 1800, 1900]\n"
          ]
        }
      ]
    },
    {
      "cell_type": "code",
      "source": [
        "listaunica = multili+multili10+mulilicentrali+prodotti\n",
        "print(listaunica)"
      ],
      "metadata": {
        "colab": {
          "base_uri": "https://localhost:8080/"
        },
        "id": "D_fUaxsiGGlq",
        "outputId": "33da236b-265b-4b9b-b01d-2119b9e10336"
      },
      "execution_count": 44,
      "outputs": [
        {
          "output_type": "stream",
          "name": "stdout",
          "text": [
            "[5, 10, 15, 20, 25, 30, 35, 40, 45, 50, 55, 60, 65, 70, 75, 80, 85, 90, 95, 100, 105, 110, 115, 120, 125, 130, 135, 140, 145, 150, 155, 160, 165, 170, 175, 180, 185, 190, 195, 200, 205, 210, 215, 220, 225, 230, 235, 240, 245, 250, 10, 20, 40, 60, 80, 100, 120, 140, 160, 170, 180, 190, 200, 210, 220, 230, 240, 250, 140, 160, 170, 180, 190, 1400, 1600, 1700, 1800, 1900]\n"
          ]
        }
      ]
    },
    {
      "cell_type": "markdown",
      "source": [
        "CORREZZIONE DELLA VERIFICA PARI \n"
      ],
      "metadata": {
        "id": "P8DyTTuvG3_T"
      }
    },
    {
      "cell_type": "markdown",
      "source": [
        "# TESTO 1"
      ],
      "metadata": {
        "id": "cFDzq1d4HApk"
      }
    },
    {
      "cell_type": "markdown",
      "source": [
        "visualizzare lo studente che si trova al numero "
      ],
      "metadata": {
        "id": "n7DyybEwHFoj"
      }
    },
    {
      "cell_type": "code",
      "source": [
        "Studenti = [\"Papes\",\"Cottone\",\"Neri\",\"Dipace\",\"Fontana\",\"Milella\",\"Bernasconi\",\"Leone\",\"Geremicca\",\"Avasiloae\",\"D'arienzo\"]\n",
        "print(Studenti[9])"
      ],
      "metadata": {
        "colab": {
          "base_uri": "https://localhost:8080/"
        },
        "id": "0mFj6tPGG_LM",
        "outputId": "0fa5042a-1b25-4340-e5c8-abf528540fe9"
      },
      "execution_count": 46,
      "outputs": [
        {
          "output_type": "stream",
          "name": "stdout",
          "text": [
            "Avasiloae\n"
          ]
        }
      ]
    },
    {
      "cell_type": "markdown",
      "source": [
        "visualizza i 5 studenti centrali"
      ],
      "metadata": {
        "id": "JqvTyn_zILfD"
      }
    },
    {
      "cell_type": "code",
      "source": [
        "studentiCentrali= Studenti[len(Studenti)//2-2:len(Studenti)//2+3]\n",
        "print(studentiCentrali)"
      ],
      "metadata": {
        "colab": {
          "base_uri": "https://localhost:8080/"
        },
        "id": "gqP7GTscIKNs",
        "outputId": "9041a5f7-8884-47e7-dcd7-51be30d075b4"
      },
      "execution_count": 47,
      "outputs": [
        {
          "output_type": "stream",
          "name": "stdout",
          "text": [
            "['Dipace', 'Fontana', 'Milella', 'Bernasconi', 'Leone']\n"
          ]
        }
      ]
    },
    {
      "cell_type": "markdown",
      "source": [
        "visualizzare i primi 10 studenti "
      ],
      "metadata": {
        "id": "eoqeHJAnIkDt"
      }
    },
    {
      "cell_type": "code",
      "source": [
        "print(Studenti[:11])"
      ],
      "metadata": {
        "colab": {
          "base_uri": "https://localhost:8080/"
        },
        "id": "q_6wG2ksIiqr",
        "outputId": "23d6838a-a054-400f-cd62-566b60ff510e"
      },
      "execution_count": 49,
      "outputs": [
        {
          "output_type": "stream",
          "name": "stdout",
          "text": [
            "['Papes', 'Cottone', 'Neri', 'Dipace', 'Fontana', 'Milella', 'Bernasconi', 'Leone', 'Geremicca', 'Avasiloae', \"D'arienzo\"]\n"
          ]
        }
      ]
    },
    {
      "cell_type": "markdown",
      "source": [
        "il docente di informatica deve interrogare uno stuidente"
      ],
      "metadata": {
        "id": "eDegtDueI2yz"
      }
    },
    {
      "cell_type": "code",
      "source": [
        "import random\n",
        "numerocasuale = random.randint(0,len(Studenti)-1)\n",
        "print(Studenti[numerocasuale])\n",
        "#####\n",
        "print(Studenti[ random.randint(0,len(Studenti)-1)]) #IN UNA SOLA RIGA"
      ],
      "metadata": {
        "colab": {
          "base_uri": "https://localhost:8080/"
        },
        "id": "bH4EbXOZJBzc",
        "outputId": "9ebbae9f-a89b-4e36-b13e-8e1c96d4a39a"
      },
      "execution_count": 64,
      "outputs": [
        {
          "output_type": "stream",
          "name": "stdout",
          "text": [
            "Milella\n",
            "Fontana\n"
          ]
        }
      ]
    },
    {
      "cell_type": "markdown",
      "source": [
        "il docente di informatica deve interrogare 3 studenti casuali"
      ],
      "metadata": {
        "id": "PJV0TbIHNhiU"
      }
    },
    {
      "cell_type": "code",
      "source": [
        "print(random.sample(Studenti,3))  # sample = prende come esempio un sole campione"
      ],
      "metadata": {
        "colab": {
          "base_uri": "https://localhost:8080/"
        },
        "id": "Yys-iCXnKjFc",
        "outputId": "e8565320-0f21-492d-b6c9-c0cb2126c983"
      },
      "execution_count": 74,
      "outputs": [
        {
          "output_type": "stream",
          "name": "stdout",
          "text": [
            "['Dipace', 'Avasiloae', 'Papes']\n"
          ]
        }
      ]
    },
    {
      "cell_type": "markdown",
      "source": [
        "aggiungere in coda all'elenco una nuovo studente ,Antonio Cassano. dopo visualizzare il nuovo elenco "
      ],
      "metadata": {
        "id": "DKVgzwy2OX2N"
      }
    },
    {
      "cell_type": "code",
      "source": [
        "Studenti.append(\"Greco\")\n",
        "Studenti.sort()\n",
        "print(Studenti)"
      ],
      "metadata": {
        "colab": {
          "base_uri": "https://localhost:8080/"
        },
        "id": "6TC9pt4FOWS2",
        "outputId": "66043b31-c8ba-4998-aee8-c993ecc407e9"
      },
      "execution_count": 75,
      "outputs": [
        {
          "output_type": "stream",
          "name": "stdout",
          "text": [
            "['Avasiloae', 'Bernasconi', 'Cottone', \"D'arienzo\", 'Dipace', 'Fontana', 'Geremicca', 'Greco', 'Leone', 'Milella', 'Neri', 'Papes']\n"
          ]
        }
      ]
    },
    {
      "cell_type": "markdown",
      "source": [
        "# \" terminare la corezzione delle verifiche \""
      ],
      "metadata": {
        "id": "GFuf83MrQD9F"
      }
    }
  ]
}
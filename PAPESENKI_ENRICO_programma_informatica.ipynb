{
  "cells": [
    {
      "cell_type": "markdown",
      "metadata": {
        "id": "view-in-github",
        "colab_type": "text"
      },
      "source": [
        "<a href=\"https://colab.research.google.com/github/Lich-senpai13/python2-RifacciamoTutto/blob/main/PAPESENKI_ENRICO_programma_informatica.ipynb\" target=\"_parent\"><img src=\"https://colab.research.google.com/assets/colab-badge.svg\" alt=\"Open In Colab\"/></a>"
      ]
    },
    {
      "cell_type": "markdown",
      "metadata": {
        "id": "VlfU3EKDvuB5"
      },
      "source": [
        "#Python base"
      ]
    },
    {
      "cell_type": "markdown",
      "metadata": {
        "id": "SPNrHWvYwAiW"
      },
      "source": [
        "inserimento dati, visualizzazione dati"
      ]
    },
    {
      "cell_type": "code",
      "execution_count": null,
      "metadata": {
        "colab": {
          "base_uri": "https://localhost:8080/"
        },
        "id": "nE_-jQ70_GIK",
        "outputId": "01b24244-f1b1-4518-9aed-79115ee7a715"
      },
      "outputs": [
        {
          "name": "stdout",
          "output_type": "stream",
          "text": [
            "iserisci il tuo bel nomino: nono\n",
            "nono\n"
          ]
        }
      ],
      "source": [
        "nome=input(\"iserisci il tuo bel nomino: \")\n",
        "print(nome)"
      ]
    },
    {
      "cell_type": "code",
      "execution_count": null,
      "metadata": {
        "colab": {
          "base_uri": "https://localhost:8080/"
        },
        "id": "eqJ5cDtn_aNK",
        "outputId": "50e21075-b057-441b-8066-e4e25e88b22e"
      },
      "outputs": [
        {
          "name": "stdout",
          "output_type": "stream",
          "text": [
            "iserisci il tuo dolcisimo peso: 44\n",
            "44\n"
          ]
        }
      ],
      "source": [
        "peso=int(input(\"iserisci il tuo dolcisimo peso: \"))\n",
        "print(peso)"
      ]
    },
    {
      "cell_type": "code",
      "execution_count": null,
      "metadata": {
        "colab": {
          "base_uri": "https://localhost:8080/"
        },
        "id": "JSv7xHHE_zRJ",
        "outputId": "aedf875b-3f40-4637-e026-ad317d254ebc"
      },
      "outputs": [
        {
          "name": "stdout",
          "output_type": "stream",
          "text": [
            "iserisci la tua altezza: 12.3\n",
            "12.3\n"
          ]
        }
      ],
      "source": [
        "altezza= float(input(\"iserisci la tua altezza: \"))\n",
        "print(altezza)"
      ]
    },
    {
      "cell_type": "markdown",
      "metadata": {
        "id": "OwP9zJrwwdfV"
      },
      "source": [
        "***tipi di dati (interi, float, stringhe, booleani, ...) ***"
      ]
    },
    {
      "cell_type": "code",
      "execution_count": null,
      "metadata": {
        "colab": {
          "base_uri": "https://localhost:8080/"
        },
        "id": "eHd91o22OEzq",
        "outputId": "d65fc3b7-bd01-4f12-d80b-50f04046017b"
      },
      "outputs": [
        {
          "name": "stdout",
          "output_type": "stream",
          "text": [
            "28  70.5  (45.46385221364354+9.191457500316899j)\n",
            "<class 'int'>\n",
            "<class 'float'>\n",
            "<class 'complex'>\n"
          ]
        }
      ],
      "source": [
        "# numero intero\n",
        "anni = 28\n",
        "# numero in virgola mobile\n",
        "peso = 70.5\n",
        "# numero complesso\n",
        "milano_coordinate = 45.46385221364354+9.191457500316899j\n",
        "print(anni,\"\",peso,\"\",milano_coordinate)\n",
        "print(type(anni))\n",
        "print(type(peso))\n",
        "print(type(milano_coordinate))"
      ]
    },
    {
      "cell_type": "code",
      "execution_count": null,
      "metadata": {
        "colab": {
          "base_uri": "https://localhost:8080/"
        },
        "id": "G-4KZWgk-NnX",
        "outputId": "ae65677b-bc55-41db-af25-813b2f122750"
      },
      "outputs": [
        {
          "name": "stdout",
          "output_type": "stream",
          "text": [
            "70\n",
            "70\n"
          ]
        }
      ],
      "source": [
        "#converisone in numeri interi\n",
        "peso = 70.5\n",
        "peso = int(peso)\n",
        "print(peso)"
      ]
    },
    {
      "cell_type": "code",
      "execution_count": null,
      "metadata": {
        "colab": {
          "base_uri": "https://localhost:8080/"
        },
        "id": "KLy3cUYN-mYP",
        "outputId": "ee941b28-2d27-492c-cc5b-404d700cb9a0"
      },
      "outputs": [
        {
          "name": "stdout",
          "output_type": "stream",
          "text": [
            "28.0\n"
          ]
        }
      ],
      "source": [
        "#converisone per ottenere un numero con virgola mobile\n",
        "anni = 28\n",
        "anni = float(anni)\n",
        "print(anni)"
      ]
    },
    {
      "cell_type": "code",
      "execution_count": null,
      "metadata": {
        "colab": {
          "base_uri": "https://localhost:8080/"
        },
        "id": "0xh1VrW2-zvH",
        "outputId": "8c6d229b-1cf1-4a2e-f925-5ba64d4b3703"
      },
      "outputs": [
        {
          "name": "stdout",
          "output_type": "stream",
          "text": [
            "(45.46385221364354+9.191457500316899j)\n"
          ]
        }
      ],
      "source": [
        "#convertire per ottenere un numero complesso.\n",
        "milano_latitudine = 45.46385221364354\n",
        "milano_longitudine = 9.191457500316899\n",
        "milano_coordinate = complex(milano_latitudine, milano_longitudine)\n",
        "print(milano_coordinate)"
      ]
    },
    {
      "cell_type": "code",
      "execution_count": null,
      "metadata": {
        "colab": {
          "base_uri": "https://localhost:8080/"
        },
        "id": "T2yXO46R_LN-",
        "outputId": "da478bdb-88d0-46eb-af74-a6323137d225"
      },
      "outputs": [
        {
          "name": "stdout",
          "output_type": "stream",
          "text": [
            "1\n",
            "1.18\n"
          ]
        }
      ],
      "source": [
        "#per arrotondare i numeri in python \n",
        "euro_dollaro = 1.18426\n",
        "euro_dollaro_round = round(euro_dollaro)   # arrotondo il numero ad un intero\n",
        "print(euro_dollaro_round)\n",
        "\n",
        "euro_dollaro_round = round(euro_dollaro, 2)  # arrotondo il numero a due cifre decimali\n",
        "print(euro_dollaro_round)"
      ]
    },
    {
      "cell_type": "code",
      "execution_count": null,
      "metadata": {
        "colab": {
          "base_uri": "https://localhost:8080/"
        },
        "id": "_-xOjwW4AL1G",
        "outputId": "bf2a6f26-b04e-413e-9822-5281e982fde2"
      },
      "outputs": [
        {
          "name": "stdout",
          "output_type": "stream",
          "text": [
            "alessandro\n",
            "alex\n"
          ]
        }
      ],
      "source": [
        "#modificare i caratteri di una stringa\n",
        "nome = 'xlessandro'\n",
        "nome = nome.replace('x', 'a') #modifica/sostutuisce tutte le \"x\" con la \"a\"\n",
        "print(nome)\n",
        "\n",
        "nome1 = 'xlex'\n",
        "nome1 = nome1.replace('x', 'a', 1) #modifica/sostutuisce la \"x\" con la \"a\" solamante nella posizione indicata \"1\"\n",
        "print(nome1)"
      ]
    },
    {
      "cell_type": "code",
      "execution_count": null,
      "metadata": {
        "colab": {
          "base_uri": "https://localhost:8080/"
        },
        "id": "z9W8y0lpB-ve",
        "outputId": "28851f14-8a00-43bb-febc-4a8a6e375465"
      },
      "outputs": [
        {
          "name": "stdout",
          "output_type": "stream",
          "text": [
            "['Ciao,', 'mi', 'chiamo', 'Alessandro']\n",
            "['Ciao', ' mi chiamo Alessandro']\n"
          ]
        }
      ],
      "source": [
        "presentazione = 'Ciao, mi chiamo Alessandro'\n",
        "print(presentazione.split())\n",
        "print(presentazione.split(','))"
      ]
    },
    {
      "cell_type": "markdown",
      "metadata": {
        "id": "mITw5b-7vwsP"
      },
      "source": [
        "operazioni matematiche fondamentali (somma, sottrazione, moltiplicazione, divisione tra interi e tra reali, resto, elevamento a potenza, ...)"
      ]
    },
    {
      "cell_type": "code",
      "execution_count": null,
      "metadata": {
        "id": "cHbkjMfwCTs9"
      },
      "outputs": [],
      "source": []
    },
    {
      "cell_type": "markdown",
      "metadata": {
        "id": "eKQ9odxpvzEf"
      },
      "source": [
        "selezione (if, if else, elif)"
      ]
    },
    {
      "cell_type": "code",
      "execution_count": null,
      "metadata": {
        "colab": {
          "base_uri": "https://localhost:8080/"
        },
        "id": "tbBN14_7CrPV",
        "outputId": "14a1d00d-e62d-4b4b-d7cb-a69ec8dbf586"
      },
      "outputs": [
        {
          "name": "stdout",
          "output_type": "stream",
          "text": [
            "Quanti anni hai? > 15\n",
            "minorenne\n"
          ]
        }
      ],
      "source": [
        "#l'if ed elese è la sua struttura\n",
        "'''\n",
        "if <condizione>:\n",
        "    <blocco di codice>\n",
        "else:\n",
        "    <blocco di codice>\n",
        "'''\n",
        "anni = int(input('Quanti anni hai? > '))\n",
        "if anni > 17:\n",
        "\tprint('maggiorenne')\n",
        "else:\n",
        "  print(\"minorenne\")"
      ]
    },
    {
      "cell_type": "code",
      "execution_count": null,
      "metadata": {
        "colab": {
          "base_uri": "https://localhost:8080/"
        },
        "id": "edFbCz2yD611",
        "outputId": "aa325af1-be66-43c0-8650-af6e48035505"
      },
      "outputs": [
        {
          "name": "stdout",
          "output_type": "stream",
          "text": [
            "Quanti anni hai? > 29\n",
            "19-29\n"
          ]
        }
      ],
      "source": [
        "#elif e la sua struttura\n",
        "\n",
        "'''\n",
        "if <condizione>:\n",
        "    <blocco di codice>\n",
        "elif <condizione>:\n",
        "    <blocco di codice>\n",
        "...\n",
        "else:\n",
        "    <blocco di codice>'''\n",
        "\n",
        "anni = int(input('Quanti anni hai? > '))\n",
        "if anni < 19:\n",
        "\tprint('18-')\n",
        "elif anni < 30:\n",
        "\tprint('19-29')\n",
        "elif anni < 40:\n",
        "\tprint('30-39')\n",
        "elif anni < 50:\n",
        "\tprint('40-49')\n",
        "elif anni < 60:\n",
        "\tprint('50-59')\n",
        "elif anni < 70:\n",
        "\tprint('60-69')\n",
        "else:\n",
        "\tprint('70+')"
      ]
    },
    {
      "cell_type": "code",
      "execution_count": null,
      "metadata": {
        "colab": {
          "base_uri": "https://localhost:8080/"
        },
        "id": "wgAcbAasEm-M",
        "outputId": "82780cd1-8f13-45b0-8b1d-1a8688a60390"
      },
      "outputs": [
        {
          "name": "stdout",
          "output_type": "stream",
          "text": [
            "Email: alessandro@gmail.com\n",
            "Password: 123\n",
            "Accesso consentito\n"
          ]
        }
      ],
      "source": [
        "# condizioni annidate in Python\n",
        "email = input('Email: ')\n",
        "password = input('Password: ')\n",
        "if email == 'alessandro@gmail.com':\n",
        "\tif password == '123':\n",
        "\t\tprint('Accesso consentito')\n",
        "\telse:\n",
        "\t\tprint('Accesso negato: password errata')\n",
        "else:\n",
        "\tprint('Accesso negato: email errata')"
      ]
    },
    {
      "cell_type": "code",
      "execution_count": null,
      "metadata": {
        "colab": {
          "base_uri": "https://localhost:8080/"
        },
        "id": "ugCeJwv1FH-P",
        "outputId": "62f2b6e5-0449-4fe5-9ab6-4431993ae842"
      },
      "outputs": [
        {
          "name": "stdout",
          "output_type": "stream",
          "text": [
            "Email: alessandro@gmail.com\n",
            "Password: 123\n",
            "Accesso consentito\n"
          ]
        }
      ],
      "source": [
        "#combinare più condizioni in Python //meglio del precedente==Fanno la stessa roba\n",
        "email = input('Email: ')\n",
        "password = input('Password: ')\n",
        "if email == 'alessandro@gmail.com' and password == '123':\n",
        "    print('Accesso consentito')\n",
        "else:\n",
        "    print('Accesso negato: email o password errati')"
      ]
    },
    {
      "cell_type": "code",
      "execution_count": null,
      "metadata": {
        "colab": {
          "base_uri": "https://localhost:8080/"
        },
        "id": "U8979VInFuhV",
        "outputId": "b51063c7-a17b-4ba4-a46b-1c0803dd1d7f"
      },
      "outputs": [
        {
          "name": "stdout",
          "output_type": "stream",
          "text": [
            "Quanti anni hai? > 12\n",
            "Accesso consentito: no\n"
          ]
        }
      ],
      "source": [
        "#operatori condizionali ternari\n",
        "anni = int(input('Quanti anni hai? > '))\n",
        "accesso = 'si' if anni > 17 else 'no'\n",
        "print(f'Accesso consentito: {accesso}')\n",
        "\n",
        "#equivalente a \n",
        "'''\n",
        "anni = int(input('Quanti anni hai? > '))\n",
        "if anni > 17:\n",
        "\taccesso = 'si'\n",
        "else:\n",
        "\taccesso = 'no'\n",
        "print(f'Accesso consentito: {accesso}')\n",
        "'''"
      ]
    },
    {
      "cell_type": "markdown",
      "metadata": {
        "id": "Zl4IU_bOxFB1"
      },
      "source": [
        "operatori per il confronto tra variabili (uguale, diverso, maggiore, minore, minore uguale, ...)"
      ]
    },
    {
      "cell_type": "code",
      "execution_count": null,
      "metadata": {
        "colab": {
          "base_uri": "https://localhost:8080/",
          "height": 237
        },
        "id": "lMJt7C50Gw4Y",
        "outputId": "9e908e03-0c38-4d25-d0f0-745a6010f47e"
      },
      "outputs": [
        {
          "data": {
            "text/html": [
              "\n",
              "  <div id=\"df-1b252c5a-fa0b-4734-8ff1-ad62999422ea\">\n",
              "    <div class=\"colab-df-container\">\n",
              "      <div>\n",
              "<style scoped>\n",
              "    .dataframe tbody tr th:only-of-type {\n",
              "        vertical-align: middle;\n",
              "    }\n",
              "\n",
              "    .dataframe tbody tr th {\n",
              "        vertical-align: top;\n",
              "    }\n",
              "\n",
              "    .dataframe thead th {\n",
              "        text-align: right;\n",
              "    }\n",
              "</style>\n",
              "<table border=\"1\" class=\"dataframe\">\n",
              "  <thead>\n",
              "    <tr style=\"text-align: right;\">\n",
              "      <th></th>\n",
              "      <th>Operatore</th>\n",
              "      <th>esempio</th>\n",
              "      <th>output</th>\n",
              "    </tr>\n",
              "  </thead>\n",
              "  <tbody>\n",
              "    <tr>\n",
              "      <th>0</th>\n",
              "      <td>Maggiore di</td>\n",
              "      <td>print(10 &gt; 3)</td>\n",
              "      <td>True</td>\n",
              "    </tr>\n",
              "    <tr>\n",
              "      <th>1</th>\n",
              "      <td>Maggiore o uguale di</td>\n",
              "      <td>Print(5 &gt;= 3)</td>\n",
              "      <td>True</td>\n",
              "    </tr>\n",
              "    <tr>\n",
              "      <th>2</th>\n",
              "      <td>Minore di</td>\n",
              "      <td>Print(5 &lt; 3))</td>\n",
              "      <td>False</td>\n",
              "    </tr>\n",
              "    <tr>\n",
              "      <th>3</th>\n",
              "      <td>Minore o uguale di</td>\n",
              "      <td>Print(5 &lt;= 3)</td>\n",
              "      <td>False</td>\n",
              "    </tr>\n",
              "    <tr>\n",
              "      <th>4</th>\n",
              "      <td>Uguale</td>\n",
              "      <td>Print(5 == 3)</td>\n",
              "      <td>False</td>\n",
              "    </tr>\n",
              "    <tr>\n",
              "      <th>5</th>\n",
              "      <td>Diverso da</td>\n",
              "      <td>Print(5 != 3)</td>\n",
              "      <td>True</td>\n",
              "    </tr>\n",
              "  </tbody>\n",
              "</table>\n",
              "</div>\n",
              "      <button class=\"colab-df-convert\" onclick=\"convertToInteractive('df-1b252c5a-fa0b-4734-8ff1-ad62999422ea')\"\n",
              "              title=\"Convert this dataframe to an interactive table.\"\n",
              "              style=\"display:none;\">\n",
              "        \n",
              "  <svg xmlns=\"http://www.w3.org/2000/svg\" height=\"24px\"viewBox=\"0 0 24 24\"\n",
              "       width=\"24px\">\n",
              "    <path d=\"M0 0h24v24H0V0z\" fill=\"none\"/>\n",
              "    <path d=\"M18.56 5.44l.94 2.06.94-2.06 2.06-.94-2.06-.94-.94-2.06-.94 2.06-2.06.94zm-11 1L8.5 8.5l.94-2.06 2.06-.94-2.06-.94L8.5 2.5l-.94 2.06-2.06.94zm10 10l.94 2.06.94-2.06 2.06-.94-2.06-.94-.94-2.06-.94 2.06-2.06.94z\"/><path d=\"M17.41 7.96l-1.37-1.37c-.4-.4-.92-.59-1.43-.59-.52 0-1.04.2-1.43.59L10.3 9.45l-7.72 7.72c-.78.78-.78 2.05 0 2.83L4 21.41c.39.39.9.59 1.41.59.51 0 1.02-.2 1.41-.59l7.78-7.78 2.81-2.81c.8-.78.8-2.07 0-2.86zM5.41 20L4 18.59l7.72-7.72 1.47 1.35L5.41 20z\"/>\n",
              "  </svg>\n",
              "      </button>\n",
              "      \n",
              "  <style>\n",
              "    .colab-df-container {\n",
              "      display:flex;\n",
              "      flex-wrap:wrap;\n",
              "      gap: 12px;\n",
              "    }\n",
              "\n",
              "    .colab-df-convert {\n",
              "      background-color: #E8F0FE;\n",
              "      border: none;\n",
              "      border-radius: 50%;\n",
              "      cursor: pointer;\n",
              "      display: none;\n",
              "      fill: #1967D2;\n",
              "      height: 32px;\n",
              "      padding: 0 0 0 0;\n",
              "      width: 32px;\n",
              "    }\n",
              "\n",
              "    .colab-df-convert:hover {\n",
              "      background-color: #E2EBFA;\n",
              "      box-shadow: 0px 1px 2px rgba(60, 64, 67, 0.3), 0px 1px 3px 1px rgba(60, 64, 67, 0.15);\n",
              "      fill: #174EA6;\n",
              "    }\n",
              "\n",
              "    [theme=dark] .colab-df-convert {\n",
              "      background-color: #3B4455;\n",
              "      fill: #D2E3FC;\n",
              "    }\n",
              "\n",
              "    [theme=dark] .colab-df-convert:hover {\n",
              "      background-color: #434B5C;\n",
              "      box-shadow: 0px 1px 3px 1px rgba(0, 0, 0, 0.15);\n",
              "      filter: drop-shadow(0px 1px 2px rgba(0, 0, 0, 0.3));\n",
              "      fill: #FFFFFF;\n",
              "    }\n",
              "  </style>\n",
              "\n",
              "      <script>\n",
              "        const buttonEl =\n",
              "          document.querySelector('#df-1b252c5a-fa0b-4734-8ff1-ad62999422ea button.colab-df-convert');\n",
              "        buttonEl.style.display =\n",
              "          google.colab.kernel.accessAllowed ? 'block' : 'none';\n",
              "\n",
              "        async function convertToInteractive(key) {\n",
              "          const element = document.querySelector('#df-1b252c5a-fa0b-4734-8ff1-ad62999422ea');\n",
              "          const dataTable =\n",
              "            await google.colab.kernel.invokeFunction('convertToInteractive',\n",
              "                                                     [key], {});\n",
              "          if (!dataTable) return;\n",
              "\n",
              "          const docLinkHtml = 'Like what you see? Visit the ' +\n",
              "            '<a target=\"_blank\" href=https://colab.research.google.com/notebooks/data_table.ipynb>data table notebook</a>'\n",
              "            + ' to learn more about interactive tables.';\n",
              "          element.innerHTML = '';\n",
              "          dataTable['output_type'] = 'display_data';\n",
              "          await google.colab.output.renderOutput(dataTable, element);\n",
              "          const docLink = document.createElement('div');\n",
              "          docLink.innerHTML = docLinkHtml;\n",
              "          element.appendChild(docLink);\n",
              "        }\n",
              "      </script>\n",
              "    </div>\n",
              "  </div>\n",
              "  "
            ],
            "text/plain": [
              "              Operatore        esempio output\n",
              "0           Maggiore di  print(10 > 3)   True\n",
              "1  Maggiore o uguale di  Print(5 >= 3)   True\n",
              "2             Minore di  Print(5 < 3))  False\n",
              "3    Minore o uguale di  Print(5 <= 3)  False\n",
              "4                Uguale  Print(5 == 3)  False\n",
              "5            Diverso da  Print(5 != 3)   True"
            ]
          },
          "execution_count": 40,
          "metadata": {},
          "output_type": "execute_result"
        }
      ],
      "source": [
        "import pandas as pd\n",
        "import numpy as np\n",
        "lst = [[\"Maggiore di\",\"print(10 > 3)\",\"True\"],\n",
        "       [\"Maggiore o uguale di\",\"Print(5 >= 3)\",\"True\"],\n",
        "       [\"Minore di\",\"Print(5 < 3))\",\"False\"],\n",
        "       [\"Minore o uguale di\",\"Print(5 <= 3)\",\"False\"],\n",
        "       [\"Uguale\",\"Print(5 == 3)\",\"False\"],\n",
        "       [\"Diverso da\",\"Print(5 != 3)\",\"True\"]]\n",
        "dfesempOperatori = pd.DataFrame(lst, columns = ['Operatore','esempio','output'])\n",
        "dfesempOperatori"
      ]
    },
    {
      "cell_type": "markdown",
      "metadata": {
        "id": "Q7_OSh5WxxJK"
      },
      "source": [
        "operatori logici (and, or, not)"
      ]
    },
    {
      "cell_type": "code",
      "execution_count": null,
      "metadata": {
        "colab": {
          "base_uri": "https://localhost:8080/",
          "height": 143
        },
        "id": "GB6fMMABJHJO",
        "outputId": "c72d8611-4071-4120-f87e-1272ddae0464"
      },
      "outputs": [
        {
          "data": {
            "text/html": [
              "\n",
              "  <div id=\"df-9bc57a16-53cc-4e5f-9283-ee52e0645429\">\n",
              "    <div class=\"colab-df-container\">\n",
              "      <div>\n",
              "<style scoped>\n",
              "    .dataframe tbody tr th:only-of-type {\n",
              "        vertical-align: middle;\n",
              "    }\n",
              "\n",
              "    .dataframe tbody tr th {\n",
              "        vertical-align: top;\n",
              "    }\n",
              "\n",
              "    .dataframe thead th {\n",
              "        text-align: right;\n",
              "    }\n",
              "</style>\n",
              "<table border=\"1\" class=\"dataframe\">\n",
              "  <thead>\n",
              "    <tr style=\"text-align: right;\">\n",
              "      <th></th>\n",
              "      <th>Operatore</th>\n",
              "      <th>esempio</th>\n",
              "      <th>output</th>\n",
              "      <th>spiegazione</th>\n",
              "    </tr>\n",
              "  </thead>\n",
              "  <tbody>\n",
              "    <tr>\n",
              "      <th>0</th>\n",
              "      <td>And</td>\n",
              "      <td>1 &lt; 2 and 10 &gt; 5</td>\n",
              "      <td>False</td>\n",
              "      <td>and dà come risultato True se entrambe le cond...</td>\n",
              "    </tr>\n",
              "    <tr>\n",
              "      <th>1</th>\n",
              "      <td>Or</td>\n",
              "      <td>1 &lt; 2 or 10 &gt; 5</td>\n",
              "      <td>True</td>\n",
              "      <td>or dà come risultato True se almeno una delle ...</td>\n",
              "    </tr>\n",
              "    <tr>\n",
              "      <th>2</th>\n",
              "      <td>Not</td>\n",
              "      <td>Not(1 &lt; 2)</td>\n",
              "      <td>False</td>\n",
              "      <td>not dà come risultato True se la condizione è ...</td>\n",
              "    </tr>\n",
              "  </tbody>\n",
              "</table>\n",
              "</div>\n",
              "      <button class=\"colab-df-convert\" onclick=\"convertToInteractive('df-9bc57a16-53cc-4e5f-9283-ee52e0645429')\"\n",
              "              title=\"Convert this dataframe to an interactive table.\"\n",
              "              style=\"display:none;\">\n",
              "        \n",
              "  <svg xmlns=\"http://www.w3.org/2000/svg\" height=\"24px\"viewBox=\"0 0 24 24\"\n",
              "       width=\"24px\">\n",
              "    <path d=\"M0 0h24v24H0V0z\" fill=\"none\"/>\n",
              "    <path d=\"M18.56 5.44l.94 2.06.94-2.06 2.06-.94-2.06-.94-.94-2.06-.94 2.06-2.06.94zm-11 1L8.5 8.5l.94-2.06 2.06-.94-2.06-.94L8.5 2.5l-.94 2.06-2.06.94zm10 10l.94 2.06.94-2.06 2.06-.94-2.06-.94-.94-2.06-.94 2.06-2.06.94z\"/><path d=\"M17.41 7.96l-1.37-1.37c-.4-.4-.92-.59-1.43-.59-.52 0-1.04.2-1.43.59L10.3 9.45l-7.72 7.72c-.78.78-.78 2.05 0 2.83L4 21.41c.39.39.9.59 1.41.59.51 0 1.02-.2 1.41-.59l7.78-7.78 2.81-2.81c.8-.78.8-2.07 0-2.86zM5.41 20L4 18.59l7.72-7.72 1.47 1.35L5.41 20z\"/>\n",
              "  </svg>\n",
              "      </button>\n",
              "      \n",
              "  <style>\n",
              "    .colab-df-container {\n",
              "      display:flex;\n",
              "      flex-wrap:wrap;\n",
              "      gap: 12px;\n",
              "    }\n",
              "\n",
              "    .colab-df-convert {\n",
              "      background-color: #E8F0FE;\n",
              "      border: none;\n",
              "      border-radius: 50%;\n",
              "      cursor: pointer;\n",
              "      display: none;\n",
              "      fill: #1967D2;\n",
              "      height: 32px;\n",
              "      padding: 0 0 0 0;\n",
              "      width: 32px;\n",
              "    }\n",
              "\n",
              "    .colab-df-convert:hover {\n",
              "      background-color: #E2EBFA;\n",
              "      box-shadow: 0px 1px 2px rgba(60, 64, 67, 0.3), 0px 1px 3px 1px rgba(60, 64, 67, 0.15);\n",
              "      fill: #174EA6;\n",
              "    }\n",
              "\n",
              "    [theme=dark] .colab-df-convert {\n",
              "      background-color: #3B4455;\n",
              "      fill: #D2E3FC;\n",
              "    }\n",
              "\n",
              "    [theme=dark] .colab-df-convert:hover {\n",
              "      background-color: #434B5C;\n",
              "      box-shadow: 0px 1px 3px 1px rgba(0, 0, 0, 0.15);\n",
              "      filter: drop-shadow(0px 1px 2px rgba(0, 0, 0, 0.3));\n",
              "      fill: #FFFFFF;\n",
              "    }\n",
              "  </style>\n",
              "\n",
              "      <script>\n",
              "        const buttonEl =\n",
              "          document.querySelector('#df-9bc57a16-53cc-4e5f-9283-ee52e0645429 button.colab-df-convert');\n",
              "        buttonEl.style.display =\n",
              "          google.colab.kernel.accessAllowed ? 'block' : 'none';\n",
              "\n",
              "        async function convertToInteractive(key) {\n",
              "          const element = document.querySelector('#df-9bc57a16-53cc-4e5f-9283-ee52e0645429');\n",
              "          const dataTable =\n",
              "            await google.colab.kernel.invokeFunction('convertToInteractive',\n",
              "                                                     [key], {});\n",
              "          if (!dataTable) return;\n",
              "\n",
              "          const docLinkHtml = 'Like what you see? Visit the ' +\n",
              "            '<a target=\"_blank\" href=https://colab.research.google.com/notebooks/data_table.ipynb>data table notebook</a>'\n",
              "            + ' to learn more about interactive tables.';\n",
              "          element.innerHTML = '';\n",
              "          dataTable['output_type'] = 'display_data';\n",
              "          await google.colab.output.renderOutput(dataTable, element);\n",
              "          const docLink = document.createElement('div');\n",
              "          docLink.innerHTML = docLinkHtml;\n",
              "          element.appendChild(docLink);\n",
              "        }\n",
              "      </script>\n",
              "    </div>\n",
              "  </div>\n",
              "  "
            ],
            "text/plain": [
              "  Operatore           esempio output  \\\n",
              "0       And  1 < 2 and 10 > 5  False   \n",
              "1        Or   1 < 2 or 10 > 5   True   \n",
              "2       Not        Not(1 < 2)  False   \n",
              "\n",
              "                                         spiegazione  \n",
              "0  and dà come risultato True se entrambe le cond...  \n",
              "1  or dà come risultato True se almeno una delle ...  \n",
              "2  not dà come risultato True se la condizione è ...  "
            ]
          },
          "execution_count": 45,
          "metadata": {},
          "output_type": "execute_result"
        }
      ],
      "source": [
        "lst1 = [[\"And\",\"1 < 2 and 10 > 5\",\"False\",\"and dà come risultato True se entrambe le condizioni sono vere.\"],\n",
        "       [\"Or\",\"1 < 2 or 10 > 5\",\"True\",\"or dà come risultato True se almeno una delle condizioni è vera.\"],\n",
        "       [\"Not\",\"Not(1 < 2)\",\"False\",\"not dà come risultato True se la condizione è falsa\"]]\n",
        "dfesempOperatoriLogici = pd.DataFrame(lst1, columns = ['Operatore','esempio','output',\"spiegazione\"])\n",
        "dfesempOperatoriLogici"
      ]
    },
    {
      "cell_type": "markdown",
      "metadata": {
        "id": "w2f1OWg6x24S"
      },
      "source": [
        "operatori di appartenenza (in, not in)"
      ]
    },
    {
      "cell_type": "code",
      "execution_count": null,
      "metadata": {
        "id": "64xolA-cLLv6"
      },
      "outputs": [],
      "source": [
        "'''\n",
        "(in) dà come risultato True se il valore appartiene alla raccolta di elementi.\n",
        "(not) in dà come risultato True se il valore non appartiene alla raccolta di elementi.\n",
        "'''"
      ]
    },
    {
      "cell_type": "markdown",
      "metadata": {
        "id": "k5onQQXHx__a"
      },
      "source": [
        "cicli (while, for)"
      ]
    },
    {
      "cell_type": "code",
      "execution_count": null,
      "metadata": {
        "colab": {
          "base_uri": "https://localhost:8080/"
        },
        "id": "r5CJG-rlM5ub",
        "outputId": "1dc187fb-6e61-4f4a-c62a-d5cda65df389"
      },
      "outputs": [
        {
          "name": "stdout",
          "output_type": "stream",
          "text": [
            "1\n",
            "2\n",
            "3\n"
          ]
        }
      ],
      "source": [
        "#diffrenze\n",
        "'''\n",
        "for (Python for loop), ripetono un blocco di codice sugli elementi di una sequenza.\n",
        "while (Python while loop), ripetono un blocco di codice finchè una condizione è vera.\n",
        "'''\n",
        "#struttura\n",
        "'''\n",
        "for <elemento> in <sequenza>:\n",
        "    <blocco di codice>\n",
        "'''\n",
        "#spiegazione\n",
        "'''\n",
        "<elemento> è una variabile temporanea che identifica gli elementi della sequenza.\n",
        "<sequenza> è la variabile su qui si sta lavorando\n",
        "'''\n",
        "#esmpio\n",
        "numeri = [1, 2, 3]\n",
        "for numero in numeri:\n",
        "\tprint(numero)"
      ]
    },
    {
      "cell_type": "code",
      "execution_count": null,
      "metadata": {
        "colab": {
          "base_uri": "https://localhost:8080/"
        },
        "id": "0P0kzsOpPrV6",
        "outputId": "98c5d744-1977-48ed-9f30-3920f826f2d1"
      },
      "outputs": [
        {
          "name": "stdout",
          "output_type": "stream",
          "text": [
            "lombardia\n",
            "veneto\n",
            "campania\n",
            "lazio\n",
            "emilia romagna\n",
            "sicilia\n",
            "piemonte\n",
            "puglia\n",
            "toscana\n"
          ]
        }
      ],
      "source": [
        "CasiReg = [3660000, 2333000, 2660000, 2110000, 1900000, 1660000, 1530000, 1490000, 1430000, 636000, 587000, 571000, 567000, 506000, 456000, 387000, 272000, 221000 ,186000, 91703, 45876]\n",
        "Reg = [\"lombardia\", \"veneto\", \"campania\", \"lazio\", \"emilia romagna\", \"sicilia\", \"piemonte\", \"puglia\",\"toscana\", \"marche\", \"liguria\", \"abruzzo\", \"calabria\", \"friuli\", \"sardegna\", \"umbria\", \"alto adige\", \"Trento\", \"Basilicata\", \"molise\", \"valle d'aosta\"]\n",
        "\n",
        "from statistics import mean #importato una funzione per il mean()\n",
        "mean(CasiReg) \n",
        "\n",
        "for Numcasi in CasiReg:\n",
        "  if Numcasi > mean(CasiReg):\n",
        "    print(Reg[CasiReg.index(Numcasi)])    #index prende solamente le parole chiave della lista "
      ]
    },
    {
      "cell_type": "markdown",
      "metadata": {
        "id": "Ns1JjBYbzMJO"
      },
      "source": [
        "generazione di numeri casuali (interi, float), range()"
      ]
    },
    {
      "cell_type": "code",
      "execution_count": null,
      "metadata": {
        "id": "vGrHBzzMYvLv"
      },
      "outputs": [],
      "source": []
    },
    {
      "cell_type": "markdown",
      "metadata": {
        "id": "fHcv7nA-3Hj_"
      },
      "source": [
        "determinazione tempo di esecuzione di un programma"
      ]
    },
    {
      "cell_type": "code",
      "execution_count": null,
      "metadata": {
        "colab": {
          "base_uri": "https://localhost:8080/"
        },
        "id": "0gR49EJyT-Bz",
        "outputId": "8fb74fd3-cf8f-4162-b911-b5defa3f71af"
      },
      "outputs": [
        {
          "name": "stdout",
          "output_type": "stream",
          "text": [
            "(45.46385221364354+9.191457500316899j)\n",
            "0.0020241737365722656\n",
            "(9.191457500316899+32.22222222222222j)\n",
            "seconda Prova:  0.0008728504180908203\n"
          ]
        }
      ],
      "source": [
        "import time  #per importare il cronometro\n",
        "#esempio\n",
        "start = time.time()  #mette start al conteggio\n",
        "milano_latitudine = 45.46385221364354\n",
        "milano_longitudine = 9.191457500316899\n",
        "milano_coordinate = complex(milano_latitudine, milano_longitudine)\n",
        "print(milano_coordinate)\n",
        "end = time.time() #mette end al conteggio\n",
        "print(end-start) #si fà la sotrazione tra i due tempi\n",
        "\n",
        "############## difference\n",
        "\n",
        "start1 = time.time()   #mette start al conteggio\n",
        "milano_latitudine = 45.46385221364354\n",
        "milano_longitudine = 9.191457500316899\n",
        "secondoMilano=32.22222222222222\n",
        "milano_coordinate = complex(milano_longitudine,secondoMilano)\n",
        "print(milano_coordinate)\n",
        "end1 = time.time()#mette end al conteggio\n",
        "print(\"seconda Prova: \",end1-start1)  #si fà la sotrazione tra i due tempi\n"
      ]
    },
    {
      "cell_type": "markdown",
      "metadata": {
        "id": "lS9h1SbYyJ3J"
      },
      "source": [
        "#Strutture dati"
      ]
    },
    {
      "cell_type": "markdown",
      "metadata": {
        "id": "eHzg5yNHyRRZ"
      },
      "source": [
        "liste (creazione anche con list comprehension, inserimento, modifica, cancellazione, visualizzazione, ricerca, metodi specifici)"
      ]
    },
    {
      "cell_type": "code",
      "execution_count": null,
      "metadata": {
        "colab": {
          "base_uri": "https://localhost:8080/"
        },
        "id": "KYrsTLHkZDDf",
        "outputId": "df040fab-5d48-45cc-8969-afc36ed2385a"
      },
      "outputs": [
        {
          "name": "stdout",
          "output_type": "stream",
          "text": [
            "5\n",
            "[5, 20, 20, 6]\n",
            "[5, 20]\n",
            "[5, 20, 20, 6, 7, 8, 9, 13, 10, 11, 12, 13]\n",
            "[1, 2, 3, 4]\n",
            "[1, 5, 7, 10]\n",
            "13\n"
          ]
        }
      ],
      "source": [
        "#inizializazione lista\n",
        "lista = [1,2,3,4,5,6,7,8,9]\n",
        "\n",
        "#inserimento di elementi\n",
        "lista.append(10) #aggiunge un elemento alla fine di una lista\n",
        "lista.extend([11,12,13]) #aggiunge 3 elementi alla fine della lista \n",
        "lista.insert(5,20) #aggiunge il 20 alla posizione numero 5\n",
        "\n",
        "#rimozione di elementi di una lista\n",
        "lista.remove(10) #rimuove la prima occorrenza(istanza) del numero 10 \n",
        "lista.pop(10) #rimuove l'elemento nella posizione 10 \n",
        "del lista[10] #rimuove l'elemento nella posizione 10\n",
        "\n",
        "#aggiunta di un elemento di una lista\n",
        "lista.append(10) #aggiunge un elemento alla fine di una lista\n",
        "lista.extend([11,12,13]) #aggiunge 3 elementi alla fine della lista \n",
        "lista.insert(5,20) #aggiunge il 20 alla posizione numero 5\n",
        "\n",
        "#visualizazione di uno o più elementi di una lista\n",
        "print(lista[4]) #visualizza il 5° elemento, cioè l'elemento in posizione 4 \n",
        "print(lista[4:8]) #slicing: visualizza gli elementi dalla posizione 4 fino alla posizione 7\n",
        "print(lista[4:8:2]) #slicing: visualizza gli elementi 2 a 2 \n",
        "print(lista[4:]) # visualizza gli elementi dal 4 fino alla fine \n",
        "print(lista[:4]) #visualizza gli elementi fino alla posizione 3 \n",
        "print(lista[::4]) #prende tutti i numeri a 4 a 4 \n",
        "print(lista[-1]) #visualizza l'ultimo elemento\n"
      ]
    },
    {
      "cell_type": "code",
      "execution_count": null,
      "metadata": {
        "id": "MiYyaw6taqCu"
      },
      "outputs": [],
      "source": [
        "lista.index(10) #restituisce l'indice di dove si trova la prima occorrenza del elemento 10"
      ]
    },
    {
      "cell_type": "code",
      "execution_count": null,
      "metadata": {
        "colab": {
          "base_uri": "https://localhost:8080/"
        },
        "id": "Q-RbrYg8aw2H",
        "outputId": "8a4c8540-7814-45a8-8f7f-a417542588f2"
      },
      "outputs": [
        {
          "name": "stdout",
          "output_type": "stream",
          "text": [
            "[20, 20, 13, 13, 12, 11, 10, 9, 8, 7, 6, 5, 4, 3, 2, 1]\n",
            "None\n"
          ]
        },
        {
          "data": {
            "text/plain": [
              "True"
            ]
          },
          "execution_count": 75,
          "metadata": {},
          "output_type": "execute_result"
        }
      ],
      "source": [
        "#trovare minimo è massimo di una lista\n",
        "min(lista)\n",
        "max(lista)\n",
        "\n",
        "#effettuare operazioni su eleminti di una lista\n",
        "sum(lista) #calcola la somma degli elementi una lista\n",
        "from statistics  import mean\n",
        "mean(lista) #calcola la media degli elementi una lista\n",
        "len(lista) #conta la lunghezza della lista\n",
        "\n",
        "#ordinare gli elementi di una lista\n",
        "lista.sort() #ordina gli elementi di una lista in ordine crescente\n",
        "lista.sort(reverse = True) #ordina gli elementi di una lista in ordine decrescente \n",
        "print(lista)\n",
        "\n",
        "#controllo della presenza di un elemento nella lista\n",
        "9 in lista        #restituisce True se il 9 è presente nella lista"
      ]
    },
    {
      "cell_type": "markdown",
      "metadata": {
        "id": "eoUpQiJnxVJV"
      },
      "source": [
        "***tuple (creazione anche con list comprehension, inserimento, modifica, cancellazione, visualizzazione, ricerca, metodi specifici)***"
      ]
    },
    {
      "cell_type": "code",
      "execution_count": null,
      "metadata": {
        "id": "HwiPxnxRHlYl"
      },
      "outputs": [],
      "source": [
        "#le tuple sono una struttura dati non modificabile | ;può anche leggere i valori booleani  | ;elimina tutti i duplicati di una struttura dati "
      ]
    },
    {
      "cell_type": "code",
      "execution_count": null,
      "metadata": {
        "colab": {
          "base_uri": "https://localhost:8080/"
        },
        "id": "fBFa6a1qIKFI",
        "outputId": "cb2b418e-76d1-4a29-b6f0-57bc4728c8e9"
      },
      "outputs": [
        {
          "name": "stdout",
          "output_type": "stream",
          "text": [
            "(1, 2, 3, 4, 5)\n",
            "(1, 2, 3, 4, 5)\n"
          ]
        }
      ],
      "source": [
        "ciao= (1,2,3,4,5,)\n",
        "print(ciao)"
      ]
    },
    {
      "cell_type": "code",
      "execution_count": null,
      "metadata": {
        "colab": {
          "base_uri": "https://localhost:8080/"
        },
        "id": "vaJtnkmzJCzB",
        "outputId": "d5b7bbd8-1867-4799-af70-9493634b35ae"
      },
      "outputs": [
        {
          "name": "stdout",
          "output_type": "stream",
          "text": [
            "('ciao', 1, True, 'cetriolo')\n"
          ]
        }
      ],
      "source": [
        "tupla3=(\"ciao\",1, True,\"cetriolo\")  #legge i valori buoleani\n",
        "print(tupla3)"
      ]
    },
    {
      "cell_type": "code",
      "execution_count": null,
      "metadata": {
        "id": "gK8BA32eJHqT"
      },
      "outputs": [],
      "source": [
        "#è possibile convertire le strutture dati in delle tuple ne segente modo\n",
        "ploto=[1,2,3]\n",
        "prova2=tuple(ploto) #la lista e stata è stata convertita in tupla\n",
        "print(prova2)"
      ]
    },
    {
      "cell_type": "code",
      "execution_count": null,
      "metadata": {
        "colab": {
          "base_uri": "https://localhost:8080/"
        },
        "id": "8SYeWYO1K018",
        "outputId": "4917b8bf-3010-4471-c6ab-621fbf013ec0"
      },
      "outputs": [
        {
          "name": "stdout",
          "output_type": "stream",
          "text": [
            "[93, 6, 48, 22, 98, 50, 58, 89, 65, 33, 19, 97, 67, 94, 86, 99, 45, 20, 39, 9]\n",
            "(81, 53, 29, 7, 35, 89, 19, 28, 8, 52, 41, 38, 59, 90, 61, 43, 91, 16, 58, 75)\n"
          ]
        }
      ],
      "source": [
        "#elimina tutti i duplicati dalla generazione di numeri casuali\n",
        "import random\n",
        "lista0 = random.sample(range(1,100),20)  #sample = valori diversi, (range(1,100) = i numeri casuali sono da 1 a 100 , 20 = il numero di volte che lo deve fare\n",
        "print(lista0)\n",
        "########################################################################### altra versione\n",
        "lista1 = tuple(random.sample(range(1,100),20))   #genera 20 numeri casuali da 1 a 100\n",
        "print(lista1)"
      ]
    },
    {
      "cell_type": "code",
      "execution_count": null,
      "metadata": {
        "colab": {
          "base_uri": "https://localhost:8080/"
        },
        "id": "tVeny7Q7X5fi",
        "outputId": "374851ac-5891-4429-85f1-2958f8b8d252"
      },
      "outputs": [
        {
          "name": "stdout",
          "output_type": "stream",
          "text": [
            "<class 'list'> \t \t \t \t [98, 67, 68, 5, 44, 78, 18, 51, 21, 88, 57, 26, 60, 61, 30, 63]\n"
          ]
        }
      ],
      "source": [
        "#caricare in una lista 20 numeri casuali tra 1 e 100 ed eliminarne i duplicati\n",
        "listaConDuplicati=list(set([random.randint(1,100)for i in range(20)]))\n",
        "print(type(listaConDuplicati),\"\\t \\t \\t \\t\",listaConDuplicati)"
      ]
    },
    {
      "cell_type": "code",
      "execution_count": null,
      "metadata": {
        "colab": {
          "base_uri": "https://localhost:8080/"
        },
        "id": "9JuFfgPWMcxm",
        "outputId": "89bffbf9-8819-4cf8-d19f-020871e20088"
      },
      "outputs": [
        {
          "name": "stdout",
          "output_type": "stream",
          "text": [
            "[81, 53, 29, 7, 35, 89, 19, 28, 8, 52, 41, 38, 59, 90, 61, 43, 91, 16, 58, 75]\n",
            "['onigiri', 'Bentō', 'Dango', 81, 53, 29, 7, 35, 89, 19, 28, 8, 52, 41, 38, 59, 90, 61, 43, 91, 16, 58, 75]\n"
          ]
        }
      ],
      "source": [
        "#per aggiungere dai valori in una tupla la si deve convertire\n",
        "tumpla2= list(lista1)\n",
        "print(tumpla2)\n",
        "tumpla2[0:0] = [\"onigiri\",\"Bentō\",\"Dango\"]   # mette i valori al inizio\n",
        "print(tumpla2)"
      ]
    },
    {
      "cell_type": "markdown",
      "metadata": {
        "id": "5enXw7_vznk-"
      },
      "source": [
        "***set (creazione anche con list comprehension, inserimento, modifica, cancellazione, visualizzazione, ricerca, metodi specifici)***"
      ]
    },
    {
      "cell_type": "code",
      "execution_count": null,
      "metadata": {
        "colab": {
          "base_uri": "https://localhost:8080/"
        },
        "id": "iyMPUmOzJjho",
        "outputId": "084bdbba-e845-4883-bb97-065bbb88f5f5"
      },
      "outputs": [
        {
          "name": "stdout",
          "output_type": "stream",
          "text": [
            "{'salve', 'ciao', 'ciaone'}\n"
          ]
        }
      ],
      "source": [
        "insieme ={\"ciao\",\"ciaone\",\"salve\"} #non hanno un ordine predefinito\n",
        "print(insieme)"
      ]
    },
    {
      "cell_type": "code",
      "execution_count": null,
      "metadata": {
        "colab": {
          "base_uri": "https://localhost:8080/"
        },
        "id": "JIt1Z68ZOXOp",
        "outputId": "bfb38879-4258-42bc-d276-770d65f40dde"
      },
      "outputs": [
        {
          "name": "stdout",
          "output_type": "stream",
          "text": [
            "{' super ciaone', 'super ciao', 'super salve'}\n"
          ]
        }
      ],
      "source": [
        "insieme2=set((\"super ciao\",\" super ciaone\",\"super salve\"))  #(())=conversione tupla ,([])=conversione di una lista\n",
        "print(insieme2)"
      ]
    },
    {
      "cell_type": "code",
      "execution_count": null,
      "metadata": {
        "colab": {
          "base_uri": "https://localhost:8080/"
        },
        "id": "G_Et0PMZOmWj",
        "outputId": "d76ffd26-f088-448c-f95c-a8dac2605b79"
      },
      "outputs": [
        {
          "name": "stdout",
          "output_type": "stream",
          "text": [
            "<class 'set'>\n",
            "<class 'set'>\n"
          ]
        }
      ],
      "source": [
        "print(type(insieme))  #type serve per controllare il valore\n",
        "print(type(insieme2))"
      ]
    },
    {
      "cell_type": "code",
      "execution_count": null,
      "metadata": {
        "colab": {
          "base_uri": "https://localhost:8080/"
        },
        "id": "9srkvySEO9Q6",
        "outputId": "1897da6d-16a3-4670-959f-cef65bd4960c"
      },
      "outputs": [
        {
          "name": "stdout",
          "output_type": "stream",
          "text": [
            "{0, 1, 2, 3, 4, 5, 6, 7, 8, 9}\n"
          ]
        }
      ],
      "source": [
        "CiProviamo={i for i in range(10)}  #è possibile fare list comprehension\n",
        "print(CiProviamo)"
      ]
    },
    {
      "cell_type": "code",
      "execution_count": null,
      "metadata": {
        "colab": {
          "base_uri": "https://localhost:8080/"
        },
        "id": "gncQehe7PONz",
        "outputId": "735860c7-b846-4737-912c-206b788e493c"
      },
      "outputs": [
        {
          "name": "stdout",
          "output_type": "stream",
          "text": [
            "{1, 2.3, 'marceline'}\n"
          ]
        }
      ],
      "source": [
        "# i valori buleani non le legge\n",
        "insiemeMisto={1,\"marceline\",True,2.3}\n",
        "print(insiemeMisto) "
      ]
    },
    {
      "cell_type": "code",
      "execution_count": null,
      "metadata": {
        "colab": {
          "base_uri": "https://localhost:8080/"
        },
        "id": "oP1Cz1NYU5En",
        "outputId": "28ba1756-cebd-420d-ce9d-989c090d88a1"
      },
      "outputs": [
        {
          "name": "stdout",
          "output_type": "stream",
          "text": [
            "{'tronco', 1, 2.3, 'corteccia', 'marceline', 'linfa'}\n"
          ]
        }
      ],
      "source": [
        "#aggiungere elementi\n",
        "inser1={\"tronco\",\"corteccia\",\"linfa\"}\n",
        "insiemeMisto.update(inser1)                #↲ insiemeMisto viene dal codice sopra \n",
        "print(insiemeMisto)"
      ]
    },
    {
      "cell_type": "code",
      "execution_count": null,
      "metadata": {
        "colab": {
          "base_uri": "https://localhost:8080/"
        },
        "id": "9_u995uPWksF",
        "outputId": "f8637f71-02ec-471a-cf2b-b3f3666310c8"
      },
      "outputs": [
        {
          "name": "stdout",
          "output_type": "stream",
          "text": [
            "{1, 2, 3, 4, 5, 6, 40, 10, 876, 45, 12, 142, 50, 20, 53, 60, 30}\n"
          ]
        }
      ],
      "source": [
        "#metodo union\n",
        "set1={1,2,3,4,5,6}\n",
        "set2={10,20,30,40,50,60}\n",
        "set4={12,142,53,45,876}\n",
        "set3=set1.union(set2,set4)   #per aggiungere/unire\n",
        "print(set3)"
      ]
    },
    {
      "cell_type": "code",
      "execution_count": null,
      "metadata": {
        "colab": {
          "base_uri": "https://localhost:8080/"
        },
        "id": "VSteuNi5VsYQ",
        "outputId": "55ce7f86-903c-4ab3-d7c5-d32410742ec1"
      },
      "outputs": [
        {
          "name": "stdout",
          "output_type": "stream",
          "text": [
            "{76, 'cecco', 'guinizzelli', 'leopardi', 'dante'}\n",
            "{76, 'cecco', 'guinizzelli', 'dante'}\n"
          ]
        }
      ],
      "source": [
        "#rimuovere elementi\n",
        "insime3={\"cecco\",\"leopardi\",\"dante\",\"guinizzelli\",76}\n",
        "print(insime3)\n",
        "insime3.remove(\"leopardi\")\n",
        "print(insime3)"
      ]
    },
    {
      "cell_type": "code",
      "execution_count": null,
      "metadata": {
        "colab": {
          "base_uri": "https://localhost:8080/"
        },
        "id": "yH28lloaV7ru",
        "outputId": "06286269-322d-4899-fafe-1ffdfd848c55"
      },
      "outputs": [
        {
          "name": "stdout",
          "output_type": "stream",
          "text": [
            "{76, 'guinizzelli', 'dante'}\n"
          ]
        }
      ],
      "source": [
        "#rimuovere utilizzaando discard()\n",
        "insime3.discard(\"cecco\")\n",
        "print(insime3)"
      ]
    },
    {
      "cell_type": "code",
      "execution_count": null,
      "metadata": {
        "colab": {
          "base_uri": "https://localhost:8080/"
        },
        "id": "FB2soitJWY1v",
        "outputId": "6271c617-b843-45b5-df85-5b6bb5508071"
      },
      "outputs": [
        {
          "name": "stdout",
          "output_type": "stream",
          "text": [
            "76\n",
            "{'guinizzelli', 'dante'}\n"
          ]
        }
      ],
      "source": [
        "#rimuovere con pop\n",
        "x= insime3.pop()   #VIENE FATTO A RANDOM\n",
        "print(x)\n",
        "print(insime3)"
      ]
    },
    {
      "cell_type": "markdown",
      "metadata": {
        "id": "Fd_ZniI_zo8O"
      },
      "source": [
        "***dizionari (creazione anche con list comprehension, inserimento, modifica, cancellazione, visualizzazione, ricerca, metodi specifici)***"
      ]
    },
    {
      "cell_type": "code",
      "execution_count": null,
      "metadata": {
        "id": "QQDtY7cqU3fy"
      },
      "outputs": [],
      "source": [
        "#strutture dati con coppie dui valori\n",
        "#esempio\n",
        "cairo={#\"chiave\":\"valore\"\n",
        "    \"genere\":\"maschio\",    \n",
        "    \"età\":12,\n",
        "    \"altezza\":200,\n",
        "    \"piedi\":2\n",
        "}\n",
        "\n",
        "print(cairo)"
      ]
    },
    {
      "cell_type": "code",
      "execution_count": null,
      "metadata": {
        "id": "YkRcSvtBYhIy"
      },
      "outputs": [],
      "source": [
        "#aggiungere nuove chiavi\n",
        "cairo.update({\"cognome\":\"despigola\"})\n",
        "cairo[\"genere\"]=\"non identificato\""
      ]
    },
    {
      "cell_type": "markdown",
      "metadata": {
        "id": "PD49J-Gv0qJ8"
      },
      "source": [
        "criteri per la scelta della struttura dati più adatta all'applicazione"
      ]
    },
    {
      "cell_type": "markdown",
      "metadata": {
        "id": "eeMDQKKu1Brz"
      },
      "source": [
        "#Pandas"
      ]
    },
    {
      "cell_type": "markdown",
      "metadata": {
        "id": "7qn3k6JD1D-K"
      },
      "source": [
        "creazione del dataframe da file di tipo diverso"
      ]
    },
    {
      "cell_type": "code",
      "execution_count": null,
      "metadata": {
        "colab": {
          "base_uri": "https://localhost:8080/",
          "height": 667
        },
        "id": "hzjz_WY-uAMm",
        "outputId": "9db46bb6-26b7-4b36-d2bd-f2a0215d17f8"
      },
      "outputs": [
        {
          "data": {
            "text/html": [
              "\n",
              "  <div id=\"df-395c5e87-73f3-4233-b0d5-d3b80faf0688\">\n",
              "    <div class=\"colab-df-container\">\n",
              "      <div>\n",
              "<style scoped>\n",
              "    .dataframe tbody tr th:only-of-type {\n",
              "        vertical-align: middle;\n",
              "    }\n",
              "\n",
              "    .dataframe tbody tr th {\n",
              "        vertical-align: top;\n",
              "    }\n",
              "\n",
              "    .dataframe thead th {\n",
              "        text-align: right;\n",
              "    }\n",
              "</style>\n",
              "<table border=\"1\" class=\"dataframe\">\n",
              "  <thead>\n",
              "    <tr style=\"text-align: right;\">\n",
              "      <th></th>\n",
              "      <th>country</th>\n",
              "      <th>description</th>\n",
              "      <th>designation</th>\n",
              "      <th>points</th>\n",
              "      <th>price</th>\n",
              "      <th>province</th>\n",
              "      <th>region_1</th>\n",
              "      <th>region_2</th>\n",
              "      <th>taster_name</th>\n",
              "      <th>taster_twitter_handle</th>\n",
              "      <th>title</th>\n",
              "      <th>variety</th>\n",
              "      <th>winery</th>\n",
              "    </tr>\n",
              "  </thead>\n",
              "  <tbody>\n",
              "    <tr>\n",
              "      <th>0</th>\n",
              "      <td>Italy</td>\n",
              "      <td>Aromas include tropical fruit, broom, brimston...</td>\n",
              "      <td>Vulkà Bianco</td>\n",
              "      <td>87</td>\n",
              "      <td>NaN</td>\n",
              "      <td>Sicily &amp; Sardinia</td>\n",
              "      <td>Etna</td>\n",
              "      <td>NaN</td>\n",
              "      <td>Kerin O’Keefe</td>\n",
              "      <td>@kerinokeefe</td>\n",
              "      <td>Nicosia 2013 Vulkà Bianco  (Etna)</td>\n",
              "      <td>White Blend</td>\n",
              "      <td>Nicosia</td>\n",
              "    </tr>\n",
              "    <tr>\n",
              "      <th>1</th>\n",
              "      <td>Portugal</td>\n",
              "      <td>This is ripe and fruity, a wine that is smooth...</td>\n",
              "      <td>Avidagos</td>\n",
              "      <td>87</td>\n",
              "      <td>15.0</td>\n",
              "      <td>Douro</td>\n",
              "      <td>NaN</td>\n",
              "      <td>NaN</td>\n",
              "      <td>Roger Voss</td>\n",
              "      <td>@vossroger</td>\n",
              "      <td>Quinta dos Avidagos 2011 Avidagos Red (Douro)</td>\n",
              "      <td>Portuguese Red</td>\n",
              "      <td>Quinta dos Avidagos</td>\n",
              "    </tr>\n",
              "    <tr>\n",
              "      <th>2</th>\n",
              "      <td>US</td>\n",
              "      <td>Tart and snappy, the flavors of lime flesh and...</td>\n",
              "      <td>NaN</td>\n",
              "      <td>87</td>\n",
              "      <td>14.0</td>\n",
              "      <td>Oregon</td>\n",
              "      <td>Willamette Valley</td>\n",
              "      <td>Willamette Valley</td>\n",
              "      <td>Paul Gregutt</td>\n",
              "      <td>@paulgwine</td>\n",
              "      <td>Rainstorm 2013 Pinot Gris (Willamette Valley)</td>\n",
              "      <td>Pinot Gris</td>\n",
              "      <td>Rainstorm</td>\n",
              "    </tr>\n",
              "    <tr>\n",
              "      <th>3</th>\n",
              "      <td>US</td>\n",
              "      <td>Pineapple rind, lemon pith and orange blossom ...</td>\n",
              "      <td>Reserve Late Harvest</td>\n",
              "      <td>87</td>\n",
              "      <td>13.0</td>\n",
              "      <td>Michigan</td>\n",
              "      <td>Lake Michigan Shore</td>\n",
              "      <td>NaN</td>\n",
              "      <td>Alexander Peartree</td>\n",
              "      <td>NaN</td>\n",
              "      <td>St. Julian 2013 Reserve Late Harvest Riesling ...</td>\n",
              "      <td>Riesling</td>\n",
              "      <td>St. Julian</td>\n",
              "    </tr>\n",
              "    <tr>\n",
              "      <th>4</th>\n",
              "      <td>US</td>\n",
              "      <td>Much like the regular bottling from 2012, this...</td>\n",
              "      <td>Vintner's Reserve Wild Child Block</td>\n",
              "      <td>87</td>\n",
              "      <td>65.0</td>\n",
              "      <td>Oregon</td>\n",
              "      <td>Willamette Valley</td>\n",
              "      <td>Willamette Valley</td>\n",
              "      <td>Paul Gregutt</td>\n",
              "      <td>@paulgwine</td>\n",
              "      <td>Sweet Cheeks 2012 Vintner's Reserve Wild Child...</td>\n",
              "      <td>Pinot Noir</td>\n",
              "      <td>Sweet Cheeks</td>\n",
              "    </tr>\n",
              "  </tbody>\n",
              "</table>\n",
              "</div>\n",
              "      <button class=\"colab-df-convert\" onclick=\"convertToInteractive('df-395c5e87-73f3-4233-b0d5-d3b80faf0688')\"\n",
              "              title=\"Convert this dataframe to an interactive table.\"\n",
              "              style=\"display:none;\">\n",
              "        \n",
              "  <svg xmlns=\"http://www.w3.org/2000/svg\" height=\"24px\"viewBox=\"0 0 24 24\"\n",
              "       width=\"24px\">\n",
              "    <path d=\"M0 0h24v24H0V0z\" fill=\"none\"/>\n",
              "    <path d=\"M18.56 5.44l.94 2.06.94-2.06 2.06-.94-2.06-.94-.94-2.06-.94 2.06-2.06.94zm-11 1L8.5 8.5l.94-2.06 2.06-.94-2.06-.94L8.5 2.5l-.94 2.06-2.06.94zm10 10l.94 2.06.94-2.06 2.06-.94-2.06-.94-.94-2.06-.94 2.06-2.06.94z\"/><path d=\"M17.41 7.96l-1.37-1.37c-.4-.4-.92-.59-1.43-.59-.52 0-1.04.2-1.43.59L10.3 9.45l-7.72 7.72c-.78.78-.78 2.05 0 2.83L4 21.41c.39.39.9.59 1.41.59.51 0 1.02-.2 1.41-.59l7.78-7.78 2.81-2.81c.8-.78.8-2.07 0-2.86zM5.41 20L4 18.59l7.72-7.72 1.47 1.35L5.41 20z\"/>\n",
              "  </svg>\n",
              "      </button>\n",
              "      \n",
              "  <style>\n",
              "    .colab-df-container {\n",
              "      display:flex;\n",
              "      flex-wrap:wrap;\n",
              "      gap: 12px;\n",
              "    }\n",
              "\n",
              "    .colab-df-convert {\n",
              "      background-color: #E8F0FE;\n",
              "      border: none;\n",
              "      border-radius: 50%;\n",
              "      cursor: pointer;\n",
              "      display: none;\n",
              "      fill: #1967D2;\n",
              "      height: 32px;\n",
              "      padding: 0 0 0 0;\n",
              "      width: 32px;\n",
              "    }\n",
              "\n",
              "    .colab-df-convert:hover {\n",
              "      background-color: #E2EBFA;\n",
              "      box-shadow: 0px 1px 2px rgba(60, 64, 67, 0.3), 0px 1px 3px 1px rgba(60, 64, 67, 0.15);\n",
              "      fill: #174EA6;\n",
              "    }\n",
              "\n",
              "    [theme=dark] .colab-df-convert {\n",
              "      background-color: #3B4455;\n",
              "      fill: #D2E3FC;\n",
              "    }\n",
              "\n",
              "    [theme=dark] .colab-df-convert:hover {\n",
              "      background-color: #434B5C;\n",
              "      box-shadow: 0px 1px 3px 1px rgba(0, 0, 0, 0.15);\n",
              "      filter: drop-shadow(0px 1px 2px rgba(0, 0, 0, 0.3));\n",
              "      fill: #FFFFFF;\n",
              "    }\n",
              "  </style>\n",
              "\n",
              "      <script>\n",
              "        const buttonEl =\n",
              "          document.querySelector('#df-395c5e87-73f3-4233-b0d5-d3b80faf0688 button.colab-df-convert');\n",
              "        buttonEl.style.display =\n",
              "          google.colab.kernel.accessAllowed ? 'block' : 'none';\n",
              "\n",
              "        async function convertToInteractive(key) {\n",
              "          const element = document.querySelector('#df-395c5e87-73f3-4233-b0d5-d3b80faf0688');\n",
              "          const dataTable =\n",
              "            await google.colab.kernel.invokeFunction('convertToInteractive',\n",
              "                                                     [key], {});\n",
              "          if (!dataTable) return;\n",
              "\n",
              "          const docLinkHtml = 'Like what you see? Visit the ' +\n",
              "            '<a target=\"_blank\" href=https://colab.research.google.com/notebooks/data_table.ipynb>data table notebook</a>'\n",
              "            + ' to learn more about interactive tables.';\n",
              "          element.innerHTML = '';\n",
              "          dataTable['output_type'] = 'display_data';\n",
              "          await google.colab.output.renderOutput(dataTable, element);\n",
              "          const docLink = document.createElement('div');\n",
              "          docLink.innerHTML = docLinkHtml;\n",
              "          element.appendChild(docLink);\n",
              "        }\n",
              "      </script>\n",
              "    </div>\n",
              "  </div>\n",
              "  "
            ],
            "text/plain": [
              "    country                                        description  \\\n",
              "0     Italy  Aromas include tropical fruit, broom, brimston...   \n",
              "1  Portugal  This is ripe and fruity, a wine that is smooth...   \n",
              "2        US  Tart and snappy, the flavors of lime flesh and...   \n",
              "3        US  Pineapple rind, lemon pith and orange blossom ...   \n",
              "4        US  Much like the regular bottling from 2012, this...   \n",
              "\n",
              "                          designation  points  price           province  \\\n",
              "0                        Vulkà Bianco      87    NaN  Sicily & Sardinia   \n",
              "1                            Avidagos      87   15.0              Douro   \n",
              "2                                 NaN      87   14.0             Oregon   \n",
              "3                Reserve Late Harvest      87   13.0           Michigan   \n",
              "4  Vintner's Reserve Wild Child Block      87   65.0             Oregon   \n",
              "\n",
              "              region_1           region_2         taster_name  \\\n",
              "0                 Etna                NaN       Kerin O’Keefe   \n",
              "1                  NaN                NaN          Roger Voss   \n",
              "2    Willamette Valley  Willamette Valley        Paul Gregutt   \n",
              "3  Lake Michigan Shore                NaN  Alexander Peartree   \n",
              "4    Willamette Valley  Willamette Valley        Paul Gregutt   \n",
              "\n",
              "  taster_twitter_handle                                              title  \\\n",
              "0          @kerinokeefe                  Nicosia 2013 Vulkà Bianco  (Etna)   \n",
              "1            @vossroger      Quinta dos Avidagos 2011 Avidagos Red (Douro)   \n",
              "2           @paulgwine       Rainstorm 2013 Pinot Gris (Willamette Valley)   \n",
              "3                   NaN  St. Julian 2013 Reserve Late Harvest Riesling ...   \n",
              "4           @paulgwine   Sweet Cheeks 2012 Vintner's Reserve Wild Child...   \n",
              "\n",
              "          variety               winery  \n",
              "0     White Blend              Nicosia  \n",
              "1  Portuguese Red  Quinta dos Avidagos  \n",
              "2      Pinot Gris            Rainstorm  \n",
              "3        Riesling           St. Julian  \n",
              "4      Pinot Noir         Sweet Cheeks  "
            ]
          },
          "execution_count": 127,
          "metadata": {},
          "output_type": "execute_result"
        }
      ],
      "source": [
        "'''\n",
        "from google.colab import drive\n",
        "drive.mount('/content/drive')\n",
        "import pandas as pd\n",
        "'''\n",
        "import pandas as pd\n",
        "#read_(file[csv,excel,json...]) serve per avviare il file con il formato creato in precedenza\n",
        "df = pd.read_csv('/content/drive/MyDrive/Colab Notebooks/winemag-data-130k-v2.csv', index_col=0) #index_col=0 serviva precedentemente per indicizare la posizione su exel\n",
        "df.head() #si vedono le prime 5 righe"
      ]
    },
    {
      "cell_type": "markdown",
      "metadata": {
        "id": "T_OZh9c-1KZ0"
      },
      "source": [
        "eliminazione di righe (più metodi se possibile)"
      ]
    },
    {
      "cell_type": "code",
      "execution_count": null,
      "metadata": {
        "colab": {
          "base_uri": "https://localhost:8080/",
          "height": 601
        },
        "id": "gEML9RJhxVWm",
        "outputId": "fb425521-2f8b-4b29-f624-10ec2002f9ef"
      },
      "outputs": [
        {
          "data": {
            "text/html": [
              "\n",
              "  <div id=\"df-4ae85695-6446-436b-88ff-5d8cf8480968\">\n",
              "    <div class=\"colab-df-container\">\n",
              "      <div>\n",
              "<style scoped>\n",
              "    .dataframe tbody tr th:only-of-type {\n",
              "        vertical-align: middle;\n",
              "    }\n",
              "\n",
              "    .dataframe tbody tr th {\n",
              "        vertical-align: top;\n",
              "    }\n",
              "\n",
              "    .dataframe thead th {\n",
              "        text-align: right;\n",
              "    }\n",
              "</style>\n",
              "<table border=\"1\" class=\"dataframe\">\n",
              "  <thead>\n",
              "    <tr style=\"text-align: right;\">\n",
              "      <th></th>\n",
              "      <th>country</th>\n",
              "      <th>description</th>\n",
              "      <th>designation</th>\n",
              "      <th>points</th>\n",
              "      <th>price</th>\n",
              "      <th>province</th>\n",
              "      <th>region_1</th>\n",
              "      <th>region_2</th>\n",
              "      <th>taster_name</th>\n",
              "      <th>taster_twitter_handle</th>\n",
              "      <th>title</th>\n",
              "      <th>variety</th>\n",
              "      <th>winery</th>\n",
              "    </tr>\n",
              "  </thead>\n",
              "  <tbody>\n",
              "    <tr>\n",
              "      <th>0</th>\n",
              "      <td>Italy</td>\n",
              "      <td>Aromas include tropical fruit, broom, brimston...</td>\n",
              "      <td>Vulkà Bianco</td>\n",
              "      <td>87</td>\n",
              "      <td>NaN</td>\n",
              "      <td>Sicily &amp; Sardinia</td>\n",
              "      <td>Etna</td>\n",
              "      <td>NaN</td>\n",
              "      <td>Kerin O’Keefe</td>\n",
              "      <td>@kerinokeefe</td>\n",
              "      <td>Nicosia 2013 Vulkà Bianco  (Etna)</td>\n",
              "      <td>White Blend</td>\n",
              "      <td>Nicosia</td>\n",
              "    </tr>\n",
              "    <tr>\n",
              "      <th>1</th>\n",
              "      <td>Portugal</td>\n",
              "      <td>This is ripe and fruity, a wine that is smooth...</td>\n",
              "      <td>Avidagos</td>\n",
              "      <td>87</td>\n",
              "      <td>15.0</td>\n",
              "      <td>Douro</td>\n",
              "      <td>NaN</td>\n",
              "      <td>NaN</td>\n",
              "      <td>Roger Voss</td>\n",
              "      <td>@vossroger</td>\n",
              "      <td>Quinta dos Avidagos 2011 Avidagos Red (Douro)</td>\n",
              "      <td>Portuguese Red</td>\n",
              "      <td>Quinta dos Avidagos</td>\n",
              "    </tr>\n",
              "    <tr>\n",
              "      <th>3</th>\n",
              "      <td>US</td>\n",
              "      <td>Pineapple rind, lemon pith and orange blossom ...</td>\n",
              "      <td>Reserve Late Harvest</td>\n",
              "      <td>87</td>\n",
              "      <td>13.0</td>\n",
              "      <td>Michigan</td>\n",
              "      <td>Lake Michigan Shore</td>\n",
              "      <td>NaN</td>\n",
              "      <td>Alexander Peartree</td>\n",
              "      <td>NaN</td>\n",
              "      <td>St. Julian 2013 Reserve Late Harvest Riesling ...</td>\n",
              "      <td>Riesling</td>\n",
              "      <td>St. Julian</td>\n",
              "    </tr>\n",
              "    <tr>\n",
              "      <th>4</th>\n",
              "      <td>US</td>\n",
              "      <td>Much like the regular bottling from 2012, this...</td>\n",
              "      <td>Vintner's Reserve Wild Child Block</td>\n",
              "      <td>87</td>\n",
              "      <td>65.0</td>\n",
              "      <td>Oregon</td>\n",
              "      <td>Willamette Valley</td>\n",
              "      <td>Willamette Valley</td>\n",
              "      <td>Paul Gregutt</td>\n",
              "      <td>@paulgwine</td>\n",
              "      <td>Sweet Cheeks 2012 Vintner's Reserve Wild Child...</td>\n",
              "      <td>Pinot Noir</td>\n",
              "      <td>Sweet Cheeks</td>\n",
              "    </tr>\n",
              "  </tbody>\n",
              "</table>\n",
              "</div>\n",
              "      <button class=\"colab-df-convert\" onclick=\"convertToInteractive('df-4ae85695-6446-436b-88ff-5d8cf8480968')\"\n",
              "              title=\"Convert this dataframe to an interactive table.\"\n",
              "              style=\"display:none;\">\n",
              "        \n",
              "  <svg xmlns=\"http://www.w3.org/2000/svg\" height=\"24px\"viewBox=\"0 0 24 24\"\n",
              "       width=\"24px\">\n",
              "    <path d=\"M0 0h24v24H0V0z\" fill=\"none\"/>\n",
              "    <path d=\"M18.56 5.44l.94 2.06.94-2.06 2.06-.94-2.06-.94-.94-2.06-.94 2.06-2.06.94zm-11 1L8.5 8.5l.94-2.06 2.06-.94-2.06-.94L8.5 2.5l-.94 2.06-2.06.94zm10 10l.94 2.06.94-2.06 2.06-.94-2.06-.94-.94-2.06-.94 2.06-2.06.94z\"/><path d=\"M17.41 7.96l-1.37-1.37c-.4-.4-.92-.59-1.43-.59-.52 0-1.04.2-1.43.59L10.3 9.45l-7.72 7.72c-.78.78-.78 2.05 0 2.83L4 21.41c.39.39.9.59 1.41.59.51 0 1.02-.2 1.41-.59l7.78-7.78 2.81-2.81c.8-.78.8-2.07 0-2.86zM5.41 20L4 18.59l7.72-7.72 1.47 1.35L5.41 20z\"/>\n",
              "  </svg>\n",
              "      </button>\n",
              "      \n",
              "  <style>\n",
              "    .colab-df-container {\n",
              "      display:flex;\n",
              "      flex-wrap:wrap;\n",
              "      gap: 12px;\n",
              "    }\n",
              "\n",
              "    .colab-df-convert {\n",
              "      background-color: #E8F0FE;\n",
              "      border: none;\n",
              "      border-radius: 50%;\n",
              "      cursor: pointer;\n",
              "      display: none;\n",
              "      fill: #1967D2;\n",
              "      height: 32px;\n",
              "      padding: 0 0 0 0;\n",
              "      width: 32px;\n",
              "    }\n",
              "\n",
              "    .colab-df-convert:hover {\n",
              "      background-color: #E2EBFA;\n",
              "      box-shadow: 0px 1px 2px rgba(60, 64, 67, 0.3), 0px 1px 3px 1px rgba(60, 64, 67, 0.15);\n",
              "      fill: #174EA6;\n",
              "    }\n",
              "\n",
              "    [theme=dark] .colab-df-convert {\n",
              "      background-color: #3B4455;\n",
              "      fill: #D2E3FC;\n",
              "    }\n",
              "\n",
              "    [theme=dark] .colab-df-convert:hover {\n",
              "      background-color: #434B5C;\n",
              "      box-shadow: 0px 1px 3px 1px rgba(0, 0, 0, 0.15);\n",
              "      filter: drop-shadow(0px 1px 2px rgba(0, 0, 0, 0.3));\n",
              "      fill: #FFFFFF;\n",
              "    }\n",
              "  </style>\n",
              "\n",
              "      <script>\n",
              "        const buttonEl =\n",
              "          document.querySelector('#df-4ae85695-6446-436b-88ff-5d8cf8480968 button.colab-df-convert');\n",
              "        buttonEl.style.display =\n",
              "          google.colab.kernel.accessAllowed ? 'block' : 'none';\n",
              "\n",
              "        async function convertToInteractive(key) {\n",
              "          const element = document.querySelector('#df-4ae85695-6446-436b-88ff-5d8cf8480968');\n",
              "          const dataTable =\n",
              "            await google.colab.kernel.invokeFunction('convertToInteractive',\n",
              "                                                     [key], {});\n",
              "          if (!dataTable) return;\n",
              "\n",
              "          const docLinkHtml = 'Like what you see? Visit the ' +\n",
              "            '<a target=\"_blank\" href=https://colab.research.google.com/notebooks/data_table.ipynb>data table notebook</a>'\n",
              "            + ' to learn more about interactive tables.';\n",
              "          element.innerHTML = '';\n",
              "          dataTable['output_type'] = 'display_data';\n",
              "          await google.colab.output.renderOutput(dataTable, element);\n",
              "          const docLink = document.createElement('div');\n",
              "          docLink.innerHTML = docLinkHtml;\n",
              "          element.appendChild(docLink);\n",
              "        }\n",
              "      </script>\n",
              "    </div>\n",
              "  </div>\n",
              "  "
            ],
            "text/plain": [
              "    country                                        description  \\\n",
              "0     Italy  Aromas include tropical fruit, broom, brimston...   \n",
              "1  Portugal  This is ripe and fruity, a wine that is smooth...   \n",
              "3        US  Pineapple rind, lemon pith and orange blossom ...   \n",
              "4        US  Much like the regular bottling from 2012, this...   \n",
              "\n",
              "                          designation  points  price           province  \\\n",
              "0                        Vulkà Bianco      87    NaN  Sicily & Sardinia   \n",
              "1                            Avidagos      87   15.0              Douro   \n",
              "3                Reserve Late Harvest      87   13.0           Michigan   \n",
              "4  Vintner's Reserve Wild Child Block      87   65.0             Oregon   \n",
              "\n",
              "              region_1           region_2         taster_name  \\\n",
              "0                 Etna                NaN       Kerin O’Keefe   \n",
              "1                  NaN                NaN          Roger Voss   \n",
              "3  Lake Michigan Shore                NaN  Alexander Peartree   \n",
              "4    Willamette Valley  Willamette Valley        Paul Gregutt   \n",
              "\n",
              "  taster_twitter_handle                                              title  \\\n",
              "0          @kerinokeefe                  Nicosia 2013 Vulkà Bianco  (Etna)   \n",
              "1            @vossroger      Quinta dos Avidagos 2011 Avidagos Red (Douro)   \n",
              "3                   NaN  St. Julian 2013 Reserve Late Harvest Riesling ...   \n",
              "4           @paulgwine   Sweet Cheeks 2012 Vintner's Reserve Wild Child...   \n",
              "\n",
              "          variety               winery  \n",
              "0     White Blend              Nicosia  \n",
              "1  Portuguese Red  Quinta dos Avidagos  \n",
              "3        Riesling           St. Julian  \n",
              "4      Pinot Noir         Sweet Cheeks  "
            ]
          },
          "execution_count": 120,
          "metadata": {},
          "output_type": "execute_result"
        }
      ],
      "source": [
        "df.drop(2, inplace=True) \n",
        "df.head(4)"
      ]
    },
    {
      "cell_type": "markdown",
      "metadata": {
        "id": "xJe3vnfZ1Npr"
      },
      "source": [
        "eliminazione di colonne (più metodi se possibile)"
      ]
    },
    {
      "cell_type": "code",
      "execution_count": null,
      "metadata": {
        "colab": {
          "base_uri": "https://localhost:8080/",
          "height": 867
        },
        "id": "NboOFJqO3ci6",
        "outputId": "1e7a7656-e9a0-415c-ef59-08db472cd67d"
      },
      "outputs": [
        {
          "data": {
            "text/html": [
              "\n",
              "  <div id=\"df-f8212c0c-a673-4e1d-9d82-ca7ee665eb10\">\n",
              "    <div class=\"colab-df-container\">\n",
              "      <div>\n",
              "<style scoped>\n",
              "    .dataframe tbody tr th:only-of-type {\n",
              "        vertical-align: middle;\n",
              "    }\n",
              "\n",
              "    .dataframe tbody tr th {\n",
              "        vertical-align: top;\n",
              "    }\n",
              "\n",
              "    .dataframe thead th {\n",
              "        text-align: right;\n",
              "    }\n",
              "</style>\n",
              "<table border=\"1\" class=\"dataframe\">\n",
              "  <thead>\n",
              "    <tr style=\"text-align: right;\">\n",
              "      <th></th>\n",
              "      <th>designation</th>\n",
              "      <th>points</th>\n",
              "      <th>price</th>\n",
              "      <th>province</th>\n",
              "      <th>region_1</th>\n",
              "      <th>region_2</th>\n",
              "      <th>taster_name</th>\n",
              "      <th>taster_twitter_handle</th>\n",
              "      <th>title</th>\n",
              "      <th>variety</th>\n",
              "      <th>winery</th>\n",
              "    </tr>\n",
              "  </thead>\n",
              "  <tbody>\n",
              "    <tr>\n",
              "      <th>0</th>\n",
              "      <td>Vulkà Bianco</td>\n",
              "      <td>87</td>\n",
              "      <td>NaN</td>\n",
              "      <td>Sicily &amp; Sardinia</td>\n",
              "      <td>Etna</td>\n",
              "      <td>NaN</td>\n",
              "      <td>Kerin O’Keefe</td>\n",
              "      <td>@kerinokeefe</td>\n",
              "      <td>Nicosia 2013 Vulkà Bianco  (Etna)</td>\n",
              "      <td>White Blend</td>\n",
              "      <td>Nicosia</td>\n",
              "    </tr>\n",
              "    <tr>\n",
              "      <th>1</th>\n",
              "      <td>Avidagos</td>\n",
              "      <td>87</td>\n",
              "      <td>15.0</td>\n",
              "      <td>Douro</td>\n",
              "      <td>NaN</td>\n",
              "      <td>NaN</td>\n",
              "      <td>Roger Voss</td>\n",
              "      <td>@vossroger</td>\n",
              "      <td>Quinta dos Avidagos 2011 Avidagos Red (Douro)</td>\n",
              "      <td>Portuguese Red</td>\n",
              "      <td>Quinta dos Avidagos</td>\n",
              "    </tr>\n",
              "    <tr>\n",
              "      <th>2</th>\n",
              "      <td>NaN</td>\n",
              "      <td>87</td>\n",
              "      <td>14.0</td>\n",
              "      <td>Oregon</td>\n",
              "      <td>Willamette Valley</td>\n",
              "      <td>Willamette Valley</td>\n",
              "      <td>Paul Gregutt</td>\n",
              "      <td>@paulgwine</td>\n",
              "      <td>Rainstorm 2013 Pinot Gris (Willamette Valley)</td>\n",
              "      <td>Pinot Gris</td>\n",
              "      <td>Rainstorm</td>\n",
              "    </tr>\n",
              "    <tr>\n",
              "      <th>3</th>\n",
              "      <td>Reserve Late Harvest</td>\n",
              "      <td>87</td>\n",
              "      <td>13.0</td>\n",
              "      <td>Michigan</td>\n",
              "      <td>Lake Michigan Shore</td>\n",
              "      <td>NaN</td>\n",
              "      <td>Alexander Peartree</td>\n",
              "      <td>NaN</td>\n",
              "      <td>St. Julian 2013 Reserve Late Harvest Riesling ...</td>\n",
              "      <td>Riesling</td>\n",
              "      <td>St. Julian</td>\n",
              "    </tr>\n",
              "    <tr>\n",
              "      <th>4</th>\n",
              "      <td>Vintner's Reserve Wild Child Block</td>\n",
              "      <td>87</td>\n",
              "      <td>65.0</td>\n",
              "      <td>Oregon</td>\n",
              "      <td>Willamette Valley</td>\n",
              "      <td>Willamette Valley</td>\n",
              "      <td>Paul Gregutt</td>\n",
              "      <td>@paulgwine</td>\n",
              "      <td>Sweet Cheeks 2012 Vintner's Reserve Wild Child...</td>\n",
              "      <td>Pinot Noir</td>\n",
              "      <td>Sweet Cheeks</td>\n",
              "    </tr>\n",
              "    <tr>\n",
              "      <th>...</th>\n",
              "      <td>...</td>\n",
              "      <td>...</td>\n",
              "      <td>...</td>\n",
              "      <td>...</td>\n",
              "      <td>...</td>\n",
              "      <td>...</td>\n",
              "      <td>...</td>\n",
              "      <td>...</td>\n",
              "      <td>...</td>\n",
              "      <td>...</td>\n",
              "      <td>...</td>\n",
              "    </tr>\n",
              "    <tr>\n",
              "      <th>129966</th>\n",
              "      <td>Brauneberger Juffer-Sonnenuhr Spätlese</td>\n",
              "      <td>90</td>\n",
              "      <td>28.0</td>\n",
              "      <td>Mosel</td>\n",
              "      <td>NaN</td>\n",
              "      <td>NaN</td>\n",
              "      <td>Anna Lee C. Iijima</td>\n",
              "      <td>NaN</td>\n",
              "      <td>Dr. H. Thanisch (Erben Müller-Burggraef) 2013 ...</td>\n",
              "      <td>Riesling</td>\n",
              "      <td>Dr. H. Thanisch (Erben Müller-Burggraef)</td>\n",
              "    </tr>\n",
              "    <tr>\n",
              "      <th>129967</th>\n",
              "      <td>NaN</td>\n",
              "      <td>90</td>\n",
              "      <td>75.0</td>\n",
              "      <td>Oregon</td>\n",
              "      <td>Oregon</td>\n",
              "      <td>Oregon Other</td>\n",
              "      <td>Paul Gregutt</td>\n",
              "      <td>@paulgwine</td>\n",
              "      <td>Citation 2004 Pinot Noir (Oregon)</td>\n",
              "      <td>Pinot Noir</td>\n",
              "      <td>Citation</td>\n",
              "    </tr>\n",
              "    <tr>\n",
              "      <th>129968</th>\n",
              "      <td>Kritt</td>\n",
              "      <td>90</td>\n",
              "      <td>30.0</td>\n",
              "      <td>Alsace</td>\n",
              "      <td>Alsace</td>\n",
              "      <td>NaN</td>\n",
              "      <td>Roger Voss</td>\n",
              "      <td>@vossroger</td>\n",
              "      <td>Domaine Gresser 2013 Kritt Gewurztraminer (Als...</td>\n",
              "      <td>Gewürztraminer</td>\n",
              "      <td>Domaine Gresser</td>\n",
              "    </tr>\n",
              "    <tr>\n",
              "      <th>129969</th>\n",
              "      <td>NaN</td>\n",
              "      <td>90</td>\n",
              "      <td>32.0</td>\n",
              "      <td>Alsace</td>\n",
              "      <td>Alsace</td>\n",
              "      <td>NaN</td>\n",
              "      <td>Roger Voss</td>\n",
              "      <td>@vossroger</td>\n",
              "      <td>Domaine Marcel Deiss 2012 Pinot Gris (Alsace)</td>\n",
              "      <td>Pinot Gris</td>\n",
              "      <td>Domaine Marcel Deiss</td>\n",
              "    </tr>\n",
              "    <tr>\n",
              "      <th>129970</th>\n",
              "      <td>Lieu-dit Harth Cuvée Caroline</td>\n",
              "      <td>90</td>\n",
              "      <td>21.0</td>\n",
              "      <td>Alsace</td>\n",
              "      <td>Alsace</td>\n",
              "      <td>NaN</td>\n",
              "      <td>Roger Voss</td>\n",
              "      <td>@vossroger</td>\n",
              "      <td>Domaine Schoffit 2012 Lieu-dit Harth Cuvée Car...</td>\n",
              "      <td>Gewürztraminer</td>\n",
              "      <td>Domaine Schoffit</td>\n",
              "    </tr>\n",
              "  </tbody>\n",
              "</table>\n",
              "<p>129971 rows × 11 columns</p>\n",
              "</div>\n",
              "      <button class=\"colab-df-convert\" onclick=\"convertToInteractive('df-f8212c0c-a673-4e1d-9d82-ca7ee665eb10')\"\n",
              "              title=\"Convert this dataframe to an interactive table.\"\n",
              "              style=\"display:none;\">\n",
              "        \n",
              "  <svg xmlns=\"http://www.w3.org/2000/svg\" height=\"24px\"viewBox=\"0 0 24 24\"\n",
              "       width=\"24px\">\n",
              "    <path d=\"M0 0h24v24H0V0z\" fill=\"none\"/>\n",
              "    <path d=\"M18.56 5.44l.94 2.06.94-2.06 2.06-.94-2.06-.94-.94-2.06-.94 2.06-2.06.94zm-11 1L8.5 8.5l.94-2.06 2.06-.94-2.06-.94L8.5 2.5l-.94 2.06-2.06.94zm10 10l.94 2.06.94-2.06 2.06-.94-2.06-.94-.94-2.06-.94 2.06-2.06.94z\"/><path d=\"M17.41 7.96l-1.37-1.37c-.4-.4-.92-.59-1.43-.59-.52 0-1.04.2-1.43.59L10.3 9.45l-7.72 7.72c-.78.78-.78 2.05 0 2.83L4 21.41c.39.39.9.59 1.41.59.51 0 1.02-.2 1.41-.59l7.78-7.78 2.81-2.81c.8-.78.8-2.07 0-2.86zM5.41 20L4 18.59l7.72-7.72 1.47 1.35L5.41 20z\"/>\n",
              "  </svg>\n",
              "      </button>\n",
              "      \n",
              "  <style>\n",
              "    .colab-df-container {\n",
              "      display:flex;\n",
              "      flex-wrap:wrap;\n",
              "      gap: 12px;\n",
              "    }\n",
              "\n",
              "    .colab-df-convert {\n",
              "      background-color: #E8F0FE;\n",
              "      border: none;\n",
              "      border-radius: 50%;\n",
              "      cursor: pointer;\n",
              "      display: none;\n",
              "      fill: #1967D2;\n",
              "      height: 32px;\n",
              "      padding: 0 0 0 0;\n",
              "      width: 32px;\n",
              "    }\n",
              "\n",
              "    .colab-df-convert:hover {\n",
              "      background-color: #E2EBFA;\n",
              "      box-shadow: 0px 1px 2px rgba(60, 64, 67, 0.3), 0px 1px 3px 1px rgba(60, 64, 67, 0.15);\n",
              "      fill: #174EA6;\n",
              "    }\n",
              "\n",
              "    [theme=dark] .colab-df-convert {\n",
              "      background-color: #3B4455;\n",
              "      fill: #D2E3FC;\n",
              "    }\n",
              "\n",
              "    [theme=dark] .colab-df-convert:hover {\n",
              "      background-color: #434B5C;\n",
              "      box-shadow: 0px 1px 3px 1px rgba(0, 0, 0, 0.15);\n",
              "      filter: drop-shadow(0px 1px 2px rgba(0, 0, 0, 0.3));\n",
              "      fill: #FFFFFF;\n",
              "    }\n",
              "  </style>\n",
              "\n",
              "      <script>\n",
              "        const buttonEl =\n",
              "          document.querySelector('#df-f8212c0c-a673-4e1d-9d82-ca7ee665eb10 button.colab-df-convert');\n",
              "        buttonEl.style.display =\n",
              "          google.colab.kernel.accessAllowed ? 'block' : 'none';\n",
              "\n",
              "        async function convertToInteractive(key) {\n",
              "          const element = document.querySelector('#df-f8212c0c-a673-4e1d-9d82-ca7ee665eb10');\n",
              "          const dataTable =\n",
              "            await google.colab.kernel.invokeFunction('convertToInteractive',\n",
              "                                                     [key], {});\n",
              "          if (!dataTable) return;\n",
              "\n",
              "          const docLinkHtml = 'Like what you see? Visit the ' +\n",
              "            '<a target=\"_blank\" href=https://colab.research.google.com/notebooks/data_table.ipynb>data table notebook</a>'\n",
              "            + ' to learn more about interactive tables.';\n",
              "          element.innerHTML = '';\n",
              "          dataTable['output_type'] = 'display_data';\n",
              "          await google.colab.output.renderOutput(dataTable, element);\n",
              "          const docLink = document.createElement('div');\n",
              "          docLink.innerHTML = docLinkHtml;\n",
              "          element.appendChild(docLink);\n",
              "        }\n",
              "      </script>\n",
              "    </div>\n",
              "  </div>\n",
              "  "
            ],
            "text/plain": [
              "                                   designation  points  price  \\\n",
              "0                                 Vulkà Bianco      87    NaN   \n",
              "1                                     Avidagos      87   15.0   \n",
              "2                                          NaN      87   14.0   \n",
              "3                         Reserve Late Harvest      87   13.0   \n",
              "4           Vintner's Reserve Wild Child Block      87   65.0   \n",
              "...                                        ...     ...    ...   \n",
              "129966  Brauneberger Juffer-Sonnenuhr Spätlese      90   28.0   \n",
              "129967                                     NaN      90   75.0   \n",
              "129968                                   Kritt      90   30.0   \n",
              "129969                                     NaN      90   32.0   \n",
              "129970           Lieu-dit Harth Cuvée Caroline      90   21.0   \n",
              "\n",
              "                 province             region_1           region_2  \\\n",
              "0       Sicily & Sardinia                 Etna                NaN   \n",
              "1                   Douro                  NaN                NaN   \n",
              "2                  Oregon    Willamette Valley  Willamette Valley   \n",
              "3                Michigan  Lake Michigan Shore                NaN   \n",
              "4                  Oregon    Willamette Valley  Willamette Valley   \n",
              "...                   ...                  ...                ...   \n",
              "129966              Mosel                  NaN                NaN   \n",
              "129967             Oregon               Oregon       Oregon Other   \n",
              "129968             Alsace               Alsace                NaN   \n",
              "129969             Alsace               Alsace                NaN   \n",
              "129970             Alsace               Alsace                NaN   \n",
              "\n",
              "               taster_name taster_twitter_handle  \\\n",
              "0            Kerin O’Keefe          @kerinokeefe   \n",
              "1               Roger Voss            @vossroger   \n",
              "2             Paul Gregutt           @paulgwine    \n",
              "3       Alexander Peartree                   NaN   \n",
              "4             Paul Gregutt           @paulgwine    \n",
              "...                    ...                   ...   \n",
              "129966  Anna Lee C. Iijima                   NaN   \n",
              "129967        Paul Gregutt           @paulgwine    \n",
              "129968          Roger Voss            @vossroger   \n",
              "129969          Roger Voss            @vossroger   \n",
              "129970          Roger Voss            @vossroger   \n",
              "\n",
              "                                                    title         variety  \\\n",
              "0                       Nicosia 2013 Vulkà Bianco  (Etna)     White Blend   \n",
              "1           Quinta dos Avidagos 2011 Avidagos Red (Douro)  Portuguese Red   \n",
              "2           Rainstorm 2013 Pinot Gris (Willamette Valley)      Pinot Gris   \n",
              "3       St. Julian 2013 Reserve Late Harvest Riesling ...        Riesling   \n",
              "4       Sweet Cheeks 2012 Vintner's Reserve Wild Child...      Pinot Noir   \n",
              "...                                                   ...             ...   \n",
              "129966  Dr. H. Thanisch (Erben Müller-Burggraef) 2013 ...        Riesling   \n",
              "129967                  Citation 2004 Pinot Noir (Oregon)      Pinot Noir   \n",
              "129968  Domaine Gresser 2013 Kritt Gewurztraminer (Als...  Gewürztraminer   \n",
              "129969      Domaine Marcel Deiss 2012 Pinot Gris (Alsace)      Pinot Gris   \n",
              "129970  Domaine Schoffit 2012 Lieu-dit Harth Cuvée Car...  Gewürztraminer   \n",
              "\n",
              "                                          winery  \n",
              "0                                        Nicosia  \n",
              "1                            Quinta dos Avidagos  \n",
              "2                                      Rainstorm  \n",
              "3                                     St. Julian  \n",
              "4                                   Sweet Cheeks  \n",
              "...                                          ...  \n",
              "129966  Dr. H. Thanisch (Erben Müller-Burggraef)  \n",
              "129967                                  Citation  \n",
              "129968                           Domaine Gresser  \n",
              "129969                      Domaine Marcel Deiss  \n",
              "129970                          Domaine Schoffit  \n",
              "\n",
              "[129971 rows x 11 columns]"
            ]
          },
          "execution_count": 128,
          "metadata": {},
          "output_type": "execute_result"
        }
      ],
      "source": [
        "#.drop si può usare anche per eliminare le colonne, basta specificare l’asse.\n",
        "eliminatodf=df.drop(['country', 'description'], axis=1)\n",
        "eliminatodf"
      ]
    },
    {
      "cell_type": "markdown",
      "metadata": {
        "id": "C1-C6Vjb1PME"
      },
      "source": [
        "eliminazione di valori nulli (più metodi se possibile)"
      ]
    },
    {
      "cell_type": "code",
      "execution_count": null,
      "metadata": {
        "colab": {
          "base_uri": "https://localhost:8080/",
          "height": 424
        },
        "id": "rnYVoRC14lrK",
        "outputId": "69ac1584-e8ed-4f60-a939-cade0ec7a43e"
      },
      "outputs": [
        {
          "data": {
            "text/html": [
              "\n",
              "  <div id=\"df-579f0042-9536-45f3-b5c4-33fdc5376dcd\">\n",
              "    <div class=\"colab-df-container\">\n",
              "      <div>\n",
              "<style scoped>\n",
              "    .dataframe tbody tr th:only-of-type {\n",
              "        vertical-align: middle;\n",
              "    }\n",
              "\n",
              "    .dataframe tbody tr th {\n",
              "        vertical-align: top;\n",
              "    }\n",
              "\n",
              "    .dataframe thead th {\n",
              "        text-align: right;\n",
              "    }\n",
              "</style>\n",
              "<table border=\"1\" class=\"dataframe\">\n",
              "  <thead>\n",
              "    <tr style=\"text-align: right;\">\n",
              "      <th></th>\n",
              "      <th>country</th>\n",
              "      <th>price</th>\n",
              "      <th>title</th>\n",
              "    </tr>\n",
              "  </thead>\n",
              "  <tbody>\n",
              "    <tr>\n",
              "      <th>0</th>\n",
              "      <td>Italy</td>\n",
              "      <td>NaN</td>\n",
              "      <td>Nicosia 2013 Vulkà Bianco  (Etna)</td>\n",
              "    </tr>\n",
              "    <tr>\n",
              "      <th>13</th>\n",
              "      <td>Italy</td>\n",
              "      <td>NaN</td>\n",
              "      <td>Masseria Setteporte 2012 Rosso  (Etna)</td>\n",
              "    </tr>\n",
              "    <tr>\n",
              "      <th>30</th>\n",
              "      <td>France</td>\n",
              "      <td>NaN</td>\n",
              "      <td>Domaine de la Madone 2012 Nouveau  (Beaujolais...</td>\n",
              "    </tr>\n",
              "    <tr>\n",
              "      <th>31</th>\n",
              "      <td>Italy</td>\n",
              "      <td>NaN</td>\n",
              "      <td>Duca di Salaparuta 2010 Calanìca Nero d'Avola-...</td>\n",
              "    </tr>\n",
              "    <tr>\n",
              "      <th>32</th>\n",
              "      <td>Italy</td>\n",
              "      <td>NaN</td>\n",
              "      <td>Duca di Salaparuta 2011 Calanìca Grillo-Viogni...</td>\n",
              "    </tr>\n",
              "    <tr>\n",
              "      <th>...</th>\n",
              "      <td>...</td>\n",
              "      <td>...</td>\n",
              "      <td>...</td>\n",
              "    </tr>\n",
              "    <tr>\n",
              "      <th>129844</th>\n",
              "      <td>Italy</td>\n",
              "      <td>NaN</td>\n",
              "      <td>Caparzo 2006 Doga delle Clavule  (Morellino di...</td>\n",
              "    </tr>\n",
              "    <tr>\n",
              "      <th>129860</th>\n",
              "      <td>Portugal</td>\n",
              "      <td>NaN</td>\n",
              "      <td>Quinta da Pacheca 2013 Pacheca Superior Red (D...</td>\n",
              "    </tr>\n",
              "    <tr>\n",
              "      <th>129863</th>\n",
              "      <td>Portugal</td>\n",
              "      <td>NaN</td>\n",
              "      <td>Seacampo 2011 Reserva Red (Dão)</td>\n",
              "    </tr>\n",
              "    <tr>\n",
              "      <th>129893</th>\n",
              "      <td>Italy</td>\n",
              "      <td>NaN</td>\n",
              "      <td>Le Mandolare 2015 Corte Menini  (Soave Classico)</td>\n",
              "    </tr>\n",
              "    <tr>\n",
              "      <th>129964</th>\n",
              "      <td>France</td>\n",
              "      <td>NaN</td>\n",
              "      <td>Domaine Ehrhart 2013 Domaine Saint-Rémy Herren...</td>\n",
              "    </tr>\n",
              "  </tbody>\n",
              "</table>\n",
              "<p>8996 rows × 3 columns</p>\n",
              "</div>\n",
              "      <button class=\"colab-df-convert\" onclick=\"convertToInteractive('df-579f0042-9536-45f3-b5c4-33fdc5376dcd')\"\n",
              "              title=\"Convert this dataframe to an interactive table.\"\n",
              "              style=\"display:none;\">\n",
              "        \n",
              "  <svg xmlns=\"http://www.w3.org/2000/svg\" height=\"24px\"viewBox=\"0 0 24 24\"\n",
              "       width=\"24px\">\n",
              "    <path d=\"M0 0h24v24H0V0z\" fill=\"none\"/>\n",
              "    <path d=\"M18.56 5.44l.94 2.06.94-2.06 2.06-.94-2.06-.94-.94-2.06-.94 2.06-2.06.94zm-11 1L8.5 8.5l.94-2.06 2.06-.94-2.06-.94L8.5 2.5l-.94 2.06-2.06.94zm10 10l.94 2.06.94-2.06 2.06-.94-2.06-.94-.94-2.06-.94 2.06-2.06.94z\"/><path d=\"M17.41 7.96l-1.37-1.37c-.4-.4-.92-.59-1.43-.59-.52 0-1.04.2-1.43.59L10.3 9.45l-7.72 7.72c-.78.78-.78 2.05 0 2.83L4 21.41c.39.39.9.59 1.41.59.51 0 1.02-.2 1.41-.59l7.78-7.78 2.81-2.81c.8-.78.8-2.07 0-2.86zM5.41 20L4 18.59l7.72-7.72 1.47 1.35L5.41 20z\"/>\n",
              "  </svg>\n",
              "      </button>\n",
              "      \n",
              "  <style>\n",
              "    .colab-df-container {\n",
              "      display:flex;\n",
              "      flex-wrap:wrap;\n",
              "      gap: 12px;\n",
              "    }\n",
              "\n",
              "    .colab-df-convert {\n",
              "      background-color: #E8F0FE;\n",
              "      border: none;\n",
              "      border-radius: 50%;\n",
              "      cursor: pointer;\n",
              "      display: none;\n",
              "      fill: #1967D2;\n",
              "      height: 32px;\n",
              "      padding: 0 0 0 0;\n",
              "      width: 32px;\n",
              "    }\n",
              "\n",
              "    .colab-df-convert:hover {\n",
              "      background-color: #E2EBFA;\n",
              "      box-shadow: 0px 1px 2px rgba(60, 64, 67, 0.3), 0px 1px 3px 1px rgba(60, 64, 67, 0.15);\n",
              "      fill: #174EA6;\n",
              "    }\n",
              "\n",
              "    [theme=dark] .colab-df-convert {\n",
              "      background-color: #3B4455;\n",
              "      fill: #D2E3FC;\n",
              "    }\n",
              "\n",
              "    [theme=dark] .colab-df-convert:hover {\n",
              "      background-color: #434B5C;\n",
              "      box-shadow: 0px 1px 3px 1px rgba(0, 0, 0, 0.15);\n",
              "      filter: drop-shadow(0px 1px 2px rgba(0, 0, 0, 0.3));\n",
              "      fill: #FFFFFF;\n",
              "    }\n",
              "  </style>\n",
              "\n",
              "      <script>\n",
              "        const buttonEl =\n",
              "          document.querySelector('#df-579f0042-9536-45f3-b5c4-33fdc5376dcd button.colab-df-convert');\n",
              "        buttonEl.style.display =\n",
              "          google.colab.kernel.accessAllowed ? 'block' : 'none';\n",
              "\n",
              "        async function convertToInteractive(key) {\n",
              "          const element = document.querySelector('#df-579f0042-9536-45f3-b5c4-33fdc5376dcd');\n",
              "          const dataTable =\n",
              "            await google.colab.kernel.invokeFunction('convertToInteractive',\n",
              "                                                     [key], {});\n",
              "          if (!dataTable) return;\n",
              "\n",
              "          const docLinkHtml = 'Like what you see? Visit the ' +\n",
              "            '<a target=\"_blank\" href=https://colab.research.google.com/notebooks/data_table.ipynb>data table notebook</a>'\n",
              "            + ' to learn more about interactive tables.';\n",
              "          element.innerHTML = '';\n",
              "          dataTable['output_type'] = 'display_data';\n",
              "          await google.colab.output.renderOutput(dataTable, element);\n",
              "          const docLink = document.createElement('div');\n",
              "          docLink.innerHTML = docLinkHtml;\n",
              "          element.appendChild(docLink);\n",
              "        }\n",
              "      </script>\n",
              "    </div>\n",
              "  </div>\n",
              "  "
            ],
            "text/plain": [
              "         country  price                                              title\n",
              "0          Italy    NaN                  Nicosia 2013 Vulkà Bianco  (Etna)\n",
              "13         Italy    NaN             Masseria Setteporte 2012 Rosso  (Etna)\n",
              "30        France    NaN  Domaine de la Madone 2012 Nouveau  (Beaujolais...\n",
              "31         Italy    NaN  Duca di Salaparuta 2010 Calanìca Nero d'Avola-...\n",
              "32         Italy    NaN  Duca di Salaparuta 2011 Calanìca Grillo-Viogni...\n",
              "...          ...    ...                                                ...\n",
              "129844     Italy    NaN  Caparzo 2006 Doga delle Clavule  (Morellino di...\n",
              "129860  Portugal    NaN  Quinta da Pacheca 2013 Pacheca Superior Red (D...\n",
              "129863  Portugal    NaN                    Seacampo 2011 Reserva Red (Dão)\n",
              "129893     Italy    NaN   Le Mandolare 2015 Corte Menini  (Soave Classico)\n",
              "129964    France    NaN  Domaine Ehrhart 2013 Domaine Saint-Rémy Herren...\n",
              "\n",
              "[8996 rows x 3 columns]"
            ]
          },
          "execution_count": 132,
          "metadata": {},
          "output_type": "execute_result"
        }
      ],
      "source": [
        "df[df.price.isnull()][[\"country\",\"price\",\"title\"]]    # fa vedere dove non c'è un valore numerico"
      ]
    },
    {
      "cell_type": "markdown",
      "metadata": {
        "id": "ugUyVMOY1Q5c"
      },
      "source": [
        "selezione di una serie di righe (più metodi se possibile)"
      ]
    },
    {
      "cell_type": "markdown",
      "metadata": {
        "id": "ohNqeoCa1Uaj"
      },
      "source": [
        "selezione di una serie di colonne (più metodi se possibile)"
      ]
    },
    {
      "cell_type": "markdown",
      "metadata": {
        "id": "46Nm66A61V-D"
      },
      "source": [
        "ricerca di valori in una colonna (più metodi se possibile)"
      ]
    },
    {
      "cell_type": "markdown",
      "metadata": {
        "id": "u_T1Nbyo2Pqo"
      },
      "source": [
        "ricerca di più valori su una o più colonne"
      ]
    },
    {
      "cell_type": "markdown",
      "metadata": {
        "id": "8jZ99Hlx15Kh"
      },
      "source": [
        "ricerca di sottotsringhe in una colonna"
      ]
    },
    {
      "cell_type": "markdown",
      "metadata": {
        "id": "z2OQDO1P3L6f"
      },
      "source": [
        "gestione delle date (da string a datetime e viceversa)"
      ]
    },
    {
      "cell_type": "markdown",
      "metadata": {
        "id": "fr9SDRpW12eB"
      },
      "source": [
        "raggruppamenti e funzioni di aggregazione (count, min, max, sum, mean)"
      ]
    },
    {
      "cell_type": "markdown",
      "metadata": {
        "id": "ep-tMiK8wxWm"
      },
      "source": [
        "# ***preparazione per Matplotlib***"
      ]
    },
    {
      "cell_type": "code",
      "execution_count": null,
      "metadata": {
        "colab": {
          "base_uri": "https://localhost:8080/"
        },
        "id": "WsJHJxxfObsy",
        "outputId": "41ab94f0-dded-4903-e9b7-3bd99855802b"
      },
      "outputs": [
        {
          "name": "stdout",
          "output_type": "stream",
          "text": [
            "Mounted at /content/drive\n"
          ]
        }
      ],
      "source": [
        "import pandas as pd\n",
        "import matplotlib.pyplot as plt\n",
        "import numpy as np\n",
        "\n",
        "from google.colab import drive  #serve per importare il drive sulla macchina\n",
        "drive.mount('/content/drive')"
      ]
    },
    {
      "cell_type": "code",
      "execution_count": null,
      "metadata": {
        "colab": {
          "base_uri": "https://localhost:8080/",
          "height": 1000
        },
        "id": "8jt5zdEiPUqC",
        "outputId": "bdd41502-6351-4234-f359-436b19d2f2a0"
      },
      "outputs": [
        {
          "data": {
            "text/html": [
              "\n",
              "  <div id=\"df-21577aaa-3808-4507-a261-a51904865141\">\n",
              "    <div class=\"colab-df-container\">\n",
              "      <div>\n",
              "<style scoped>\n",
              "    .dataframe tbody tr th:only-of-type {\n",
              "        vertical-align: middle;\n",
              "    }\n",
              "\n",
              "    .dataframe tbody tr th {\n",
              "        vertical-align: top;\n",
              "    }\n",
              "\n",
              "    .dataframe thead th {\n",
              "        text-align: right;\n",
              "    }\n",
              "</style>\n",
              "<table border=\"1\" class=\"dataframe\">\n",
              "  <thead>\n",
              "    <tr style=\"text-align: right;\">\n",
              "      <th></th>\n",
              "      <th>title</th>\n",
              "      <th>description</th>\n",
              "      <th>year</th>\n",
              "      <th>type</th>\n",
              "      <th>rate_start</th>\n",
              "      <th>votes</th>\n",
              "      <th>status</th>\n",
              "      <th>followers</th>\n",
              "      <th>episodes</th>\n",
              "      <th>genders</th>\n",
              "      <th>url_anime</th>\n",
              "      <th>image</th>\n",
              "    </tr>\n",
              "  </thead>\n",
              "  <tbody>\n",
              "    <tr>\n",
              "      <th>0</th>\n",
              "      <td>Dragon Ball Z Especial: Freezer contra el padr...</td>\n",
              "      <td>Los Saiyajin han trabajado muy duro para Freez...</td>\n",
              "      <td>1990</td>\n",
              "      <td>OVA</td>\n",
              "      <td>4.3</td>\n",
              "      <td>218</td>\n",
              "      <td>Finalizado</td>\n",
              "      <td>1249</td>\n",
              "      <td>1</td>\n",
              "      <td>NaN</td>\n",
              "      <td>https://www3.animeflv.net/anime/dragon-ball-z-...</td>\n",
              "      <td>https://www3.animeflv.net/uploads/animes/cover...</td>\n",
              "    </tr>\n",
              "    <tr>\n",
              "      <th>1</th>\n",
              "      <td>Dragon Ball Z Pelicula 03: La batalla más gran...</td>\n",
              "      <td>Una banda de desértores del ejército de Freeze...</td>\n",
              "      <td>1990</td>\n",
              "      <td>Película</td>\n",
              "      <td>3.9</td>\n",
              "      <td>173</td>\n",
              "      <td>Finalizado</td>\n",
              "      <td>1090</td>\n",
              "      <td>1</td>\n",
              "      <td>Aventuras,Ciencia Ficción,Comedia,Fantasía,Sho...</td>\n",
              "      <td>https://www3.animeflv.net/anime/dragon-ball-z-...</td>\n",
              "      <td>https://www3.animeflv.net/uploads/animes/cover...</td>\n",
              "    </tr>\n",
              "    <tr>\n",
              "      <th>2</th>\n",
              "      <td>Lodoss-tou Senki</td>\n",
              "      <td>La historia se centra de alrededor de un joven...</td>\n",
              "      <td>1990</td>\n",
              "      <td>Anime</td>\n",
              "      <td>4.4</td>\n",
              "      <td>95</td>\n",
              "      <td>Finalizado</td>\n",
              "      <td>734</td>\n",
              "      <td>13</td>\n",
              "      <td>Acción,Aventuras,Fantasía,Magia,Shounen,Sobren...</td>\n",
              "      <td>https://www3.animeflv.net/anime/lodoss-tou-senki</td>\n",
              "      <td>https://www3.animeflv.net/uploads/animes/cover...</td>\n",
              "    </tr>\n",
              "    <tr>\n",
              "      <th>3</th>\n",
              "      <td>Fushigi no Umi no Nadia</td>\n",
              "      <td>La revolución industrial ha terminado y el mun...</td>\n",
              "      <td>1990</td>\n",
              "      <td>Anime</td>\n",
              "      <td>4.5</td>\n",
              "      <td>99</td>\n",
              "      <td>Finalizado</td>\n",
              "      <td>841</td>\n",
              "      <td>39</td>\n",
              "      <td>Aventuras,Ciencia Ficción,Comedia,Historico,Ro...</td>\n",
              "      <td>https://www3.animeflv.net/anime/fushigi-no-umi...</td>\n",
              "      <td>https://www3.animeflv.net/uploads/animes/cover...</td>\n",
              "    </tr>\n",
              "    <tr>\n",
              "      <th>4</th>\n",
              "      <td>Dragon Ball Z Pelicula 02: El hombre más fuert...</td>\n",
              "      <td>La situación empieza con el doctor Uir?, quien...</td>\n",
              "      <td>1990</td>\n",
              "      <td>Película</td>\n",
              "      <td>4.1</td>\n",
              "      <td>124</td>\n",
              "      <td>Finalizado</td>\n",
              "      <td>1070</td>\n",
              "      <td>1</td>\n",
              "      <td>Aventuras,Ciencia Ficción,Comedia,Fantasía,Sho...</td>\n",
              "      <td>https://www3.animeflv.net/anime/dragon-ball-z-...</td>\n",
              "      <td>https://www3.animeflv.net/uploads/animes/cover...</td>\n",
              "    </tr>\n",
              "    <tr>\n",
              "      <th>...</th>\n",
              "      <td>...</td>\n",
              "      <td>...</td>\n",
              "      <td>...</td>\n",
              "      <td>...</td>\n",
              "      <td>...</td>\n",
              "      <td>...</td>\n",
              "      <td>...</td>\n",
              "      <td>...</td>\n",
              "      <td>...</td>\n",
              "      <td>...</td>\n",
              "      <td>...</td>\n",
              "      <td>...</td>\n",
              "    </tr>\n",
              "    <tr>\n",
              "      <th>3404</th>\n",
              "      <td>Saiyuuki Reload: Zeroin</td>\n",
              "      <td>Una vez, la tierra de Togenkyo era una tierra ...</td>\n",
              "      <td>2022</td>\n",
              "      <td>Anime</td>\n",
              "      <td>3.6</td>\n",
              "      <td>230</td>\n",
              "      <td>Finalizado</td>\n",
              "      <td>2953</td>\n",
              "      <td>13</td>\n",
              "      <td>Acción,Aventuras,Comedia,Demonios,Drama,Josei,...</td>\n",
              "      <td>https://www3.animeflv.net/anime/saiyuuki-reloa...</td>\n",
              "      <td>https://www3.animeflv.net/uploads/animes/cover...</td>\n",
              "    </tr>\n",
              "    <tr>\n",
              "      <th>3405</th>\n",
              "      <td>Hakozume: Kouban Joshi no Gyakushuu</td>\n",
              "      <td>Seiko Fuji se graduó en la universidad de poli...</td>\n",
              "      <td>2022</td>\n",
              "      <td>Anime</td>\n",
              "      <td>4.3</td>\n",
              "      <td>429</td>\n",
              "      <td>Finalizado</td>\n",
              "      <td>3694</td>\n",
              "      <td>13</td>\n",
              "      <td>Comedia,Policía,Recuentos de la vida,Seinen,</td>\n",
              "      <td>https://www3.animeflv.net/anime/hakozume-kouba...</td>\n",
              "      <td>https://www3.animeflv.net/uploads/animes/cover...</td>\n",
              "    </tr>\n",
              "    <tr>\n",
              "      <th>3406</th>\n",
              "      <td>Orient</td>\n",
              "      <td>A los 10 años, los mejores amigos, Musashi y K...</td>\n",
              "      <td>2022</td>\n",
              "      <td>Anime</td>\n",
              "      <td>4.3</td>\n",
              "      <td>595</td>\n",
              "      <td>Finalizado</td>\n",
              "      <td>10561</td>\n",
              "      <td>12</td>\n",
              "      <td>Acción,Fantasía,Shounen,</td>\n",
              "      <td>https://www3.animeflv.net/anime/orient</td>\n",
              "      <td>https://www3.animeflv.net/uploads/animes/cover...</td>\n",
              "    </tr>\n",
              "    <tr>\n",
              "      <th>3407</th>\n",
              "      <td>Tokyo 24-ku</td>\n",
              "      <td>La historia se sitúa en una isla artificial co...</td>\n",
              "      <td>2022</td>\n",
              "      <td>Anime</td>\n",
              "      <td>4.4</td>\n",
              "      <td>398</td>\n",
              "      <td>Finalizado</td>\n",
              "      <td>5895</td>\n",
              "      <td>12</td>\n",
              "      <td>Ciencia Ficción,</td>\n",
              "      <td>https://www3.animeflv.net/anime/tokyo-24ku</td>\n",
              "      <td>https://www3.animeflv.net/uploads/animes/cover...</td>\n",
              "    </tr>\n",
              "    <tr>\n",
              "      <th>3408</th>\n",
              "      <td>Leadale no Daichi nite</td>\n",
              "      <td>Debido a un terrible accidente, Keina Kagami s...</td>\n",
              "      <td>2022</td>\n",
              "      <td>Anime</td>\n",
              "      <td>4.5</td>\n",
              "      <td>914</td>\n",
              "      <td>Finalizado</td>\n",
              "      <td>10472</td>\n",
              "      <td>12</td>\n",
              "      <td>Aventuras,Fantasía,</td>\n",
              "      <td>https://www3.animeflv.net/anime/leadale-no-dai...</td>\n",
              "      <td>https://www3.animeflv.net/uploads/animes/cover...</td>\n",
              "    </tr>\n",
              "  </tbody>\n",
              "</table>\n",
              "<p>3409 rows × 12 columns</p>\n",
              "</div>\n",
              "      <button class=\"colab-df-convert\" onclick=\"convertToInteractive('df-21577aaa-3808-4507-a261-a51904865141')\"\n",
              "              title=\"Convert this dataframe to an interactive table.\"\n",
              "              style=\"display:none;\">\n",
              "        \n",
              "  <svg xmlns=\"http://www.w3.org/2000/svg\" height=\"24px\"viewBox=\"0 0 24 24\"\n",
              "       width=\"24px\">\n",
              "    <path d=\"M0 0h24v24H0V0z\" fill=\"none\"/>\n",
              "    <path d=\"M18.56 5.44l.94 2.06.94-2.06 2.06-.94-2.06-.94-.94-2.06-.94 2.06-2.06.94zm-11 1L8.5 8.5l.94-2.06 2.06-.94-2.06-.94L8.5 2.5l-.94 2.06-2.06.94zm10 10l.94 2.06.94-2.06 2.06-.94-2.06-.94-.94-2.06-.94 2.06-2.06.94z\"/><path d=\"M17.41 7.96l-1.37-1.37c-.4-.4-.92-.59-1.43-.59-.52 0-1.04.2-1.43.59L10.3 9.45l-7.72 7.72c-.78.78-.78 2.05 0 2.83L4 21.41c.39.39.9.59 1.41.59.51 0 1.02-.2 1.41-.59l7.78-7.78 2.81-2.81c.8-.78.8-2.07 0-2.86zM5.41 20L4 18.59l7.72-7.72 1.47 1.35L5.41 20z\"/>\n",
              "  </svg>\n",
              "      </button>\n",
              "      \n",
              "  <style>\n",
              "    .colab-df-container {\n",
              "      display:flex;\n",
              "      flex-wrap:wrap;\n",
              "      gap: 12px;\n",
              "    }\n",
              "\n",
              "    .colab-df-convert {\n",
              "      background-color: #E8F0FE;\n",
              "      border: none;\n",
              "      border-radius: 50%;\n",
              "      cursor: pointer;\n",
              "      display: none;\n",
              "      fill: #1967D2;\n",
              "      height: 32px;\n",
              "      padding: 0 0 0 0;\n",
              "      width: 32px;\n",
              "    }\n",
              "\n",
              "    .colab-df-convert:hover {\n",
              "      background-color: #E2EBFA;\n",
              "      box-shadow: 0px 1px 2px rgba(60, 64, 67, 0.3), 0px 1px 3px 1px rgba(60, 64, 67, 0.15);\n",
              "      fill: #174EA6;\n",
              "    }\n",
              "\n",
              "    [theme=dark] .colab-df-convert {\n",
              "      background-color: #3B4455;\n",
              "      fill: #D2E3FC;\n",
              "    }\n",
              "\n",
              "    [theme=dark] .colab-df-convert:hover {\n",
              "      background-color: #434B5C;\n",
              "      box-shadow: 0px 1px 3px 1px rgba(0, 0, 0, 0.15);\n",
              "      filter: drop-shadow(0px 1px 2px rgba(0, 0, 0, 0.3));\n",
              "      fill: #FFFFFF;\n",
              "    }\n",
              "  </style>\n",
              "\n",
              "      <script>\n",
              "        const buttonEl =\n",
              "          document.querySelector('#df-21577aaa-3808-4507-a261-a51904865141 button.colab-df-convert');\n",
              "        buttonEl.style.display =\n",
              "          google.colab.kernel.accessAllowed ? 'block' : 'none';\n",
              "\n",
              "        async function convertToInteractive(key) {\n",
              "          const element = document.querySelector('#df-21577aaa-3808-4507-a261-a51904865141');\n",
              "          const dataTable =\n",
              "            await google.colab.kernel.invokeFunction('convertToInteractive',\n",
              "                                                     [key], {});\n",
              "          if (!dataTable) return;\n",
              "\n",
              "          const docLinkHtml = 'Like what you see? Visit the ' +\n",
              "            '<a target=\"_blank\" href=https://colab.research.google.com/notebooks/data_table.ipynb>data table notebook</a>'\n",
              "            + ' to learn more about interactive tables.';\n",
              "          element.innerHTML = '';\n",
              "          dataTable['output_type'] = 'display_data';\n",
              "          await google.colab.output.renderOutput(dataTable, element);\n",
              "          const docLink = document.createElement('div');\n",
              "          docLink.innerHTML = docLinkHtml;\n",
              "          element.appendChild(docLink);\n",
              "        }\n",
              "      </script>\n",
              "    </div>\n",
              "  </div>\n",
              "  "
            ],
            "text/plain": [
              "                                                  title  \\\n",
              "0     Dragon Ball Z Especial: Freezer contra el padr...   \n",
              "1     Dragon Ball Z Pelicula 03: La batalla más gran...   \n",
              "2                                      Lodoss-tou Senki   \n",
              "3                               Fushigi no Umi no Nadia   \n",
              "4     Dragon Ball Z Pelicula 02: El hombre más fuert...   \n",
              "...                                                 ...   \n",
              "3404                            Saiyuuki Reload: Zeroin   \n",
              "3405                Hakozume: Kouban Joshi no Gyakushuu   \n",
              "3406                                             Orient   \n",
              "3407                                        Tokyo 24-ku   \n",
              "3408                             Leadale no Daichi nite   \n",
              "\n",
              "                                            description  year      type  \\\n",
              "0     Los Saiyajin han trabajado muy duro para Freez...  1990       OVA   \n",
              "1     Una banda de desértores del ejército de Freeze...  1990  Película   \n",
              "2     La historia se centra de alrededor de un joven...  1990     Anime   \n",
              "3     La revolución industrial ha terminado y el mun...  1990     Anime   \n",
              "4     La situación empieza con el doctor Uir?, quien...  1990  Película   \n",
              "...                                                 ...   ...       ...   \n",
              "3404  Una vez, la tierra de Togenkyo era una tierra ...  2022     Anime   \n",
              "3405  Seiko Fuji se graduó en la universidad de poli...  2022     Anime   \n",
              "3406  A los 10 años, los mejores amigos, Musashi y K...  2022     Anime   \n",
              "3407  La historia se sitúa en una isla artificial co...  2022     Anime   \n",
              "3408  Debido a un terrible accidente, Keina Kagami s...  2022     Anime   \n",
              "\n",
              "      rate_start  votes      status  followers  episodes  \\\n",
              "0            4.3    218  Finalizado       1249         1   \n",
              "1            3.9    173  Finalizado       1090         1   \n",
              "2            4.4     95  Finalizado        734        13   \n",
              "3            4.5     99  Finalizado        841        39   \n",
              "4            4.1    124  Finalizado       1070         1   \n",
              "...          ...    ...         ...        ...       ...   \n",
              "3404         3.6    230  Finalizado       2953        13   \n",
              "3405         4.3    429  Finalizado       3694        13   \n",
              "3406         4.3    595  Finalizado      10561        12   \n",
              "3407         4.4    398  Finalizado       5895        12   \n",
              "3408         4.5    914  Finalizado      10472        12   \n",
              "\n",
              "                                                genders  \\\n",
              "0                                                   NaN   \n",
              "1     Aventuras,Ciencia Ficción,Comedia,Fantasía,Sho...   \n",
              "2     Acción,Aventuras,Fantasía,Magia,Shounen,Sobren...   \n",
              "3     Aventuras,Ciencia Ficción,Comedia,Historico,Ro...   \n",
              "4     Aventuras,Ciencia Ficción,Comedia,Fantasía,Sho...   \n",
              "...                                                 ...   \n",
              "3404  Acción,Aventuras,Comedia,Demonios,Drama,Josei,...   \n",
              "3405       Comedia,Policía,Recuentos de la vida,Seinen,   \n",
              "3406                           Acción,Fantasía,Shounen,   \n",
              "3407                                   Ciencia Ficción,   \n",
              "3408                                Aventuras,Fantasía,   \n",
              "\n",
              "                                              url_anime  \\\n",
              "0     https://www3.animeflv.net/anime/dragon-ball-z-...   \n",
              "1     https://www3.animeflv.net/anime/dragon-ball-z-...   \n",
              "2      https://www3.animeflv.net/anime/lodoss-tou-senki   \n",
              "3     https://www3.animeflv.net/anime/fushigi-no-umi...   \n",
              "4     https://www3.animeflv.net/anime/dragon-ball-z-...   \n",
              "...                                                 ...   \n",
              "3404  https://www3.animeflv.net/anime/saiyuuki-reloa...   \n",
              "3405  https://www3.animeflv.net/anime/hakozume-kouba...   \n",
              "3406             https://www3.animeflv.net/anime/orient   \n",
              "3407         https://www3.animeflv.net/anime/tokyo-24ku   \n",
              "3408  https://www3.animeflv.net/anime/leadale-no-dai...   \n",
              "\n",
              "                                                  image  \n",
              "0     https://www3.animeflv.net/uploads/animes/cover...  \n",
              "1     https://www3.animeflv.net/uploads/animes/cover...  \n",
              "2     https://www3.animeflv.net/uploads/animes/cover...  \n",
              "3     https://www3.animeflv.net/uploads/animes/cover...  \n",
              "4     https://www3.animeflv.net/uploads/animes/cover...  \n",
              "...                                                 ...  \n",
              "3404  https://www3.animeflv.net/uploads/animes/cover...  \n",
              "3405  https://www3.animeflv.net/uploads/animes/cover...  \n",
              "3406  https://www3.animeflv.net/uploads/animes/cover...  \n",
              "3407  https://www3.animeflv.net/uploads/animes/cover...  \n",
              "3408  https://www3.animeflv.net/uploads/animes/cover...  \n",
              "\n",
              "[3409 rows x 12 columns]"
            ]
          },
          "execution_count": 101,
          "metadata": {},
          "output_type": "execute_result"
        }
      ],
      "source": [
        "anime_df = pd.read_csv('/content/drive/MyDrive/Colab Notebooks/archive/animeflv.csv')\n",
        "anime_df"
      ]
    },
    {
      "cell_type": "code",
      "execution_count": null,
      "metadata": {
        "colab": {
          "base_uri": "https://localhost:8080/",
          "height": 424
        },
        "id": "r8585Y1FS0y7",
        "outputId": "94eb9326-3077-4eb1-91ae-7a683e5dc706"
      },
      "outputs": [
        {
          "data": {
            "text/html": [
              "\n",
              "  <div id=\"df-0e0f6b11-5488-47de-94ee-608ac1b0d3fb\">\n",
              "    <div class=\"colab-df-container\">\n",
              "      <div>\n",
              "<style scoped>\n",
              "    .dataframe tbody tr th:only-of-type {\n",
              "        vertical-align: middle;\n",
              "    }\n",
              "\n",
              "    .dataframe tbody tr th {\n",
              "        vertical-align: top;\n",
              "    }\n",
              "\n",
              "    .dataframe thead th {\n",
              "        text-align: right;\n",
              "    }\n",
              "</style>\n",
              "<table border=\"1\" class=\"dataframe\">\n",
              "  <thead>\n",
              "    <tr style=\"text-align: right;\">\n",
              "      <th></th>\n",
              "      <th>title</th>\n",
              "      <th>followers</th>\n",
              "    </tr>\n",
              "  </thead>\n",
              "  <tbody>\n",
              "    <tr>\n",
              "      <th>17</th>\n",
              "      <td>Yu Yu Hakusho: Ghost Files</td>\n",
              "      <td>5988</td>\n",
              "    </tr>\n",
              "    <tr>\n",
              "      <th>26</th>\n",
              "      <td>Sailor Moon</td>\n",
              "      <td>13292</td>\n",
              "    </tr>\n",
              "    <tr>\n",
              "      <th>30</th>\n",
              "      <td>Slam Dunk</td>\n",
              "      <td>5915</td>\n",
              "    </tr>\n",
              "    <tr>\n",
              "      <th>66</th>\n",
              "      <td>Neon Genesis Evangelion</td>\n",
              "      <td>24901</td>\n",
              "    </tr>\n",
              "    <tr>\n",
              "      <th>99</th>\n",
              "      <td>Dragon Ball GT</td>\n",
              "      <td>6180</td>\n",
              "    </tr>\n",
              "    <tr>\n",
              "      <th>...</th>\n",
              "      <td>...</td>\n",
              "      <td>...</td>\n",
              "    </tr>\n",
              "    <tr>\n",
              "      <th>3401</th>\n",
              "      <td>Karakai Jouzu no Takagi-san 3</td>\n",
              "      <td>11394</td>\n",
              "    </tr>\n",
              "    <tr>\n",
              "      <th>3403</th>\n",
              "      <td>Shuumatsu no Harem</td>\n",
              "      <td>24656</td>\n",
              "    </tr>\n",
              "    <tr>\n",
              "      <th>3406</th>\n",
              "      <td>Orient</td>\n",
              "      <td>10561</td>\n",
              "    </tr>\n",
              "    <tr>\n",
              "      <th>3407</th>\n",
              "      <td>Tokyo 24-ku</td>\n",
              "      <td>5895</td>\n",
              "    </tr>\n",
              "    <tr>\n",
              "      <th>3408</th>\n",
              "      <td>Leadale no Daichi nite</td>\n",
              "      <td>10472</td>\n",
              "    </tr>\n",
              "  </tbody>\n",
              "</table>\n",
              "<p>886 rows × 2 columns</p>\n",
              "</div>\n",
              "      <button class=\"colab-df-convert\" onclick=\"convertToInteractive('df-0e0f6b11-5488-47de-94ee-608ac1b0d3fb')\"\n",
              "              title=\"Convert this dataframe to an interactive table.\"\n",
              "              style=\"display:none;\">\n",
              "        \n",
              "  <svg xmlns=\"http://www.w3.org/2000/svg\" height=\"24px\"viewBox=\"0 0 24 24\"\n",
              "       width=\"24px\">\n",
              "    <path d=\"M0 0h24v24H0V0z\" fill=\"none\"/>\n",
              "    <path d=\"M18.56 5.44l.94 2.06.94-2.06 2.06-.94-2.06-.94-.94-2.06-.94 2.06-2.06.94zm-11 1L8.5 8.5l.94-2.06 2.06-.94-2.06-.94L8.5 2.5l-.94 2.06-2.06.94zm10 10l.94 2.06.94-2.06 2.06-.94-2.06-.94-.94-2.06-.94 2.06-2.06.94z\"/><path d=\"M17.41 7.96l-1.37-1.37c-.4-.4-.92-.59-1.43-.59-.52 0-1.04.2-1.43.59L10.3 9.45l-7.72 7.72c-.78.78-.78 2.05 0 2.83L4 21.41c.39.39.9.59 1.41.59.51 0 1.02-.2 1.41-.59l7.78-7.78 2.81-2.81c.8-.78.8-2.07 0-2.86zM5.41 20L4 18.59l7.72-7.72 1.47 1.35L5.41 20z\"/>\n",
              "  </svg>\n",
              "      </button>\n",
              "      \n",
              "  <style>\n",
              "    .colab-df-container {\n",
              "      display:flex;\n",
              "      flex-wrap:wrap;\n",
              "      gap: 12px;\n",
              "    }\n",
              "\n",
              "    .colab-df-convert {\n",
              "      background-color: #E8F0FE;\n",
              "      border: none;\n",
              "      border-radius: 50%;\n",
              "      cursor: pointer;\n",
              "      display: none;\n",
              "      fill: #1967D2;\n",
              "      height: 32px;\n",
              "      padding: 0 0 0 0;\n",
              "      width: 32px;\n",
              "    }\n",
              "\n",
              "    .colab-df-convert:hover {\n",
              "      background-color: #E2EBFA;\n",
              "      box-shadow: 0px 1px 2px rgba(60, 64, 67, 0.3), 0px 1px 3px 1px rgba(60, 64, 67, 0.15);\n",
              "      fill: #174EA6;\n",
              "    }\n",
              "\n",
              "    [theme=dark] .colab-df-convert {\n",
              "      background-color: #3B4455;\n",
              "      fill: #D2E3FC;\n",
              "    }\n",
              "\n",
              "    [theme=dark] .colab-df-convert:hover {\n",
              "      background-color: #434B5C;\n",
              "      box-shadow: 0px 1px 3px 1px rgba(0, 0, 0, 0.15);\n",
              "      filter: drop-shadow(0px 1px 2px rgba(0, 0, 0, 0.3));\n",
              "      fill: #FFFFFF;\n",
              "    }\n",
              "  </style>\n",
              "\n",
              "      <script>\n",
              "        const buttonEl =\n",
              "          document.querySelector('#df-0e0f6b11-5488-47de-94ee-608ac1b0d3fb button.colab-df-convert');\n",
              "        buttonEl.style.display =\n",
              "          google.colab.kernel.accessAllowed ? 'block' : 'none';\n",
              "\n",
              "        async function convertToInteractive(key) {\n",
              "          const element = document.querySelector('#df-0e0f6b11-5488-47de-94ee-608ac1b0d3fb');\n",
              "          const dataTable =\n",
              "            await google.colab.kernel.invokeFunction('convertToInteractive',\n",
              "                                                     [key], {});\n",
              "          if (!dataTable) return;\n",
              "\n",
              "          const docLinkHtml = 'Like what you see? Visit the ' +\n",
              "            '<a target=\"_blank\" href=https://colab.research.google.com/notebooks/data_table.ipynb>data table notebook</a>'\n",
              "            + ' to learn more about interactive tables.';\n",
              "          element.innerHTML = '';\n",
              "          dataTable['output_type'] = 'display_data';\n",
              "          await google.colab.output.renderOutput(dataTable, element);\n",
              "          const docLink = document.createElement('div');\n",
              "          docLink.innerHTML = docLinkHtml;\n",
              "          element.appendChild(docLink);\n",
              "        }\n",
              "      </script>\n",
              "    </div>\n",
              "  </div>\n",
              "  "
            ],
            "text/plain": [
              "                              title  followers\n",
              "17       Yu Yu Hakusho: Ghost Files       5988\n",
              "26                      Sailor Moon      13292\n",
              "30                        Slam Dunk       5915\n",
              "66          Neon Genesis Evangelion      24901\n",
              "99                   Dragon Ball GT       6180\n",
              "...                             ...        ...\n",
              "3401  Karakai Jouzu no Takagi-san 3      11394\n",
              "3403             Shuumatsu no Harem      24656\n",
              "3406                         Orient      10561\n",
              "3407                    Tokyo 24-ku       5895\n",
              "3408         Leadale no Daichi nite      10472\n",
              "\n",
              "[886 rows x 2 columns]"
            ]
          },
          "execution_count": 102,
          "metadata": {},
          "output_type": "execute_result"
        }
      ],
      "source": [
        "ca=anime_df[anime_df[\"followers\"]>5330][[\"title\",\"followers\"]]\n",
        "ca"
      ]
    },
    {
      "cell_type": "code",
      "execution_count": null,
      "metadata": {
        "colab": {
          "base_uri": "https://localhost:8080/",
          "height": 424
        },
        "id": "iz6u6DJUpFgc",
        "outputId": "8d3a7928-8e16-40e2-e7c2-ea25e53d8da3"
      },
      "outputs": [
        {
          "data": {
            "text/html": [
              "\n",
              "  <div id=\"df-fcdba583-5673-4ae3-a4e2-1b4713e0f7a6\">\n",
              "    <div class=\"colab-df-container\">\n",
              "      <div>\n",
              "<style scoped>\n",
              "    .dataframe tbody tr th:only-of-type {\n",
              "        vertical-align: middle;\n",
              "    }\n",
              "\n",
              "    .dataframe tbody tr th {\n",
              "        vertical-align: top;\n",
              "    }\n",
              "\n",
              "    .dataframe thead th {\n",
              "        text-align: right;\n",
              "    }\n",
              "</style>\n",
              "<table border=\"1\" class=\"dataframe\">\n",
              "  <thead>\n",
              "    <tr style=\"text-align: right;\">\n",
              "      <th></th>\n",
              "      <th>title</th>\n",
              "      <th>followers</th>\n",
              "    </tr>\n",
              "  </thead>\n",
              "  <tbody>\n",
              "    <tr>\n",
              "      <th>0</th>\n",
              "      <td>100-man no Inochi no Ue ni Ore wa Tatteiru</td>\n",
              "      <td>18022</td>\n",
              "    </tr>\n",
              "    <tr>\n",
              "      <th>1</th>\n",
              "      <td>100-man no Inochi no Ue ni Ore wa Tatteiru 2nd...</td>\n",
              "      <td>11084</td>\n",
              "    </tr>\n",
              "    <tr>\n",
              "      <th>2</th>\n",
              "      <td>2.43: Seiin Koukou Danshi Volley-bu</td>\n",
              "      <td>9411</td>\n",
              "    </tr>\n",
              "    <tr>\n",
              "      <th>3</th>\n",
              "      <td>25-sai no Jyoshikousei</td>\n",
              "      <td>8729</td>\n",
              "    </tr>\n",
              "    <tr>\n",
              "      <th>4</th>\n",
              "      <td>3D Kanojo: Real Girl</td>\n",
              "      <td>21196</td>\n",
              "    </tr>\n",
              "    <tr>\n",
              "      <th>...</th>\n",
              "      <td>...</td>\n",
              "      <td>...</td>\n",
              "    </tr>\n",
              "    <tr>\n",
              "      <th>880</th>\n",
              "      <td>Zero no Tsukaima: Princess no Rondo</td>\n",
              "      <td>7650</td>\n",
              "    </tr>\n",
              "    <tr>\n",
              "      <th>881</th>\n",
              "      <td>Zetsuen no Tempest</td>\n",
              "      <td>7588</td>\n",
              "    </tr>\n",
              "    <tr>\n",
              "      <th>882</th>\n",
              "      <td>Zombieland Saga</td>\n",
              "      <td>19718</td>\n",
              "    </tr>\n",
              "    <tr>\n",
              "      <th>883</th>\n",
              "      <td>Zombieland Saga: Revenge</td>\n",
              "      <td>8956</td>\n",
              "    </tr>\n",
              "    <tr>\n",
              "      <th>884</th>\n",
              "      <td>Zutto Mae kara Suki deshita.: Kokuhaku Jikkou ...</td>\n",
              "      <td>7992</td>\n",
              "    </tr>\n",
              "  </tbody>\n",
              "</table>\n",
              "<p>885 rows × 2 columns</p>\n",
              "</div>\n",
              "      <button class=\"colab-df-convert\" onclick=\"convertToInteractive('df-fcdba583-5673-4ae3-a4e2-1b4713e0f7a6')\"\n",
              "              title=\"Convert this dataframe to an interactive table.\"\n",
              "              style=\"display:none;\">\n",
              "        \n",
              "  <svg xmlns=\"http://www.w3.org/2000/svg\" height=\"24px\"viewBox=\"0 0 24 24\"\n",
              "       width=\"24px\">\n",
              "    <path d=\"M0 0h24v24H0V0z\" fill=\"none\"/>\n",
              "    <path d=\"M18.56 5.44l.94 2.06.94-2.06 2.06-.94-2.06-.94-.94-2.06-.94 2.06-2.06.94zm-11 1L8.5 8.5l.94-2.06 2.06-.94-2.06-.94L8.5 2.5l-.94 2.06-2.06.94zm10 10l.94 2.06.94-2.06 2.06-.94-2.06-.94-.94-2.06-.94 2.06-2.06.94z\"/><path d=\"M17.41 7.96l-1.37-1.37c-.4-.4-.92-.59-1.43-.59-.52 0-1.04.2-1.43.59L10.3 9.45l-7.72 7.72c-.78.78-.78 2.05 0 2.83L4 21.41c.39.39.9.59 1.41.59.51 0 1.02-.2 1.41-.59l7.78-7.78 2.81-2.81c.8-.78.8-2.07 0-2.86zM5.41 20L4 18.59l7.72-7.72 1.47 1.35L5.41 20z\"/>\n",
              "  </svg>\n",
              "      </button>\n",
              "      \n",
              "  <style>\n",
              "    .colab-df-container {\n",
              "      display:flex;\n",
              "      flex-wrap:wrap;\n",
              "      gap: 12px;\n",
              "    }\n",
              "\n",
              "    .colab-df-convert {\n",
              "      background-color: #E8F0FE;\n",
              "      border: none;\n",
              "      border-radius: 50%;\n",
              "      cursor: pointer;\n",
              "      display: none;\n",
              "      fill: #1967D2;\n",
              "      height: 32px;\n",
              "      padding: 0 0 0 0;\n",
              "      width: 32px;\n",
              "    }\n",
              "\n",
              "    .colab-df-convert:hover {\n",
              "      background-color: #E2EBFA;\n",
              "      box-shadow: 0px 1px 2px rgba(60, 64, 67, 0.3), 0px 1px 3px 1px rgba(60, 64, 67, 0.15);\n",
              "      fill: #174EA6;\n",
              "    }\n",
              "\n",
              "    [theme=dark] .colab-df-convert {\n",
              "      background-color: #3B4455;\n",
              "      fill: #D2E3FC;\n",
              "    }\n",
              "\n",
              "    [theme=dark] .colab-df-convert:hover {\n",
              "      background-color: #434B5C;\n",
              "      box-shadow: 0px 1px 3px 1px rgba(0, 0, 0, 0.15);\n",
              "      filter: drop-shadow(0px 1px 2px rgba(0, 0, 0, 0.3));\n",
              "      fill: #FFFFFF;\n",
              "    }\n",
              "  </style>\n",
              "\n",
              "      <script>\n",
              "        const buttonEl =\n",
              "          document.querySelector('#df-fcdba583-5673-4ae3-a4e2-1b4713e0f7a6 button.colab-df-convert');\n",
              "        buttonEl.style.display =\n",
              "          google.colab.kernel.accessAllowed ? 'block' : 'none';\n",
              "\n",
              "        async function convertToInteractive(key) {\n",
              "          const element = document.querySelector('#df-fcdba583-5673-4ae3-a4e2-1b4713e0f7a6');\n",
              "          const dataTable =\n",
              "            await google.colab.kernel.invokeFunction('convertToInteractive',\n",
              "                                                     [key], {});\n",
              "          if (!dataTable) return;\n",
              "\n",
              "          const docLinkHtml = 'Like what you see? Visit the ' +\n",
              "            '<a target=\"_blank\" href=https://colab.research.google.com/notebooks/data_table.ipynb>data table notebook</a>'\n",
              "            + ' to learn more about interactive tables.';\n",
              "          element.innerHTML = '';\n",
              "          dataTable['output_type'] = 'display_data';\n",
              "          await google.colab.output.renderOutput(dataTable, element);\n",
              "          const docLink = document.createElement('div');\n",
              "          docLink.innerHTML = docLinkHtml;\n",
              "          element.appendChild(docLink);\n",
              "        }\n",
              "      </script>\n",
              "    </div>\n",
              "  </div>\n",
              "  "
            ],
            "text/plain": [
              "                                                 title  followers\n",
              "0           100-man no Inochi no Ue ni Ore wa Tatteiru      18022\n",
              "1    100-man no Inochi no Ue ni Ore wa Tatteiru 2nd...      11084\n",
              "2                  2.43: Seiin Koukou Danshi Volley-bu       9411\n",
              "3                               25-sai no Jyoshikousei       8729\n",
              "4                                 3D Kanojo: Real Girl      21196\n",
              "..                                                 ...        ...\n",
              "880                Zero no Tsukaima: Princess no Rondo       7650\n",
              "881                                 Zetsuen no Tempest       7588\n",
              "882                                    Zombieland Saga      19718\n",
              "883                           Zombieland Saga: Revenge       8956\n",
              "884  Zutto Mae kara Suki deshita.: Kokuhaku Jikkou ...       7992\n",
              "\n",
              "[885 rows x 2 columns]"
            ]
          },
          "execution_count": 103,
          "metadata": {},
          "output_type": "execute_result"
        }
      ],
      "source": [
        "dfgrop=ca.groupby(\"title\").max()[[\"followers\"]].reset_index()\n",
        "dfgrop"
      ]
    },
    {
      "cell_type": "code",
      "execution_count": null,
      "metadata": {
        "colab": {
          "base_uri": "https://localhost:8080/"
        },
        "id": "E7T37z2AUwUN",
        "outputId": "da30734c-65f0-49e7-a6a2-d30fa3b116de"
      },
      "outputs": [
        {
          "data": {
            "text/plain": [
              "{'100-man no Inochi no Ue ni Ore wa Tatteiru',\n",
              " '100-man no Inochi no Ue ni Ore wa Tatteiru 2nd Season',\n",
              " '2.43: Seiin Koukou Danshi Volley-bu',\n",
              " '25-sai no Jyoshikousei',\n",
              " '3D Kanojo: Real Girl',\n",
              " '3D Kanojo: Real Girl 2nd Season',\n",
              " '86 - Eighty Six',\n",
              " '86 2nd Season',\n",
              " '91 Days',\n",
              " 'Absolute Duo',\n",
              " 'Accel World',\n",
              " 'Acchi Kocchi',\n",
              " 'Adachi to Shimamura',\n",
              " 'Aharen-san wa Hakarenai',\n",
              " 'Ahiru no Sora',\n",
              " 'Aho Girl',\n",
              " 'Ajin',\n",
              " 'Akagami no Shirayuki-hime',\n",
              " 'Akagami no Shirayuki-hime 2nd Season',\n",
              " 'Akame ga Kill!',\n",
              " 'Akatsuki no Yona',\n",
              " 'Akebi-chan no Sailor-fuku',\n",
              " 'Akkun to Kanojo',\n",
              " 'Akudama Drive',\n",
              " 'Amaama to Inazuma',\n",
              " 'Amagami SS',\n",
              " 'Amagi Brilliant Park',\n",
              " 'Angel Beats',\n",
              " 'Ano Hi Mita Hana no Namae o Boku-tachi wa Mada Shiranai',\n",
              " 'Another',\n",
              " 'Ansatsu Kyoushitsu (TV)',\n",
              " 'Ansatsu Kyoushitsu (TV) 2nd Season',\n",
              " 'Ao Ashi',\n",
              " 'Ao Haru Ride',\n",
              " 'Ao no Exorcist',\n",
              " 'Ao no Exorcist: Kyoto Fujouou-hen',\n",
              " 'Araburu Kisetsu no Otome-domo yo.',\n",
              " 'Arifureta Shokugyou de Sekai Saikyou',\n",
              " 'Arifureta Shokugyou de Sekai Saikyou 2nd Season',\n",
              " 'Arte',\n",
              " 'Asobi Asobase',\n",
              " 'Asobi ni Iku yo!',\n",
              " 'Assassins Pride',\n",
              " 'Assault Lily: Bouquet',\n",
              " 'Azur Lane',\n",
              " 'B Gata H Kei',\n",
              " 'BAKI: dai reitaisai-hen',\n",
              " 'BEASTARS',\n",
              " 'Babylon',\n",
              " 'Baka to Test to Shoukanjuu',\n",
              " 'Bakemonogatari',\n",
              " 'Baki (2018)',\n",
              " 'Bakuten!!',\n",
              " 'Ballroom e Youkoso',\n",
              " 'Banana Fish',\n",
              " 'Baraou no Souretsu',\n",
              " 'Beatless',\n",
              " 'Beelzebub',\n",
              " 'Beelzebub-jou no Okinimesu mama.',\n",
              " 'Bem',\n",
              " 'Berserk',\n",
              " 'Berserk (2016)',\n",
              " 'Big Order (TV)',\n",
              " 'Bishounen Tanteidan',\n",
              " 'Black Bullet',\n",
              " 'Black Clover (TV)',\n",
              " 'Black Lagoon',\n",
              " 'Bleach',\n",
              " 'Blend S',\n",
              " 'Blood Lad',\n",
              " 'Blood-C',\n",
              " 'Boku dake ga Inai Machi',\n",
              " 'Boku no Hero Academia',\n",
              " 'Boku no Hero Academia 2nd Season',\n",
              " 'Boku no Hero Academia 3rd Season',\n",
              " 'Boku no Hero Academia 4th Season',\n",
              " 'Boku no Hero Academia 5th Season',\n",
              " 'Boku no Hero Academia the Movie 2: Heroes:Rising',\n",
              " 'Boku no Hero Academia the Movie: Futari no Hero',\n",
              " 'Boku no Kanojo ga Majimesugiru Sho-bitch na Ken',\n",
              " 'Boku wa Tomodachi ga Sukunai',\n",
              " 'Bokura wa Minna Kawaisou',\n",
              " 'Bokutachi no Remake',\n",
              " 'Bokutachi wa Benkyou ga Dekinai',\n",
              " 'Bokutachi wa Benkyou ga Dekinai 2',\n",
              " 'Boogiepop wa Warawanai (2019)',\n",
              " 'Boruto: Naruto Next Generations',\n",
              " 'Btooom!',\n",
              " 'Build Divide: Code Black',\n",
              " 'Bungou Stray Dogs',\n",
              " 'Bungou Stray Dogs 2nd Season',\n",
              " 'Bungou Stray Dogs 3rd Season',\n",
              " 'Bungou Stray Dogs Wan!',\n",
              " 'Bungou to Alchemist: Shinpan no Haguruma',\n",
              " 'Burn the Witch',\n",
              " 'Busou Shoujo Machiavellianism',\n",
              " 'Caligula',\n",
              " 'Campione!',\n",
              " 'Captain Tsubasa (2018)',\n",
              " 'Cardcaptor Sakura: Clear Card-hen',\n",
              " 'Carole & Tuesday',\n",
              " 'Chain Chronicle: Haecceitas no Hikari',\n",
              " 'Charlotte',\n",
              " 'Cheat Kusushi no Slow Life: Isekai ni Tsukurou Drugstore',\n",
              " 'Choujin Koukousei-tachi wa Isekai demo Yoyuu de Ikinuku you desu!',\n",
              " 'Chuunibyou demo Koi ga Shitai!',\n",
              " 'Chuunibyou demo Koi ga Shitai! Movie: Take On Me',\n",
              " 'Chuunibyou demo Koi ga Shitai! Ren',\n",
              " 'Citrus',\n",
              " 'Clannad',\n",
              " 'Clannad After Story',\n",
              " 'Claymore',\n",
              " 'Clockwork Planet',\n",
              " 'Code Geass',\n",
              " 'Code:Breaker',\n",
              " 'Code:Realize: Sousei no Himegimi',\n",
              " 'Conception',\n",
              " 'Cop Craft',\n",
              " 'Cowboy Bebop',\n",
              " 'Cross Ange: Tenshi to Ryuu no Rondo',\n",
              " 'D-Frag!',\n",
              " 'D.Gray-Man',\n",
              " 'D_Cide Traumerei the Animation',\n",
              " 'Dagashi Kashi',\n",
              " 'Dagashi Kashi 2',\n",
              " 'Daitoshokan no Hitsujikai',\n",
              " 'Dakara Boku wa, H ga Dekinai',\n",
              " 'Dakaretai Otoko 1-i ni Odosarete Imasu.',\n",
              " 'Danganronpa 3: The End of Kibougamine Gakuen - Mirai-hen',\n",
              " 'Danganronpa 3: The End of Kibougamine Gakuen - Zetsubou-hen',\n",
              " 'Danganronpa The Animation',\n",
              " 'Danna ga Nani wo Itteiru ka Wakaranai Ken',\n",
              " 'Danshi Koukousei no Nichijou',\n",
              " 'Darker Than Black',\n",
              " 'Darling in the FranXX',\n",
              " \"Darwin's Game\",\n",
              " 'Date A Live',\n",
              " 'Date A Live IV',\n",
              " 'Date A Live Movie: Mayuri Judgment',\n",
              " 'Date A Live Ⅲ',\n",
              " 'Date A Live: Encore OVA',\n",
              " 'Date a Live II',\n",
              " 'Deadman Wonderland',\n",
              " 'Death March kara Hajimaru Isekai Kyousoukyoku',\n",
              " 'Death Note',\n",
              " 'Death Parade',\n",
              " 'Deatte 5-byou de Battle',\n",
              " 'Deca-Dence',\n",
              " 'Deep Insanity: The Lost Child',\n",
              " 'Demi-chan wa Kataritai',\n",
              " 'Densetsu no Yusha no Densetsu',\n",
              " 'Detective Conan',\n",
              " 'Devils Line',\n",
              " 'Diabolik Lovers',\n",
              " 'Diabolik Lovers More,Blood',\n",
              " 'Dies Irae',\n",
              " 'Digimon Adventure: (2020)\\t',\n",
              " 'Dogeza de Tanondemita',\n",
              " 'Dokyuu Hentai HxEros',\n",
              " \"Dolls' Frontline\",\n",
              " 'Domestic na Kanojo',\n",
              " 'Dorohedoro',\n",
              " 'Dororo',\n",
              " 'Doukyonin wa Hiza, Tokidoki, Atama no Ue.',\n",
              " 'Dr. Stone',\n",
              " 'Dr. Stone: Stone Wars',\n",
              " 'Dragon Ball GT',\n",
              " 'Dragon Ball Heroes',\n",
              " 'Dragon Ball Super',\n",
              " 'Dragon Ball Super Latino',\n",
              " 'Dragon Quest: Dai no Daibouken (2020)',\n",
              " 'Drifters',\n",
              " 'Dumbbell Nan Kilo Moteru?',\n",
              " 'Dungeon ni Deai wo Motomeru no wa Machigatteiru Darou ka',\n",
              " 'Dungeon ni Deai wo Motomeru no wa Machigatteiru Darou ka Gaiden: Sword Oratoria',\n",
              " 'Dungeon ni Deai wo Motomeru no wa Machigatteiru Darou ka II',\n",
              " 'Dungeon ni Deai wo Motomeru no wa Machigatteiru Darou ka III',\n",
              " 'Dungeon ni Deai wo Motomeru no wa Machigatteiru Darou ka Movie: Orion no Ya',\n",
              " 'Dungeon ni Deai wo Motomeru no wa Machigatteiru Darou ka OVA',\n",
              " 'Durarara!!',\n",
              " 'Edens Zero',\n",
              " 'Eizouken ni wa Te wo Dasu na!',\n",
              " 'Elfen Lied',\n",
              " 'Enen no Shouboutai',\n",
              " 'Enen no Shouboutai: Ni no Shou',\n",
              " 'Enmusubi no Youko-chan',\n",
              " 'Eromanga-sensei',\n",
              " 'Evil or Live',\n",
              " 'Fairy Gone',\n",
              " 'Fairy Tail',\n",
              " 'Fairy Tail (2014)',\n",
              " 'Fairy Tail: Final Series',\n",
              " 'Fantasy Bishoujo Juniku Ojisan to',\n",
              " 'Fate Stay Night',\n",
              " 'Fate/Apocrypha',\n",
              " 'Fate/Grand Order: Zettai Majuu Sensen Babylonia',\n",
              " 'Fate/Zero',\n",
              " 'Fate/Zero 2',\n",
              " \"Fate/stay night Movie: Heaven's Feel\",\n",
              " 'Fate/stay night: Unlimited Blade Works',\n",
              " 'Free!',\n",
              " 'Free! Eternal Summer',\n",
              " 'Free!: Dive to the Future',\n",
              " 'Freezing',\n",
              " 'Fruits Basket (2019)',\n",
              " 'Fruits Basket 2nd Season',\n",
              " 'Fruits Basket: The Final',\n",
              " 'Fugou Keiji: Balance:Unlimited',\n",
              " 'Fukumenkei Noise',\n",
              " 'Full Metal Panic!',\n",
              " 'Fullmetal Alchemist',\n",
              " 'Fullmetal Alchemist: Brotherhood',\n",
              " 'Fumetsu no Anata e',\n",
              " 'Fuuka',\n",
              " 'Gabriel DropOut',\n",
              " 'Gaikotsu Kishi-sama, Tadaima Isekai e Odekakechuu',\n",
              " 'Gakkou Gurashi!',\n",
              " 'Gakuen Babysitters',\n",
              " 'Gakusen Toshi Asterisk',\n",
              " 'Gakusen Toshi Asterisk 2nd Season',\n",
              " 'Gamers!',\n",
              " 'Ganbare Douki-chan',\n",
              " 'Gangsta.',\n",
              " 'Gantz',\n",
              " 'Gate: Jieitai Kanochi nite, Kaku Tatakaeri',\n",
              " 'Gate: Jieitai Kanochi nite, Kaku Tatakaeri - Enryuu-hen',\n",
              " 'Gekkan Shoujo Nozaki-kun',\n",
              " 'Genjitsu Shugi Yuusha no Oukoku Saikenki',\n",
              " 'Getsuyoubi no Tawawa 2',\n",
              " 'Gibiate',\n",
              " 'Gin no Guardian',\n",
              " 'Gintama',\n",
              " 'Girly Air Force',\n",
              " 'Given',\n",
              " 'Given Movie',\n",
              " 'Gleipnir',\n",
              " 'Goblin Slayer',\n",
              " \"Goblin Slayer: Goblin's Crown\\t\",\n",
              " 'God Eater',\n",
              " 'Gokushufudou',\n",
              " 'Golden Kamuy',\n",
              " 'Golden Time',\n",
              " 'Gosick',\n",
              " 'Gotoubun no Hanayome',\n",
              " 'Gotoubun no Hanayome 2nd Season',\n",
              " 'Granblue Fantasy The Animation TV',\n",
              " 'Grancrest Senki',\n",
              " 'Grand Blue',\n",
              " 'Grappler Baki',\n",
              " 'Grimms Notes The Animation',\n",
              " 'Grisaia no Kajitsu',\n",
              " 'Grisaia no Meikyuu',\n",
              " 'Grisaia no Rakuen',\n",
              " 'Guilty Crown',\n",
              " 'Gunjou no Magmel',\n",
              " 'Hachi-nan tte, Sore wa Nai deshou!',\n",
              " 'Hagure Yuusha no Estetica',\n",
              " 'Hai to Gensou no Grimgar',\n",
              " 'Haikyuu!!',\n",
              " 'Haikyuu!! Second Season',\n",
              " 'Haikyuu!! Third Season',\n",
              " 'Haikyuu!!: Riku vs. Kuu',\n",
              " 'Haikyuu!!: To the Top',\n",
              " 'Hajime no Ippo',\n",
              " 'Hajimete no Gal',\n",
              " 'Hakata Tonkotsu Ramens',\n",
              " 'Handa-kun',\n",
              " 'Hanyou no Yashahime: Sengoku Otogizoushi',\n",
              " 'Hanyou no Yashahime: Sengoku Otogizoushi - Ni no Shou',\n",
              " 'Happy Sugar Life',\n",
              " 'Harukana Receive',\n",
              " 'Hataage! Kemono Michi',\n",
              " 'Hataraku Maou-sama!',\n",
              " 'Hataraku Saibou (TV)',\n",
              " 'Hataraku Saibou Black (TV)',\n",
              " 'Hataraku Saibou!!',\n",
              " 'Hatsukoi Monster',\n",
              " 'Heion Sedai no Idaten-tachi',\n",
              " 'Hellsing',\n",
              " 'Hellsing Ultimate',\n",
              " 'Hentai Ouji to Warawanai Neko',\n",
              " 'Hidan no Aria',\n",
              " 'Hige wo Soru. Soshite Joshikousei wo Hirou',\n",
              " 'High School DxD',\n",
              " 'High School DxD BorN',\n",
              " 'High School DxD BorN: Yomigaerarenai Pheonix',\n",
              " 'High School DxD Hero',\n",
              " 'High School DxD New',\n",
              " 'High Score Girl',\n",
              " 'Highschool of the Dead',\n",
              " 'Higurashi no Naku Koro Ni',\n",
              " 'Higurashi no Naku Koro ni (2020)',\n",
              " 'Himouto! Umaru-chan',\n",
              " 'Himouto! Umaru-chan R',\n",
              " 'Hinamatsuri',\n",
              " 'Hinomaruzumou',\n",
              " 'Hitori no Shita: The Outcast',\n",
              " 'Hitori no Shita: The Outcast 2nd Season',\n",
              " 'Hitoribocchi no ○○ Seikatsu',\n",
              " 'Hitorijime My Hero',\n",
              " 'Hitsugi no Chaika',\n",
              " 'Honzuki no Gekokujou: Shisho ni Naru Tame ni wa Shudan wo Erandeiraremasen',\n",
              " 'Horimiya',\n",
              " 'Hortensia Saga (TV)',\n",
              " 'Hoshiai no Sora',\n",
              " 'Hotarubi no Mori e',\n",
              " 'Houseki no Kuni (TV)',\n",
              " 'Hundred',\n",
              " 'Hunter x Hunter',\n",
              " 'Hunter x Hunter (2011)',\n",
              " 'Hyakuren no Haou to Seiyaku no Valkyria',\n",
              " 'Hyouka',\n",
              " 'ID:Invaded',\n",
              " 'IS: Infinite Stratos 2',\n",
              " 'Ichiban Ushiro no Daimaou',\n",
              " 'Ijiranaide, Nagatoro-san',\n",
              " 'Ikebukuro West Gate Park',\n",
              " 'Imouto sae Ireba Ii.',\n",
              " 'Infinite Dendrogram',\n",
              " 'Infinite Stratos',\n",
              " 'Inou-Battle wa Nichijou-kei no Naka de',\n",
              " 'Inu x Boku SS',\n",
              " 'Inuyasha',\n",
              " 'Inuyasha Kanketsu-hen',\n",
              " 'Inuyashiki',\n",
              " 'Irozuku Sekai no Ashita kara',\n",
              " 'Isekai Cheat Magician',\n",
              " 'Isekai Maou to Shoukan Shoujo no Dorei Majutsu',\n",
              " 'Isekai Maou to Shoukan Shoujo no Dorei Majutsu Ω',\n",
              " 'Isekai Quartet',\n",
              " 'Isekai Quartet 2nd Season',\n",
              " 'Isekai Shokudou',\n",
              " 'Isekai wa Smartphone to Tomo ni.',\n",
              " 'Ishuzoku Reviewers',\n",
              " 'Island',\n",
              " 'Itai no wa Iya nano de Bougyoryoku ni Kyokufuri Shitai to Omoimasu.',\n",
              " 'Ito Junji: Collection',\n",
              " 'Itsudatte Bokura no Koi wa 10 cm Datta.',\n",
              " 'Iya na Kao sare nagara Opantsu Misete Moraitai',\n",
              " 'Jahy-sama wa Kujikenai!',\n",
              " 'Jaku-Chara Tomozaki-kun',\n",
              " 'Jashin-chan Dropkick',\n",
              " 'Jibaku Shounen Hanako-kun',\n",
              " 'Jitsu wa Watashi wa',\n",
              " 'JoJo no Kimyou na Bouken Part 6: Stone Ocean',\n",
              " 'JoJo no Kimyou na Bouken: Ougon no Kaze',\n",
              " \"JoJo's Bizarre Adventure The Animation\",\n",
              " \"JoJo's Bizarre Adventure: Stardust Crusaders\",\n",
              " 'Jojo no Kimyou na Bouken: Diamond wa Kudakenai',\n",
              " \"Jojo's Bizarre Adventure: Stardust Crusaders 2nd Season\",\n",
              " 'Joran: The Princess of Snow and Blood',\n",
              " 'Joshiraku',\n",
              " 'Jujutsu Kaisen (TV)',\n",
              " 'Junjou Romantica',\n",
              " 'Just Because!',\n",
              " 'Juuni Taisen',\n",
              " 'Juuou Mujin no Fafnir',\n",
              " 'K Project',\n",
              " 'K-ON!',\n",
              " 'Kabukichou Sherlock',\n",
              " 'Kaguya-sama wa Kokurasetai: Tensai-tachi no Renai Zunousen',\n",
              " 'Kaguya-sama wa Kokurasetai: Tensai-tachi no Renai Zunousen 2nd Season',\n",
              " 'Kaguya-sama wa Kokurasetai: Ultra Romantic',\n",
              " 'Kai Byoui Ramune',\n",
              " 'Kaichou wa maid sama!',\n",
              " 'Kaifuku Jutsushi no Yarinaoshi',\n",
              " 'Kaijin Kaihatsu-bu no Kuroitsu-san',\n",
              " 'Kakegurui',\n",
              " 'Kakegurui××',\n",
              " 'Kakkou no Iinazuke',\n",
              " 'Kakuriyo no Yadomeshi',\n",
              " 'Kakushigoto',\n",
              " 'Kami-tachi ni Hirowareta Otoko',\n",
              " 'Kamisama Hajimemashita',\n",
              " 'Kamisama Hajimemashita: Kako-hen',\n",
              " 'Kamisama Hajimemashita◎',\n",
              " 'Kamisama ni Natta Hi',\n",
              " 'Kanata no Astra',\n",
              " 'Kangoku Gakuen',\n",
              " 'Kanojo ga Flag wo Oraretara',\n",
              " 'Kanojo mo Kanojo',\n",
              " 'Kanojo, Okarishimasu',\n",
              " 'Kanokon',\n",
              " 'Karakai Jouzu no Takagi-san',\n",
              " 'Karakai Jouzu no Takagi-san 2',\n",
              " 'Karakai Jouzu no Takagi-san 3',\n",
              " 'Karakuri Circus',\n",
              " 'Katekyo Hitman Reborn!',\n",
              " 'Katsute Kami Datta Kemono-tachi e',\n",
              " 'Kawaii dake ja Nai Shikimori-san',\n",
              " 'Kawaikereba Hentai demo Suki ni Natte Kuremasu ka?',\n",
              " 'Kaze ga Tsuyoku Fuiteiru',\n",
              " 'Kaze no Stigma',\n",
              " 'Keijo!!!!!!!!',\n",
              " 'Keishichou Tokumubu Tokushu Kyouakuhan Taisakushitsu Dainanaka: Tokunana',\n",
              " 'Kekkai Sensen',\n",
              " 'Kekkai Sensen & Beyond',\n",
              " 'Kemono Jihen',\n",
              " 'Kenja no Deshi wo Nanoru Kenja',\n",
              " 'Kenja no Mago',\n",
              " 'Keppeki Danshi! Aoyama-kun',\n",
              " 'Kill La Kill',\n",
              " 'Killing Bites',\n",
              " 'Kimetsu no Yaiba',\n",
              " 'Kimetsu no Yaiba Movie: Mugen Ressha-hen',\n",
              " 'Kimetsu no Yaiba: Mugen Ressha-hen Arc TV',\n",
              " 'Kimetsu no Yaiba: Yuukaku-hen',\n",
              " 'Kimi ni Todoke',\n",
              " 'Kimi ni Todoke 2nd Season',\n",
              " 'Kimi no Na wa',\n",
              " 'Kimi no Suizou wo Tabetai',\n",
              " 'Kimi to Boku no Saigo no Senjou, Aruiwa Sekai ga Hajimaru Seisen',\n",
              " 'Kimi to, Nami ni Noretara',\n",
              " \"King's Raid: Ishi wo Tsugumono-tachi\",\n",
              " 'Kiseijuu: Sei no Kakuritsu',\n",
              " 'Kishuku Gakkou no Juliet',\n",
              " 'KissxSis',\n",
              " 'Kiznaiver',\n",
              " \"Knight's & Magic\",\n",
              " 'Kobayashi-san Chi no Maid Dragon',\n",
              " 'Kobayashi-san Chi no Maid Dragon S',\n",
              " 'Kobayashi-san Chi no Maid Dragon S Mini Dragon',\n",
              " 'Koe no Katachi',\n",
              " 'Koi to Producer: EVOL×LOVE',\n",
              " 'Koi to Senkyo to Chocolate',\n",
              " 'Koi to Uso',\n",
              " 'Koi to Yobu ni wa Kimochi Warui',\n",
              " 'Koi wa Ameagari no You ni',\n",
              " 'Koi wa Sekai Seifuku no Ato de',\n",
              " 'Kokkoku',\n",
              " 'Kokoro Connect',\n",
              " 'Kokoro ga Sakebitagatterunda.',\n",
              " 'Komi-san wa, Comyushou desu.',\n",
              " 'Komi-san wa, Comyushou desu. 2nd Season',\n",
              " 'Kono Bijutsubu ni wa Mondai ga Aru!',\n",
              " 'Kono Naka ni Hitori, Imouto ga Iru!',\n",
              " 'Kono Oto Tomare!',\n",
              " 'Kono Subarashii Sekai ni Shukufuku wo!',\n",
              " 'Kono Subarashii Sekai ni Shukufuku wo! 2',\n",
              " 'Kono Subarashii Sekai ni Shukufuku wo!: Kurenai Densetsu',\n",
              " 'Kono Yo no Hate de Koi wo Utau Shoujo YU-NO',\n",
              " 'Kore wa Zombie Desu ka?',\n",
              " 'Koroshi Ai',\n",
              " 'Kotonoha no Niwa',\n",
              " 'Kotoura-san',\n",
              " 'Koukaku no Regios',\n",
              " 'Koutetsujou no Kabaneri',\n",
              " 'Koutetsujou no Kabaneri: Unato Kessen',\n",
              " 'Kujira no Kora wa Sajou ni Utau',\n",
              " 'Kuma Kuma Kuma Bear',\n",
              " 'Kumo Desu ga, Nani ka?',\n",
              " 'Kuroko no Basket 3',\n",
              " 'Kuroko no Basuke',\n",
              " 'Kuroko no Basuke 2',\n",
              " 'Kuroshitsuji',\n",
              " 'Kuroshitsuji II',\n",
              " 'Kuroshitsuji: Book of Circus',\n",
              " 'Kuusen Madoushi Kouhosei no Kyoukan',\n",
              " 'Kuzu no Honkai',\n",
              " 'Kyokou Suiri',\n",
              " 'Kyoukai no Kanata',\n",
              " 'Kyuukyoku Shinka shita Full Dive RPG ga Genjitsu yori mo Kusoge Dattara',\n",
              " 'Leadale no Daichi nite',\n",
              " 'Little Witch Academia (TV)',\n",
              " 'Log Horizon',\n",
              " 'Log Horizon 2',\n",
              " 'Log Horizon: Entaku Houkai',\n",
              " 'Lord El-Melloi II Sei no Jikenbo: Rail Zeppelin Grace Note',\n",
              " 'Lord of Vermilion: Guren no Ou',\n",
              " 'Love Live!',\n",
              " 'Love Stage!!',\n",
              " 'Lovely Complex',\n",
              " 'Lucky Star',\n",
              " 'MM!',\n",
              " 'Machikado Mazoku',\n",
              " 'Machine-Doll wa Kizutsukanai',\n",
              " 'Madan no Ou to Vanadis',\n",
              " 'Made in Abyss',\n",
              " 'Magi: The Kingdom of Magic',\n",
              " 'Magi: The Labyrinth of Magic',\n",
              " 'Magia Record: Mahou Shoujo Madoka☆Magica Gaiden (TV)',\n",
              " 'Maho Shojo Madoka Magica',\n",
              " 'Mahou Sensou',\n",
              " 'Mahou Shoujo Site',\n",
              " 'Mahou Shoujo Tokushusen Asuka',\n",
              " 'Mahouka Koukou no Rettousei',\n",
              " 'Mahouka Koukou no Rettousei Movie: Hoshi wo Yobu Shoujo',\n",
              " 'Mahouka Koukou no Rettousei: Raihousha-hen',\n",
              " 'Mahouka Koukou no Yuutousei',\n",
              " 'Mahoutsukai Reimeiki',\n",
              " 'Mahoutsukai no Yome',\n",
              " 'Mahoutsukai no Yome: Hoshi Matsu Hito',\n",
              " 'Mairimashita! Iruma-kun',\n",
              " 'Mairimashita! Iruma-kun 2nd Season',\n",
              " 'Maji de Watashi ni Koi Shinasai!!',\n",
              " 'Majo no Tabitabi',\n",
              " 'Majutsushi Orphen Hagure Tabi',\n",
              " 'Maken-Ki!',\n",
              " 'Manaria Friends',\n",
              " 'Mangaka-san to Assistant-san to The Animation',\n",
              " 'Maou Gakuin no Futekigousha',\n",
              " 'Maou-sama, Retry!',\n",
              " 'Maoujou de Oyasumi',\n",
              " 'Maoyu Mao Yuusha',\n",
              " 'Mars Red',\n",
              " 'Masamune-kun no Revenge',\n",
              " 'Mashiro no Oto',\n",
              " 'Masou Gakuen HxH',\n",
              " 'Mayo Chiki!',\n",
              " 'Mayonaka no Occult Koumuin',\n",
              " 'Megalo Box',\n",
              " 'Megami-ryou no Ryoubo-kun.',\n",
              " 'Meiji Tokyo Renka',\n",
              " 'Meikyuu Black Company',\n",
              " 'Mekaku City Actors',\n",
              " 'Midara na Ao-chan wa Benkyou ga Dekinai',\n",
              " 'Mieruko-chan',\n",
              " 'Miira no Kaikata',\n",
              " 'Mikakunin de Shinkoukei',\n",
              " 'Mirai Nikki',\n",
              " 'Mirai Nikki Redial',\n",
              " 'Mob Psycho 100',\n",
              " 'Mob Psycho 100 II',\n",
              " 'Mondaiji-tachi ga Isekai kara Kuru Sou Desu yo?',\n",
              " 'Monster',\n",
              " 'Monster Musume no Iru Nichijou',\n",
              " 'Monster Musume no Iru Nichijou OVA',\n",
              " 'Monster Musume no Oishasan',\n",
              " 'Motto To Love Ru ~trouble~',\n",
              " 'Mugen no Juunin: Immortal',\n",
              " 'Muhyo to Rouji no Mahouritsu Soudan Jimusho',\n",
              " 'Munou na Nana',\n",
              " 'Murenase! Seton Gakuen',\n",
              " 'Musaigen no Phantom World',\n",
              " 'Mushoku Tensei: Isekai Ittara Honki Dasu',\n",
              " 'Mushoku Tensei: Isekai Ittara Honki Dasu Part 2',\n",
              " 'NANA',\n",
              " 'Nagi no Asukara',\n",
              " 'Nakanohito Genome [Jikkyouchuu]',\n",
              " 'Nanatsu no Bitoku',\n",
              " 'Nanatsu no Taizai',\n",
              " 'Nanatsu no Taizai Movie: Tenkuu no Torawarebito',\n",
              " 'Nanatsu no Taizai: Fundo no Shinpan',\n",
              " 'Nanatsu no Taizai: Imashime no Fukkatsu',\n",
              " 'Nanatsu no Taizai: Kamigami no Gekirin',\n",
              " 'Nanatsu no Taizai: Seisen no Shirushi',\n",
              " 'Nanbaka',\n",
              " 'Nande Koko ni Sensei ga!?',\n",
              " 'Naruto',\n",
              " 'Naruto Shippuden',\n",
              " 'Nazo no Kanojo X',\n",
              " 'Nejimaki Seirei Senki: Tenkyou no Alderamin',\n",
              " 'Nekomonogatari (Kuro)',\n",
              " 'Nekopara (TV)',\n",
              " 'Neon Genesis Evangelion',\n",
              " 'Net-juu no Susume',\n",
              " 'Netoge no Yome wa Onnanoko ja Nai to Omotta?',\n",
              " 'Netsuzou TRap',\n",
              " 'New Game!',\n",
              " 'Nichijou',\n",
              " 'Night Head 2041',\n",
              " 'Nijiiro Days',\n",
              " 'Nisekoi',\n",
              " 'Nisekoi 2',\n",
              " 'Nisemonogatari',\n",
              " 'No Game No Life',\n",
              " 'No Game No Life Specials',\n",
              " 'No Game No Life: Zero',\n",
              " 'No Guns Life',\n",
              " 'Nobunaga-sensei no Osanazuma',\n",
              " 'Nomad: Megalo Box 2',\n",
              " 'Non Non Biyori',\n",
              " 'Noragami',\n",
              " 'Noragami Aragoto',\n",
              " 'Noragami Aragoto OVA',\n",
              " 'Noucome',\n",
              " 'Okusama ga Seito Kaichou!',\n",
              " 'Okusama ga Seitokaichou!+!',\n",
              " 'Omamori Himari',\n",
              " 'Omiai Aite wa Oshiego, Tsuyokina, Mondaiji.',\n",
              " 'One Piece',\n",
              " 'One Punch Man',\n",
              " 'One Punch Man 2nd Season',\n",
              " 'One Punch Man Specials',\n",
              " 'One Punch Man: Road to Hero',\n",
              " 'One Room',\n",
              " 'Onii-chan Dakedo Ai Sae Areba Kankeinai yo ne',\n",
              " 'Ookami Shoujo to Kuro Ouji',\n",
              " 'Orange',\n",
              " 'Ore Monogatari!!',\n",
              " 'Ore No Imouto Ga Konnani Kawaii Wake Ga Nai',\n",
              " 'Ore dake Haireru Kakushi Dungeon',\n",
              " 'Ore ga Ojousama Gakkou ni \"Shomin Sample\" Toshite Gets♥Sareta Ken',\n",
              " 'Ore ga Suki nano wa Imouto dakedo Imouto ja Nai',\n",
              " 'Ore no Kanojo to Osananajimi ga Shuraba Sugiru',\n",
              " 'Ore wo Suki nano wa Omae dake ka yo',\n",
              " 'Orient',\n",
              " 'Osake wa Fuufu ni Natte kara',\n",
              " 'Osananajimi ga Zettai ni Makenai Love Comedy',\n",
              " 'Otome Game Sekai wa Mob ni Kibishii Sekai desu',\n",
              " 'Otome Game no Hametsu Flag shika Nai Akuyaku Reijou ni Tensei shiteshimatta...',\n",
              " 'Otome Game no Hametsu Flag shika Nai Akuyaku Reijou ni Tensei shiteshimatta... X',\n",
              " 'Otona no Bouguya-san',\n",
              " 'Ouran Host Club',\n",
              " 'Ousama Game The Animation',\n",
              " 'Ousama Ranking',\n",
              " 'Outbreak Company',\n",
              " 'Overlord',\n",
              " 'Overlord II',\n",
              " 'Overlord III',\n",
              " 'Owari no Seraph',\n",
              " 'Owari no Seraph: Nagoya Kessen-hen',\n",
              " 'Peach Boy Riverside',\n",
              " 'Persona 5 the Animation',\n",
              " 'Pet',\n",
              " 'Peter Grill to Kenja no Jikan',\n",
              " 'Phantom in the Twilight',\n",
              " 'Piano no Mori (TV)',\n",
              " 'Plastic Memories',\n",
              " 'Platinum End',\n",
              " 'Plunderer',\n",
              " 'Pokemon',\n",
              " 'Pokemon (2019)',\n",
              " 'Pokemon Sun & Moon',\n",
              " 'Princess Connect! Re:Dive\\t',\n",
              " 'Princess Connect! Re:Dive Season 2',\n",
              " 'Princess Lover!',\n",
              " 'Psycho-Pass',\n",
              " 'Psycho-Pass 3',\n",
              " 'Qualidea Code',\n",
              " 'Radiant',\n",
              " 'Radiant 2nd Season',\n",
              " 'Rakudai Kishi no Cavalry',\n",
              " 'Re-Main',\n",
              " 'Re:Creators',\n",
              " 'Re:Zero kara Hajimeru Isekai Seikatsu',\n",
              " 'Re:Zero kara Hajimeru Isekai Seikatsu - Memory Snow',\n",
              " 'Re:Zero kara Hajimeru Isekai Seikatsu 2nd Season',\n",
              " 'Re:Zero kara Hajimeru Isekai Seikatsu: Shin Henshuu-ban',\n",
              " 'ReLIFE',\n",
              " 'ReLIFE: Kanketsu-hen',\n",
              " 'Renai Boukun',\n",
              " 'Rewrite',\n",
              " 'Rikei ga Koi ni Ochita no de Shoumei shitemita.',\n",
              " 'Rokka no Yuusha',\n",
              " 'Rokudenashi Majutsu Koushi to Akashic Records',\n",
              " 'Rokujouma no Shinryakusha!?',\n",
              " 'Rosario + Vampire',\n",
              " 'Rurouni Kenshin',\n",
              " 'Ryuuou no Oshigoto!',\n",
              " 'SK∞',\n",
              " 'SSSS.Dynazenon',\n",
              " 'SSSS.Gridman',\n",
              " 'Sabikui Bisco',\n",
              " 'Saenai Heroine no Sodatekata',\n",
              " 'Saenai Heroine no Sodatekata 2',\n",
              " 'Saihate no Paladin',\n",
              " 'Saijaku Muhai no Bahamut',\n",
              " 'Sailor Moon',\n",
              " 'Sakamoto desu ga?',\n",
              " 'Sakugan',\n",
              " 'Sakura Card Captor',\n",
              " 'Sakura Trick',\n",
              " 'Sakurada Reset',\n",
              " 'Sakurasou no Pet na Kanojo',\n",
              " 'Samurai Champloo',\n",
              " 'Sankaku Mado no Sotogawa wa Yoru',\n",
              " 'Sankarea',\n",
              " 'Sasaki to Miyano',\n",
              " 'Satsuriku no Tenshi',\n",
              " 'Scarlet Nexus',\n",
              " 'School Days',\n",
              " 'Seijo no Maryoku wa Bannou Desu',\n",
              " 'Seiken Tsukai no World Break',\n",
              " 'Seiken no Blacksmith',\n",
              " 'Seikoku no Dragonar',\n",
              " 'Seirei Gensouki',\n",
              " 'Seirei Tsukai no Blade Dance',\n",
              " 'Seiren',\n",
              " 'Seishun Buta Yarou wa Bunny Girl Senpai no Yume wo Minai',\n",
              " 'Seishun Buta Yarou wa Yumemiru Shoujo no Yume wo Minai',\n",
              " 'Seitokai Yakuindomo',\n",
              " 'Sekai Saikou no Ansatsusha, Isekai Kizoku ni Tensei suru',\n",
              " 'Sekaiichi Hatsukoi',\n",
              " 'Sekirei',\n",
              " 'Senpai ga Uzai Kouhai no Hanashi',\n",
              " 'Senran Kagura',\n",
              " 'Senryuu Shoujo',\n",
              " 'Sentouin, Hakenshimasu!',\n",
              " 'Serial Experiments Lain',\n",
              " 'Servamp',\n",
              " 'Seto no Hanayome',\n",
              " 'Seven Knights Revolution: Eiyuu no Keishousha',\n",
              " 'Sewayaki Kitsune no Senko-san',\n",
              " 'Shadows House',\n",
              " 'Shakugan no Shana',\n",
              " 'Shakunetsu Kabaddi',\n",
              " 'Shaman King (2021)',\n",
              " 'Shichisei no Subaru',\n",
              " 'Shigatsu wa Kimi no Uso',\n",
              " 'Shijou Saikyou no Daimaou, Murabito A ni Tensei suru',\n",
              " 'Shijou Saikyou no Deshi Kenichi',\n",
              " 'Shikkakumon no Saikyou Kenja',\n",
              " 'Shimoneta to Iu Gainen ga Sonzai Shinai Taikutsu na Sekai',\n",
              " 'Shin no Nakama ja Nai to Yuusha no Party wo Oidasareta node, Henkyou de Slow Life suru Koto ni Shima',\n",
              " 'Shinchou Yuusha: Kono Yuusha ga Ore Tueee Kuse ni Shinchou Sugiru',\n",
              " 'Shingeki no Bahamut: Genesis',\n",
              " 'Shingeki no Bahamut: Virgin Soul',\n",
              " 'Shingeki no Kyojin',\n",
              " 'Shingeki no Kyojin OVA',\n",
              " 'Shingeki no Kyojin Season 2',\n",
              " 'Shingeki no Kyojin Season 3',\n",
              " 'Shingeki no Kyojin Season 3 Part 2',\n",
              " 'Shingeki no Kyojin: Kuinaki Sentaku',\n",
              " 'Shingeki no Kyojin: Lost Girls',\n",
              " 'Shingeki no Kyojin: The Final Season',\n",
              " 'Shingeki no Kyojin: The Final Season Part 2',\n",
              " 'Shingeki! Kyojin Chuugakkou',\n",
              " 'Shinigami Bocchan to Kuro Maid',\n",
              " 'Shinka no Mi: Shiranai Uchi ni Kachigumi Jinsei',\n",
              " 'Shinmai Maou no Testament',\n",
              " 'Shinmai Maou no Testament Burst',\n",
              " 'Shinmai Maou no Testament Departures',\n",
              " 'Shinmai Maou no Testament OVA',\n",
              " 'Shiroi Suna no Aquatope',\n",
              " 'Shironeko Project: Zero Chronicle',\n",
              " 'Shokei Shoujo no Virgin Road',\n",
              " 'Shokugeki no Souma',\n",
              " 'Shokugeki no Souma: Gou no Sara',\n",
              " 'Shokugeki no Souma: Ni no Sara',\n",
              " 'Shokugeki no Souma: San no Sara',\n",
              " 'Shokugeki no Souma: San no Sara - Toutsuki Ressha-hen',\n",
              " 'Shokugeki no Souma: Shin no Sara',\n",
              " 'Shoujo Shuumatsu Ryokou',\n",
              " 'Shoumetsu Toshi',\n",
              " 'Shuumatsu Nani Shitemasu ka? Isogashii desu ka? Sukutte Moratte Ii desu ka?',\n",
              " 'Shuumatsu no Harem',\n",
              " 'Shuumatsu no Walküre',\n",
              " 'Sin: Nanatsu no Taizai',\n",
              " 'Skirt no Naka wa Kedamono Deshita.',\n",
              " 'Slam Dunk',\n",
              " 'Slime Taoshite 300-nen, Shiranai Uchi ni Level Max ni Nattemashita',\n",
              " 'Somali to Mori no Kamisama',\n",
              " 'Sonny Boy',\n",
              " 'Sono Bisque Doll wa Koi wo Suru',\n",
              " 'Sora no Otoshimono',\n",
              " 'Sora yori mo Tooi Basho',\n",
              " 'Soredemo Sekai wa Utsukushii',\n",
              " 'Soul Eater',\n",
              " 'Sounan Desu ka?',\n",
              " 'Sousei no Onmyouji',\n",
              " 'Spiritpact',\n",
              " 'Spiritpact 2',\n",
              " 'Spy x Family',\n",
              " 'Steins;Gate',\n",
              " 'Steins;Gate 0',\n",
              " 'Strike the Blood',\n",
              " 'Strike the Blood II',\n",
              " 'Strike the Blood III',\n",
              " 'Strike the Blood IV',\n",
              " 'Subarashiki Kono Sekai The Animation',\n",
              " 'Suki ni Naru Sono Shunkan wo',\n",
              " 'Sukitte Iinayo',\n",
              " 'Sunoharasou no Kanrinin-san',\n",
              " 'Super Cub',\n",
              " 'Super Lovers',\n",
              " 'Super Lovers 2',\n",
              " 'Sword Art Online',\n",
              " 'Sword Art Online Alternative: Gun Gale Online',\n",
              " 'Sword Art Online II',\n",
              " 'Sword Art Online Movie: Ordinal Scale',\n",
              " 'Sword Art Online: Alicization',\n",
              " 'Sword Art Online: Alicization - War of Underworld',\n",
              " 'Taboo Tattoo',\n",
              " 'Tachibanakan Triangle',\n",
              " 'Tada-kun wa Koi wo Shinai',\n",
              " 'Taimadou Gakuen 35 Shiken Shoutai',\n",
              " 'Taishou Otome Otogibanashi',\n",
              " 'Takt Op. Destiny',\n",
              " 'Tales of Zestiria the X',\n",
              " 'Tamako Love Story',\n",
              " 'Tamako Market',\n",
              " 'Tanaka-kun wa Itsumo Kedaruge',\n",
              " 'Tantei wa Mou, Shindeiru.',\n",
              " 'Tasogare Otome x Amnesia',\n",
              " 'Tate no Yuusha no Nariagari',\n",
              " 'Tate no Yuusha no Nariagari Season 2',\n",
              " 'Tatoeba Last Dungeon Mae no Mura no Shounen ga Joban no Machi de Kurasu Youna Monogatari',\n",
              " 'Tejina-senpai',\n",
              " 'Tengen Toppa Gurren Lagann',\n",
              " 'Tenki no Ko',\n",
              " 'Tenrou: Sirius the Jaeger',\n",
              " 'Tensai Ouji no Akaji Kokka Saisei Jutsu',\n",
              " 'Tensei shitara Slime Datta Ken',\n",
              " 'Tensei shitara Slime Datta Ken 2nd Season',\n",
              " 'Tensei shitara Slime Datta Ken 2nd Season Part 2',\n",
              " 'Tenshi no 3P!',\n",
              " 'Tensura Nikki: Tensei shitara Slime Datta Ken',\n",
              " 'The Melancholy of Haruhi Suzumiya',\n",
              " 'To LOVE-Ru Darkness',\n",
              " 'To LOVE-Ru Darkness 2nd',\n",
              " 'To Love Ru',\n",
              " 'Toaru Kagaku no Accelerator',\n",
              " 'Toaru Kagaku no Railgun',\n",
              " 'Toaru Majutsu no Index',\n",
              " 'Toaru Majutsu no Index III',\n",
              " 'Toji no Miko',\n",
              " 'Tokyo 24-ku',\n",
              " 'Tokyo Ghoul',\n",
              " 'Tokyo Ghoul √A',\n",
              " 'Tokyo Ghoul: \"Pinto\"',\n",
              " 'Tokyo Ghoul:re',\n",
              " 'Tokyo Ghoul:re 2nd Season',\n",
              " 'Tokyo Ravens',\n",
              " 'Tokyo Revengers',\n",
              " 'Tomodachi Game',\n",
              " 'Tonari no Kaibutsu-kun',\n",
              " 'Tonari no Seki-kun',\n",
              " 'ToraDora!',\n",
              " 'Triage X',\n",
              " 'Trinity Seven',\n",
              " 'Trinity Seven Movie 2: Tenkuu Toshokan to Shinku no Maou',\n",
              " 'Tsugu Tsugumomo\\t',\n",
              " 'Tsugumomo',\n",
              " 'Tsuki ga Kirei',\n",
              " 'Tsuki ga Michibiku Isekai Douchuu',\n",
              " 'Tsuki to Laika to Nosferatu',\n",
              " 'Tsurezure Children',\n",
              " 'Tsuujou Kougeki ga Zentai Kougeki de Ni-kai Kougeki no Okaasan wa Suki Desu ka',\n",
              " 'UQ Holder!: Mahou Sensei Negima! 2',\n",
              " 'Uchi no Ko no Tame naraba, Ore wa Moshikashitara Maou mo Taoseru kamo Shirenai.',\n",
              " 'Uchi no Maid ga Uzasugiru!',\n",
              " 'Uchiage Hanabi, Shita kara Miru ka? Yoko kara Miru ka?',\n",
              " 'Ueno-san wa Bukiyou',\n",
              " 'Ulysses: Jehanne Darc to Renkin no Kishi',\n",
              " 'Uma Musume: Pretty Derby (TV)',\n",
              " 'Uramichi Oniisan',\n",
              " 'Urasekai Picnic',\n",
              " 'Ushio to Tora (TV)',\n",
              " 'Uzaki-chan wa Asobitai!',\n",
              " 'Val x Love',\n",
              " 'Vampire Knight',\n",
              " 'Vanitas no Carte',\n",
              " 'Vinland Saga',\n",
              " 'Violet Evergarden',\n",
              " \"Vivy: Fluorite Eye's Song\",\n",
              " 'Watamote!',\n",
              " 'Watashi ga Motete Dousunda',\n",
              " 'Watashi ni Tenshi ga Maiorita!',\n",
              " 'Watashi, Nouryoku wa Heikinchi de tte Itta yo ne!',\n",
              " 'Wave!! Surfing Yappe!! (TV)',\n",
              " 'Witch Craft Works',\n",
              " 'Wonder Egg Priority',\n",
              " 'World Trigger',\n",
              " 'Wotaku ni Koi wa Muzukashii',\n",
              " 'Yagate Kimi ni Naru',\n",
              " 'Yahari Ore no Seishun Love Come wa Machigatteiru',\n",
              " 'Yahari Ore no Seishun Love Comedy wa Machigatteiru. Kan',\n",
              " 'Yahari Ore no Seishun Love Comedy wa Machigatteiru. Zoku',\n",
              " 'Yakusoku no Neverland',\n",
              " 'Yakusoku no Neverland 2nd Season',\n",
              " 'Yamada-kun to 7-nin no Majo (TV)',\n",
              " 'Yes ka No ka Hanbun ka',\n",
              " 'Yesterday wo Utatte\\t',\n",
              " 'Yosuga no Sora',\n",
              " 'Youjo Senki',\n",
              " 'Youjo Senki Movie',\n",
              " 'Youkoso Jitsuryoku Shijou Shugi no Kyoushitsu e (TV)',\n",
              " 'Yu Yu Hakusho: Ghost Files',\n",
              " 'Yuragi-sou no Yuuna-san',\n",
              " 'Yuri!!! on Ice',\n",
              " 'Yuru Camp△',\n",
              " 'Yuukoku no Moriarty',\n",
              " 'Yuusha, Yamemasu',\n",
              " 'Yuushibu',\n",
              " 'Zankyou no Terror',\n",
              " 'Zero kara Hajimeru Mahou no Sho',\n",
              " 'Zero no Tsukaima',\n",
              " 'Zero no Tsukaima: Final',\n",
              " 'Zero no Tsukaima: Futatsuki no Kishi',\n",
              " 'Zero no Tsukaima: Princess no Rondo',\n",
              " 'Zetsuen no Tempest',\n",
              " 'Zombieland Saga',\n",
              " 'Zombieland Saga: Revenge',\n",
              " 'Zutto Mae kara Suki deshita.: Kokuhaku Jikkou Iinkai'}"
            ]
          },
          "execution_count": 104,
          "metadata": {},
          "output_type": "execute_result"
        }
      ],
      "source": [
        "senzadoppioni = set(dfgrop[\"title\"])   #convertito in una sezione un dataframe \n",
        "senzadoppioni"
      ]
    },
    {
      "cell_type": "code",
      "execution_count": null,
      "metadata": {
        "colab": {
          "base_uri": "https://localhost:8080/",
          "height": 424
        },
        "id": "ZX1fPFfipkvo",
        "outputId": "6ed09749-a490-4cff-8d46-fd639023461c"
      },
      "outputs": [
        {
          "data": {
            "text/html": [
              "\n",
              "  <div id=\"df-e42f2cdc-44cf-47ad-a0ab-e53f50a342c2\">\n",
              "    <div class=\"colab-df-container\">\n",
              "      <div>\n",
              "<style scoped>\n",
              "    .dataframe tbody tr th:only-of-type {\n",
              "        vertical-align: middle;\n",
              "    }\n",
              "\n",
              "    .dataframe tbody tr th {\n",
              "        vertical-align: top;\n",
              "    }\n",
              "\n",
              "    .dataframe thead th {\n",
              "        text-align: right;\n",
              "    }\n",
              "</style>\n",
              "<table border=\"1\" class=\"dataframe\">\n",
              "  <thead>\n",
              "    <tr style=\"text-align: right;\">\n",
              "      <th></th>\n",
              "      <th>title</th>\n",
              "      <th>followers</th>\n",
              "    </tr>\n",
              "  </thead>\n",
              "  <tbody>\n",
              "    <tr>\n",
              "      <th>0</th>\n",
              "      <td>.hack//DUSK</td>\n",
              "      <td>1</td>\n",
              "    </tr>\n",
              "    <tr>\n",
              "      <th>1</th>\n",
              "      <td>.hack//G.U.Trilogy</td>\n",
              "      <td>1</td>\n",
              "    </tr>\n",
              "    <tr>\n",
              "      <th>2</th>\n",
              "      <td>.hack//Roots</td>\n",
              "      <td>1</td>\n",
              "    </tr>\n",
              "    <tr>\n",
              "      <th>3</th>\n",
              "      <td>.hack//SIGN</td>\n",
              "      <td>1</td>\n",
              "    </tr>\n",
              "    <tr>\n",
              "      <th>4</th>\n",
              "      <td>009 Re:Cyborg (2012)</td>\n",
              "      <td>1</td>\n",
              "    </tr>\n",
              "    <tr>\n",
              "      <th>...</th>\n",
              "      <td>...</td>\n",
              "      <td>...</td>\n",
              "    </tr>\n",
              "    <tr>\n",
              "      <th>3403</th>\n",
              "      <td>xxxHOLiC</td>\n",
              "      <td>1</td>\n",
              "    </tr>\n",
              "    <tr>\n",
              "      <th>3404</th>\n",
              "      <td>xxxHOLiC: Sueño De Una Noche De Verano</td>\n",
              "      <td>1</td>\n",
              "    </tr>\n",
              "    <tr>\n",
              "      <th>3405</th>\n",
              "      <td>xxxHOLiC·Rou</td>\n",
              "      <td>1</td>\n",
              "    </tr>\n",
              "    <tr>\n",
              "      <th>3406</th>\n",
              "      <td>xxxHOLiC・Rou Adayume</td>\n",
              "      <td>1</td>\n",
              "    </tr>\n",
              "    <tr>\n",
              "      <th>3407</th>\n",
              "      <td>ēlDLIVE</td>\n",
              "      <td>1</td>\n",
              "    </tr>\n",
              "  </tbody>\n",
              "</table>\n",
              "<p>3408 rows × 2 columns</p>\n",
              "</div>\n",
              "      <button class=\"colab-df-convert\" onclick=\"convertToInteractive('df-e42f2cdc-44cf-47ad-a0ab-e53f50a342c2')\"\n",
              "              title=\"Convert this dataframe to an interactive table.\"\n",
              "              style=\"display:none;\">\n",
              "        \n",
              "  <svg xmlns=\"http://www.w3.org/2000/svg\" height=\"24px\"viewBox=\"0 0 24 24\"\n",
              "       width=\"24px\">\n",
              "    <path d=\"M0 0h24v24H0V0z\" fill=\"none\"/>\n",
              "    <path d=\"M18.56 5.44l.94 2.06.94-2.06 2.06-.94-2.06-.94-.94-2.06-.94 2.06-2.06.94zm-11 1L8.5 8.5l.94-2.06 2.06-.94-2.06-.94L8.5 2.5l-.94 2.06-2.06.94zm10 10l.94 2.06.94-2.06 2.06-.94-2.06-.94-.94-2.06-.94 2.06-2.06.94z\"/><path d=\"M17.41 7.96l-1.37-1.37c-.4-.4-.92-.59-1.43-.59-.52 0-1.04.2-1.43.59L10.3 9.45l-7.72 7.72c-.78.78-.78 2.05 0 2.83L4 21.41c.39.39.9.59 1.41.59.51 0 1.02-.2 1.41-.59l7.78-7.78 2.81-2.81c.8-.78.8-2.07 0-2.86zM5.41 20L4 18.59l7.72-7.72 1.47 1.35L5.41 20z\"/>\n",
              "  </svg>\n",
              "      </button>\n",
              "      \n",
              "  <style>\n",
              "    .colab-df-container {\n",
              "      display:flex;\n",
              "      flex-wrap:wrap;\n",
              "      gap: 12px;\n",
              "    }\n",
              "\n",
              "    .colab-df-convert {\n",
              "      background-color: #E8F0FE;\n",
              "      border: none;\n",
              "      border-radius: 50%;\n",
              "      cursor: pointer;\n",
              "      display: none;\n",
              "      fill: #1967D2;\n",
              "      height: 32px;\n",
              "      padding: 0 0 0 0;\n",
              "      width: 32px;\n",
              "    }\n",
              "\n",
              "    .colab-df-convert:hover {\n",
              "      background-color: #E2EBFA;\n",
              "      box-shadow: 0px 1px 2px rgba(60, 64, 67, 0.3), 0px 1px 3px 1px rgba(60, 64, 67, 0.15);\n",
              "      fill: #174EA6;\n",
              "    }\n",
              "\n",
              "    [theme=dark] .colab-df-convert {\n",
              "      background-color: #3B4455;\n",
              "      fill: #D2E3FC;\n",
              "    }\n",
              "\n",
              "    [theme=dark] .colab-df-convert:hover {\n",
              "      background-color: #434B5C;\n",
              "      box-shadow: 0px 1px 3px 1px rgba(0, 0, 0, 0.15);\n",
              "      filter: drop-shadow(0px 1px 2px rgba(0, 0, 0, 0.3));\n",
              "      fill: #FFFFFF;\n",
              "    }\n",
              "  </style>\n",
              "\n",
              "      <script>\n",
              "        const buttonEl =\n",
              "          document.querySelector('#df-e42f2cdc-44cf-47ad-a0ab-e53f50a342c2 button.colab-df-convert');\n",
              "        buttonEl.style.display =\n",
              "          google.colab.kernel.accessAllowed ? 'block' : 'none';\n",
              "\n",
              "        async function convertToInteractive(key) {\n",
              "          const element = document.querySelector('#df-e42f2cdc-44cf-47ad-a0ab-e53f50a342c2');\n",
              "          const dataTable =\n",
              "            await google.colab.kernel.invokeFunction('convertToInteractive',\n",
              "                                                     [key], {});\n",
              "          if (!dataTable) return;\n",
              "\n",
              "          const docLinkHtml = 'Like what you see? Visit the ' +\n",
              "            '<a target=\"_blank\" href=https://colab.research.google.com/notebooks/data_table.ipynb>data table notebook</a>'\n",
              "            + ' to learn more about interactive tables.';\n",
              "          element.innerHTML = '';\n",
              "          dataTable['output_type'] = 'display_data';\n",
              "          await google.colab.output.renderOutput(dataTable, element);\n",
              "          const docLink = document.createElement('div');\n",
              "          docLink.innerHTML = docLinkHtml;\n",
              "          element.appendChild(docLink);\n",
              "        }\n",
              "      </script>\n",
              "    </div>\n",
              "  </div>\n",
              "  "
            ],
            "text/plain": [
              "                                       title  followers\n",
              "0                                .hack//DUSK          1\n",
              "1                         .hack//G.U.Trilogy          1\n",
              "2                               .hack//Roots          1\n",
              "3                                .hack//SIGN          1\n",
              "4                       009 Re:Cyborg (2012)          1\n",
              "...                                      ...        ...\n",
              "3403                                xxxHOLiC          1\n",
              "3404  xxxHOLiC: Sueño De Una Noche De Verano          1\n",
              "3405                            xxxHOLiC·Rou          1\n",
              "3406                    xxxHOLiC・Rou Adayume          1\n",
              "3407                                 ēlDLIVE          1\n",
              "\n",
              "[3408 rows x 2 columns]"
            ]
          },
          "execution_count": 105,
          "metadata": {},
          "output_type": "execute_result"
        }
      ],
      "source": [
        "ca=anime_df.groupby(\"title\").count()[[\"followers\"]].reset_index()\n",
        "ca"
      ]
    },
    {
      "cell_type": "code",
      "execution_count": null,
      "metadata": {
        "colab": {
          "base_uri": "https://localhost:8080/",
          "height": 363
        },
        "id": "FoO9g4fkuI4U",
        "outputId": "c96e9a81-db1a-4338-a337-da399c947236"
      },
      "outputs": [
        {
          "data": {
            "text/html": [
              "\n",
              "  <div id=\"df-5cca3a81-2d33-4d93-b5b8-071c455e7024\">\n",
              "    <div class=\"colab-df-container\">\n",
              "      <div>\n",
              "<style scoped>\n",
              "    .dataframe tbody tr th:only-of-type {\n",
              "        vertical-align: middle;\n",
              "    }\n",
              "\n",
              "    .dataframe tbody tr th {\n",
              "        vertical-align: top;\n",
              "    }\n",
              "\n",
              "    .dataframe thead th {\n",
              "        text-align: right;\n",
              "    }\n",
              "</style>\n",
              "<table border=\"1\" class=\"dataframe\">\n",
              "  <thead>\n",
              "    <tr style=\"text-align: right;\">\n",
              "      <th></th>\n",
              "      <th>title</th>\n",
              "      <th>followers</th>\n",
              "    </tr>\n",
              "  </thead>\n",
              "  <tbody>\n",
              "    <tr>\n",
              "      <th>580</th>\n",
              "      <td>One Piece</td>\n",
              "      <td>162714</td>\n",
              "    </tr>\n",
              "    <tr>\n",
              "      <th>65</th>\n",
              "      <td>Black Clover (TV)</td>\n",
              "      <td>126100</td>\n",
              "    </tr>\n",
              "    <tr>\n",
              "      <th>86</th>\n",
              "      <td>Boruto: Naruto Next Generations</td>\n",
              "      <td>122289</td>\n",
              "    </tr>\n",
              "    <tr>\n",
              "      <th>403</th>\n",
              "      <td>Kimetsu no Yaiba</td>\n",
              "      <td>112847</td>\n",
              "    </tr>\n",
              "    <tr>\n",
              "      <th>352</th>\n",
              "      <td>Jujutsu Kaisen (TV)</td>\n",
              "      <td>105188</td>\n",
              "    </tr>\n",
              "    <tr>\n",
              "      <th>814</th>\n",
              "      <td>Tokyo Revengers</td>\n",
              "      <td>89634</td>\n",
              "    </tr>\n",
              "    <tr>\n",
              "      <th>76</th>\n",
              "      <td>Boku no Hero Academia 5th Season</td>\n",
              "      <td>81404</td>\n",
              "    </tr>\n",
              "    <tr>\n",
              "      <th>549</th>\n",
              "      <td>Naruto Shippuden</td>\n",
              "      <td>77535</td>\n",
              "    </tr>\n",
              "    <tr>\n",
              "      <th>72</th>\n",
              "      <td>Boku no Hero Academia</td>\n",
              "      <td>73622</td>\n",
              "    </tr>\n",
              "    <tr>\n",
              "      <th>708</th>\n",
              "      <td>Shingeki no Kyojin</td>\n",
              "      <td>69218</td>\n",
              "    </tr>\n",
              "  </tbody>\n",
              "</table>\n",
              "</div>\n",
              "      <button class=\"colab-df-convert\" onclick=\"convertToInteractive('df-5cca3a81-2d33-4d93-b5b8-071c455e7024')\"\n",
              "              title=\"Convert this dataframe to an interactive table.\"\n",
              "              style=\"display:none;\">\n",
              "        \n",
              "  <svg xmlns=\"http://www.w3.org/2000/svg\" height=\"24px\"viewBox=\"0 0 24 24\"\n",
              "       width=\"24px\">\n",
              "    <path d=\"M0 0h24v24H0V0z\" fill=\"none\"/>\n",
              "    <path d=\"M18.56 5.44l.94 2.06.94-2.06 2.06-.94-2.06-.94-.94-2.06-.94 2.06-2.06.94zm-11 1L8.5 8.5l.94-2.06 2.06-.94-2.06-.94L8.5 2.5l-.94 2.06-2.06.94zm10 10l.94 2.06.94-2.06 2.06-.94-2.06-.94-.94-2.06-.94 2.06-2.06.94z\"/><path d=\"M17.41 7.96l-1.37-1.37c-.4-.4-.92-.59-1.43-.59-.52 0-1.04.2-1.43.59L10.3 9.45l-7.72 7.72c-.78.78-.78 2.05 0 2.83L4 21.41c.39.39.9.59 1.41.59.51 0 1.02-.2 1.41-.59l7.78-7.78 2.81-2.81c.8-.78.8-2.07 0-2.86zM5.41 20L4 18.59l7.72-7.72 1.47 1.35L5.41 20z\"/>\n",
              "  </svg>\n",
              "      </button>\n",
              "      \n",
              "  <style>\n",
              "    .colab-df-container {\n",
              "      display:flex;\n",
              "      flex-wrap:wrap;\n",
              "      gap: 12px;\n",
              "    }\n",
              "\n",
              "    .colab-df-convert {\n",
              "      background-color: #E8F0FE;\n",
              "      border: none;\n",
              "      border-radius: 50%;\n",
              "      cursor: pointer;\n",
              "      display: none;\n",
              "      fill: #1967D2;\n",
              "      height: 32px;\n",
              "      padding: 0 0 0 0;\n",
              "      width: 32px;\n",
              "    }\n",
              "\n",
              "    .colab-df-convert:hover {\n",
              "      background-color: #E2EBFA;\n",
              "      box-shadow: 0px 1px 2px rgba(60, 64, 67, 0.3), 0px 1px 3px 1px rgba(60, 64, 67, 0.15);\n",
              "      fill: #174EA6;\n",
              "    }\n",
              "\n",
              "    [theme=dark] .colab-df-convert {\n",
              "      background-color: #3B4455;\n",
              "      fill: #D2E3FC;\n",
              "    }\n",
              "\n",
              "    [theme=dark] .colab-df-convert:hover {\n",
              "      background-color: #434B5C;\n",
              "      box-shadow: 0px 1px 3px 1px rgba(0, 0, 0, 0.15);\n",
              "      filter: drop-shadow(0px 1px 2px rgba(0, 0, 0, 0.3));\n",
              "      fill: #FFFFFF;\n",
              "    }\n",
              "  </style>\n",
              "\n",
              "      <script>\n",
              "        const buttonEl =\n",
              "          document.querySelector('#df-5cca3a81-2d33-4d93-b5b8-071c455e7024 button.colab-df-convert');\n",
              "        buttonEl.style.display =\n",
              "          google.colab.kernel.accessAllowed ? 'block' : 'none';\n",
              "\n",
              "        async function convertToInteractive(key) {\n",
              "          const element = document.querySelector('#df-5cca3a81-2d33-4d93-b5b8-071c455e7024');\n",
              "          const dataTable =\n",
              "            await google.colab.kernel.invokeFunction('convertToInteractive',\n",
              "                                                     [key], {});\n",
              "          if (!dataTable) return;\n",
              "\n",
              "          const docLinkHtml = 'Like what you see? Visit the ' +\n",
              "            '<a target=\"_blank\" href=https://colab.research.google.com/notebooks/data_table.ipynb>data table notebook</a>'\n",
              "            + ' to learn more about interactive tables.';\n",
              "          element.innerHTML = '';\n",
              "          dataTable['output_type'] = 'display_data';\n",
              "          await google.colab.output.renderOutput(dataTable, element);\n",
              "          const docLink = document.createElement('div');\n",
              "          docLink.innerHTML = docLinkHtml;\n",
              "          element.appendChild(docLink);\n",
              "        }\n",
              "      </script>\n",
              "    </div>\n",
              "  </div>\n",
              "  "
            ],
            "text/plain": [
              "                                title  followers\n",
              "580                         One Piece     162714\n",
              "65                  Black Clover (TV)     126100\n",
              "86    Boruto: Naruto Next Generations     122289\n",
              "403                  Kimetsu no Yaiba     112847\n",
              "352               Jujutsu Kaisen (TV)     105188\n",
              "814                   Tokyo Revengers      89634\n",
              "76   Boku no Hero Academia 5th Season      81404\n",
              "549                  Naruto Shippuden      77535\n",
              "72              Boku no Hero Academia      73622\n",
              "708                Shingeki no Kyojin      69218"
            ]
          },
          "execution_count": 106,
          "metadata": {},
          "output_type": "execute_result"
        }
      ],
      "source": [
        "IlMassimodf=dfgrop.sort_values(by=[\"followers\"],ascending=False).head(10)\n",
        "IlMassimodf"
      ]
    },
    {
      "cell_type": "markdown",
      "metadata": {
        "id": "-wlEbOmI2MmB"
      },
      "source": [
        "#Matplotlib"
      ]
    },
    {
      "cell_type": "code",
      "execution_count": null,
      "metadata": {
        "id": "tZdMfe52tv5D"
      },
      "outputs": [],
      "source": [
        "import matplotlib.pyplot as plt\n",
        "import numpy as np"
      ]
    },
    {
      "cell_type": "code",
      "execution_count": null,
      "metadata": {
        "id": "EU9P3fLaoyDr"
      },
      "outputs": [],
      "source": [
        "#stili plt\n",
        "plt.style.use('fivethirtyeight')\n",
        "plt.style.use('ggplot')  #simile a seaborn\n",
        "plt.style.use('seaborn') #simile a ggplot\n",
        "plt.style.use('https://github.com/dhaitz/matplotlib-stylesheets/raw/master/pitayasmoothie-light.mplstyle') #è possibile importare degli sili"
      ]
    },
    {
      "cell_type": "markdown",
      "metadata": {
        "id": "wFT8UarA2YY5"
      },
      "source": [
        "grafico a barre orizzontali"
      ]
    },
    {
      "cell_type": "code",
      "execution_count": null,
      "metadata": {
        "colab": {
          "base_uri": "https://localhost:8080/",
          "height": 625
        },
        "id": "3XeRNDPmtzS7",
        "outputId": "656c4a7e-a069-4dcb-d4d3-b129fb35768a"
      },
      "outputs": [
        {
          "data": {
            "image/png": "[encoded data removed]",
            "text/plain": [
              "<Figure size 1080x576 with 1 Axes>"
            ]
          },
          "metadata": {},
          "output_type": "display_data"
        }
      ],
      "source": [
        "plt.style.use('fivethirtyeight')  #uno stile\n",
        "labels = IlMassimodf['title']   #asse delle x == ascisse\n",
        "dati = IlMassimodf['followers']      #asse delle y== ordinate\n",
        "\n",
        "fig, ax = plt.subplots(figsize=(15,8))   #'figsize' la grandezza dell'immagine\n",
        "ax.bar(labels, dati, label='Gli Anime piu guardati')  #'.bar' è il tipo di grafico\n",
        "plt.xticks(rotation = 45)   #serve per rotare la labels\n",
        "ax.legend() #inserisce nel grafico ciò che c'è scritto in label\n",
        "plt.show()  #fà partire il grafico senza far usire il calcolo del esecuzione"
      ]
    },
    {
      "cell_type": "markdown",
      "metadata": {
        "id": "o-41bPuf2dkZ"
      },
      "source": [
        "grafico a barre verticali"
      ]
    },
    {
      "cell_type": "code",
      "execution_count": null,
      "metadata": {
        "colab": {
          "base_uri": "https://localhost:8080/",
          "height": 495
        },
        "id": "t_O9QVlszKb8",
        "outputId": "b0d355bc-35f8-40c0-d1d1-dbc6c7e715e7"
      },
      "outputs": [
        {
          "data": {
            "image/png": "[encoded data removed]",
            "text/plain": [
              "<Figure size 1080x576 with 1 Axes>"
            ]
          },
          "metadata": {},
          "output_type": "display_data"
        }
      ],
      "source": [
        "fig, ax = plt.subplots(figsize=(15,8))\n",
        "ax.barh(labels, dati, label='Gli Anime piu guardati')  #'.barh' serve per fare il grafico orizontale\n",
        "ax.legend() #inserisce nel grafico ciò che c'è scritto in label\n",
        "plt.show()"
      ]
    },
    {
      "cell_type": "markdown",
      "metadata": {
        "id": "cRj0_X-F2fdB"
      },
      "source": [
        "grafico a torta"
      ]
    },
    {
      "cell_type": "code",
      "execution_count": null,
      "metadata": {
        "colab": {
          "base_uri": "https://localhost:8080/",
          "height": 497
        },
        "id": "NNeX6Vm2zmN8",
        "outputId": "8baec91e-5f72-441f-db72-3cf2ae6c218d"
      },
      "outputs": [
        {
          "data": {
            "image/png": "[encoded data removed]",
            "text/plain": [
              "<Figure size 1152x576 with 1 Axes>"
            ]
          },
          "metadata": {},
          "output_type": "display_data"
        }
      ],
      "source": [
        "plt.figure(figsize=(16, 8))                       #non si lavora su ... ma direttamente sul plt\n",
        "plt.pie(dati, labels=labels, autopct='%1.1f%%')   #per la percentuale\n",
        "plt.show()"
      ]
    },
    {
      "cell_type": "code",
      "execution_count": null,
      "metadata": {
        "colab": {
          "base_uri": "https://localhost:8080/",
          "height": 579
        },
        "id": "-ceeOwmnlXq-",
        "outputId": "40211c07-3cf2-4d66-b144-876f8f4c815a"
      },
      "outputs": [
        {
          "data": {
            "image/png": "[encoded data removed]",
            "text/plain": [
              "<Figure size 1152x576 with 1 Axes>"
            ]
          },
          "metadata": {},
          "output_type": "display_data"
        }
      ],
      "source": [
        "#versione professionale (\"Forse\")\n",
        "plt.figure(figsize=(16, 8))                       #non si lavora su ... ma direttamente sul plt\n",
        "plt.pie(dati, labels=labels, autopct='%1.1f%%', shadow=True, radius=1.2, explode=[.05,.2,.05,.2,.05,.2,.05,.2,.05,.2])   #per la percentuale\n",
        "plt.show()"
      ]
    },
    {
      "cell_type": "markdown",
      "metadata": {
        "id": "bg83rUIs2hF4"
      },
      "source": [
        "altri tipi di grafici"
      ]
    },
    {
      "cell_type": "code",
      "execution_count": null,
      "metadata": {
        "colab": {
          "base_uri": "https://localhost:8080/",
          "height": 497
        },
        "id": "xRzIPFnmrxFK",
        "outputId": "39aa14c5-acda-4254-fcff-e4ed7ef98816"
      },
      "outputs": [
        {
          "data": {
            "text/plain": [
              "[<matplotlib.lines.Line2D at 0x7f9b2e6b3910>]"
            ]
          },
          "execution_count": 143,
          "metadata": {},
          "output_type": "execute_result"
        },
        {
          "data": {
            "image/png": "[encoded data removed]",
            "text/plain": [
              "<Figure size 576x396 with 1 Axes>"
            ]
          },
          "metadata": {},
          "output_type": "display_data"
        }
      ],
      "source": [
        "#grafico a linea   poco coerente con il dataframe creato\n",
        "plt.xticks(rotation = 45)\n",
        "plt.plot(labels,dati)"
      ]
    },
    {
      "cell_type": "code",
      "execution_count": null,
      "metadata": {
        "colab": {
          "base_uri": "https://localhost:8080/",
          "height": 497
        },
        "id": "yHOaQlPffdrd",
        "outputId": "b0dc6152-cb88-4f70-8fb7-efb1572a0a54"
      },
      "outputs": [
        {
          "data": {
            "text/plain": [
              "[<matplotlib.lines.Line2D at 0x7f9b2e6bb370>]"
            ]
          },
          "execution_count": 142,
          "metadata": {},
          "output_type": "execute_result"
        },
        {
          "data": {
            "image/png": "[encoded data removed]",
            "text/plain": [
              "<Figure size 576x396 with 1 Axes>"
            ]
          },
          "metadata": {},
          "output_type": "display_data"
        }
      ],
      "source": [
        "#grafico a linea   poco coerente con il dataframe creato\n",
        "plt.xticks(rotation = 45)\n",
        "plt.scatter(labels,dati) #inserisce puntini inicatori\n",
        "plt.plot(labels,dati)"
      ]
    },
    {
      "cell_type": "code",
      "execution_count": null,
      "metadata": {
        "colab": {
          "background_save": true,
          "base_uri": "https://localhost:8080/",
          "height": 625
        },
        "id": "kAxKfiQD2UyR",
        "outputId": "57d22d66-af0f-4510-dbde-e7656ca9c76b"
      },
      "outputs": [
        {
          "data": {
            "image/png": "[encoded data removed]",
            "text/plain": [
              "<Figure size 1080x576 with 1 Axes>"
            ]
          },
          "metadata": {},
          "output_type": "display_data"
        }
      ],
      "source": [
        "fig, ax = plt.subplots(figsize=(15,8))   #'figsize' la grandezza dell'immagine\n",
        "ax.bar(labels, dati, label='Gli Anime piu guardati')  #'.bar' è il tipo di grafico\n",
        "plt.xticks(rotation = 45)   #serve per rotare la labels\n",
        "ax.legend() #inserisce nel grafico ciò che c'è scritto in label\n",
        "plt.scatter(labels,dati) #inserisce puntini inicatori\n",
        "plt.plot(labels,dati)\n",
        "plt.show()  #fà partire il grafico senza far usire il calcolo del esecuzione"
      ]
    },
    {
      "cell_type": "code",
      "execution_count": null,
      "metadata": {
        "colab": {
          "base_uri": "https://localhost:8080/",
          "height": 535
        },
        "id": "RfGB-PNNz1Jr",
        "outputId": "a387ed61-3105-4c08-c3f3-16c1fe9e3504"
      },
      "outputs": [
        {
          "data": {
            "image/png": "[encoded data removed]",
            "text/plain": [
              "<Figure size 1080x576 with 1 Axes>"
            ]
          },
          "metadata": {},
          "output_type": "display_data"
        }
      ],
      "source": [
        "labels1 = IlMassimodf['title']   #asse delle x == ascisse\n",
        "dati1 = IlMassimodf['followers']      #asse delle y== ordinate\n",
        "fig, ax = plt.subplots(figsize=(15,8))   #'figsize' la grandezza dell'immagine\n",
        "width = 0.35\n",
        "ax.bar(dati1 - width/2,width, label='Gli Anime piu guardati')  #'.bar' è il tipo di grafico\n",
        "ax.bar(dati1 + width/2,width, label='Gli Anime piu guardati')\n",
        "plt.xticks(rotation = 45)   #serve per rotare la labels\n",
        "ax.legend() #inserisce nel grafico ciò che c'è scritto in label\n",
        "plt.show()  #fà partire il grafico senza far usire il calcolo del esecuzione"
      ]
    }
  ],
  "metadata": {
    "colab": {
      "provenance": [],
      "include_colab_link": true
    },
    "kernelspec": {
      "display_name": "Python 3",
      "name": "python3"
    },
    "language_info": {
      "name": "python"
    }
  },
  "nbformat": 4,
  "nbformat_minor": 0
}
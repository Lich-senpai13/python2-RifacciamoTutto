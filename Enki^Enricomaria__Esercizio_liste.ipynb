{
  "nbformat": 4,
  "nbformat_minor": 0,
  "metadata": {
    "colab": {
      "provenance": [],
      "collapsed_sections": []
    },
    "kernelspec": {
      "name": "python3",
      "display_name": "Python 3"
    },
    "language_info": {
      "name": "python"
    }
  },
  "cells": [
    {
      "cell_type": "markdown",
      "source": [
        "#Esercizio 1"
      ],
      "metadata": {
        "id": "F1InHJmbdM6X"
      }
    },
    {
      "cell_type": "markdown",
      "source": [
        "Cercare su internet le informazioni riguardanti le statistiche sui casi di COVID nelle regioni italiane (casi totali) e memorizzarli in opportune struttture dati. Scrivere poi le istruzioni per avere le seguenti informazioni:\n",
        "\n"
      ],
      "metadata": {
        "id": "QhSL9Ve9bdnO"
      }
    },
    {
      "cell_type": "markdown",
      "source": [
        "1. il numero totale di casi di COVID in ITalia"
      ],
      "metadata": {
        "id": "xkMF7u4fcPHU"
      }
    },
    {
      "cell_type": "code",
      "source": [
        "CasiReg = [3660000, 2333000, 2660000, 2110000, 1900000, 1660000, 1530000, 1490000, 1430000, 636000, 587000, 571000, 567000, 506000, 456000, 387000, 272000, 221000 ,186000, 91703, 45876]\n",
        "Reg = [\"lombardia\", \"veneto\", \"campania\", \"lazio\", \"emilia romagna\", \"sicilia\", \"piemonte\", \"puglia\",\"toscana\", \"marche\", \"liguria\", \"abruzzo\", \"calabria\", \"friuli\", \"sardegna\", \"umbria\", \"alto adige\", \"Trento\", \"Basilicata\", \"molise\", \"valle d'aosta\"]\n",
        "\n",
        "TotCasi = sum(CasiReg)\n",
        "print(TotCasi)"
      ],
      "metadata": {
        "id": "_FhU3WWPcSc0"
      },
      "execution_count": null,
      "outputs": []
    },
    {
      "cell_type": "markdown",
      "source": [
        "2. il numero medio di casi di COVID in Italia"
      ],
      "metadata": {
        "id": "cEbSqa1FcTQs"
      }
    },
    {
      "cell_type": "code",
      "source": [
        "from statistics import mean \n",
        "mean(CasiReg) "
      ],
      "metadata": {
        "id": "g1IbY5N7cW10",
        "colab": {
          "base_uri": "https://localhost:8080/"
        },
        "outputId": "dd3cede0-8afa-4a2e-c85e-dbe8841de42a"
      },
      "execution_count": null,
      "outputs": [
        {
          "output_type": "execute_result",
          "data": {
            "text/plain": [
              "1109360.9047619049"
            ]
          },
          "metadata": {},
          "execution_count": 4
        }
      ]
    },
    {
      "cell_type": "markdown",
      "source": [
        "3. le regioni che hanno avuto un numero di casi superiore alla media\n",
        "\n",
        "SISTEMARE"
      ],
      "metadata": {
        "id": "RV60Rp2DcXJ1"
      }
    },
    {
      "cell_type": "code",
      "source": [
        "indice = 0\n",
        "for casi in CasiReg:\n",
        "  if casi > mean(CasiReg):\n",
        "   print(Reg[indice])\n",
        "  indice += 1"
      ],
      "metadata": {
        "id": "MVte31bQcbva"
      },
      "execution_count": null,
      "outputs": []
    },
    {
      "cell_type": "code",
      "source": [
        "for Numcasi in CasiReg:\n",
        "  if Numcasi > mean(CasiReg):\n",
        "    print(Reg[CasiReg.index(Numcasi)])"
      ],
      "metadata": {
        "id": "T1g4NGTnd1De"
      },
      "execution_count": null,
      "outputs": []
    },
    {
      "cell_type": "code",
      "source": [
        "for indice in range(len(CasiReg)):\n",
        "  if CasiReg[indice] > mean(CasiReg):\n",
        "   print(Reg[indice])"
      ],
      "metadata": {
        "id": "oM9EX0kmeuA1"
      },
      "execution_count": null,
      "outputs": []
    },
    {
      "cell_type": "markdown",
      "source": [
        "4. la percentuale di casi di COVID nelle varie regioni rispetto al totale italiano. Caricare questi dati in un'altra lista"
      ],
      "metadata": {
        "id": "qcz6bUGqccXh"
      }
    },
    {
      "cell_type": "code",
      "source": [
        "tot = sum(CasiReg)\n",
        "ListaPerc = [Numcasi / tot * 100 for Numcasi in CasiReg] #creo lista per la percentuale, uso perc(variabile) per calcolare la percentuale con la formula\n",
        "print(ListaPerc)\n",
        "                                                     #uso il for per calcolare la percetuale con la variabile perc, per tutte le regioni con (in CasiReg)\n",
        "                                                       \n",
        "#Lista = [round(item) for item in ListaPerc] #per rimuovere i numeri dopo la virgola\n",
        "#print(Lista)\n",
        "lista2 = [round(item,2) for item in ListaPerc]\n",
        "print(lista2)"
      ],
      "metadata": {
        "id": "wZAeQZUrcpup",
        "colab": {
          "base_uri": "https://localhost:8080/"
        },
        "outputId": "9913d1a8-8820-49fe-dc64-f40b79c47429"
      },
      "execution_count": null,
      "outputs": [
        {
          "output_type": "stream",
          "name": "stdout",
          "text": [
            "[15.70843833701888, 10.01305645908881, 11.416515294117547, 9.055957620521813, 8.154653781512533, 7.124592251216214, 6.56664225563904, 6.394965333922986, 6.1374499513489065, 2.729663055285248, 2.5193588261830824, 2.450688057496661, 2.4335203653250557, 2.1717130597080745, 1.9571169075630077, 1.6609742176028157, 1.1674030676691627, 0.9485149924811945, 0.798297685979648, 0.3935822188031809, 0.19689626151614156]\n",
            "[16, 10, 11, 9, 8, 7, 7, 6, 6, 3, 3, 2, 2, 2, 2, 2, 1, 1, 1, 0, 0]\n",
            "[15.71, 10.01, 11.42, 9.06, 8.15, 7.12, 6.57, 6.39, 6.14, 2.73, 2.52, 2.45, 2.43, 2.17, 1.96, 1.66, 1.17, 0.95, 0.8, 0.39, 0.2]\n"
          ]
        }
      ]
    },
    {
      "cell_type": "code",
      "source": [],
      "metadata": {
        "id": "xdZ7CmONhPYS"
      },
      "execution_count": null,
      "outputs": []
    },
    {
      "cell_type": "markdown",
      "source": [
        "Cercare adesso la popolazione delle varie regioni italiane e caricare i dati in una opportuna struttura dati."
      ],
      "metadata": {
        "id": "NsxW5y1NcqHj"
      }
    },
    {
      "cell_type": "markdown",
      "source": [],
      "metadata": {
        "id": "VVaEjn-4GFL-"
      }
    },
    {
      "cell_type": "code",
      "source": [
        "NumPopolReg = [9965046, 4854633, 5590681, 5715190, 4431816, 4801468, 4252279, 3912166, 3676285, 1489789, 1507438, 1273660, 1844586, 1197295, 1579181, 859572, 520891, 538223 , 539999, 290769, 123337]"
      ],
      "metadata": {
        "id": "0ey1FJW4cwtS"
      },
      "execution_count": null,
      "outputs": []
    },
    {
      "cell_type": "markdown",
      "source": [
        "5. trovare, per ogni regione, la percentuale di casi sul totale della popolazione(NumPopolReg) di quella regione: caricare i dati in un'altra lista.   trovare poi la regione che ha la % più alta in rapporto alla popolazione"
      ],
      "metadata": {
        "id": "O08u1Y_mcxFr"
      }
    },
    {
      "cell_type": "code",
      "source": [
        "indice = 0\n",
        "listaperc = []\n",
        "for NumPopol in NumPopolReg: #NumPopol(variabile) per controllare la popolazione in ogni regione (in NumPopolReg)\n",
        "    perc = CasiReg[indice] / NumPopol * 100 #(variabile)perc = all indice della lista CasiReg / il num della popolazione * 100 (formula percentuale)\n",
        "    listaperc.append(round(perc,2))\n",
        "    indice += 1 #scorre tutta la lista\n",
        "print(listaperc)\n",
        "\n"
      ],
      "metadata": {
        "id": "JLt5Ey_Wc-Pp"
      },
      "execution_count": null,
      "outputs": []
    },
    {
      "cell_type": "code",
      "source": [
        "listaperc = [round(CasiReg[indice] / NumPopolReg[indice]*100,3) for indice in range (len(CasiReg))]\n",
        "print(listaperc)\n",
        "PercMax = max(listaperc)\n",
        "print(PercMax)\n",
        "print(Reg[listaperc.index(max(listaperc))]) #ez"
      ],
      "metadata": {
        "colab": {
          "base_uri": "https://localhost:8080/"
        },
        "id": "fu_wuUBdj-jr",
        "outputId": "9e26f963-4eb2-4f72-e85f-972f2b845f83"
      },
      "execution_count": null,
      "outputs": [
        {
          "output_type": "stream",
          "name": "stdout",
          "text": [
            "[36.728, 48.057, 47.579, 36.919, 42.872, 34.573, 35.981, 38.086, 38.898, 42.691, 38.94, 44.831, 30.739, 42.262, 28.876, 45.022, 52.218, 41.061, 34.445, 31.538, 37.196]\n",
            "52.218\n",
            "alto adige\n"
          ]
        }
      ]
    },
    {
      "cell_type": "code",
      "source": [],
      "metadata": {
        "colab": {
          "base_uri": "https://localhost:8080/"
        },
        "id": "e-0sIuGasTto",
        "outputId": "1cece1cb-7c63-4cfd-8c30-d16668dffe41"
      },
      "execution_count": null,
      "outputs": [
        {
          "output_type": "stream",
          "name": "stdout",
          "text": [
            "28.876\n",
            "14\n",
            "sardegna\n"
          ]
        }
      ]
    },
    {
      "cell_type": "markdown",
      "source": [
        "6. trovare la regione che ha avuto meno casi in relazione alla popolazione\n",
        "\n"
      ],
      "metadata": {
        "id": "uULjwtSVc-pc"
      }
    },
    {
      "cell_type": "code",
      "source": [
        "print(min(listaperc))\n",
        "print(listaperc.index(min(listaperc)))\n",
        "print(Reg[listaperc.index(min(listaperc))])"
      ],
      "metadata": {
        "id": "b11IAXxHdC-h"
      },
      "execution_count": null,
      "outputs": []
    },
    {
      "cell_type": "markdown",
      "source": [
        "#Esercizio 2"
      ],
      "metadata": {
        "id": "lDj-tyLwdDTh"
      }
    },
    {
      "cell_type": "markdown",
      "source": [
        "1. Creare due liste di 20 numeri casuali interi, compresi tra 1 e 10 non utilizzzando la list comprehension. Determinare il tempo di esecuzione di questo programma"
      ],
      "metadata": {
        "id": "HiNbJe-ldQTC"
      }
    },
    {
      "cell_type": "code",
      "source": [
        "# + veloce(1 ciclo)\n",
        "import random \n",
        "import time\n",
        "startTime = time.time()\n",
        "lista1 = []\n",
        "lista2 = []\n",
        "for i in range(20):\n",
        "  lista1.append(random.randint(1,10))\n",
        "  lista2.append(random.randint(1,10))\n",
        "endTime = time.time()\n",
        "\n",
        "print(lista1)\n",
        "print(lista2)\n",
        "print(endTime - startTime)"
      ],
      "metadata": {
        "id": "hruqXxVAdWHr",
        "colab": {
          "base_uri": "https://localhost:8080/"
        },
        "outputId": "66f8880d-ab20-48c4-c62f-0a11b2acd19a"
      },
      "execution_count": null,
      "outputs": [
        {
          "output_type": "stream",
          "name": "stdout",
          "text": [
            "[6, 5, 1, 5, 9, 10, 7, 9, 9, 5, 8, 9, 6, 6, 4, 2, 7, 2, 4, 3]\n",
            "[8, 2, 4, 8, 2, 4, 2, 8, 6, 4, 7, 5, 9, 3, 8, 9, 9, 10, 7, 7]\n",
            "0.0002002716064453125\n"
          ]
        }
      ]
    },
    {
      "cell_type": "markdown",
      "source": [
        "2. Creare due liste di 20 numeri casuali interi, compresi tra 1 e 10  utilizzzando la list comprehension. Determinare il tempo di esecuzione di questo programma\n"
      ],
      "metadata": {
        "id": "wu_rcB1-dWgK"
      }
    },
    {
      "cell_type": "code",
      "source": [
        "import random \n",
        "import time\n",
        "startTime = time.time()\n",
        "lista1 = [random.randint(1,10) for i in range(20)]\n",
        "lista2 = [random.randint(1,10) for i in range(20)]\n",
        "endTime = time.time()\n",
        "\n",
        "print(lista1)\n",
        "print(lista2)\n",
        "print(endTime - startTime)"
      ],
      "metadata": {
        "id": "rqz-1n7qdx3A",
        "colab": {
          "base_uri": "https://localhost:8080/"
        },
        "outputId": "ecdb114d-8d16-44b8-d4ce-11f79e7532f8"
      },
      "execution_count": null,
      "outputs": [
        {
          "output_type": "stream",
          "name": "stdout",
          "text": [
            "[4, 7, 1, 5, 2, 8, 10, 5, 3, 4, 8, 9, 2, 5, 10, 3, 6, 10, 1, 8]\n",
            "[3, 2, 10, 1, 9, 7, 8, 7, 8, 5, 9, 10, 2, 1, 5, 3, 8, 7, 9, 7]\n",
            "0.0003478527069091797\n"
          ]
        }
      ]
    },
    {
      "cell_type": "markdown",
      "source": [
        "3. creare una terza lista di valore booleani: inserire un valore vero se il primo elemento della prima lista è maggiore del primo elemento della seconda lista e così via per tutti gli elemeni delle due liste"
      ],
      "metadata": {
        "id": "ep4BmOYddyIi"
      }
    },
    {
      "cell_type": "code",
      "source": [
        "valBooleani = [lista1[x] > lista2[x] for x in range(len(lista1))]\n",
        "print(lista1)\n",
        "print(lista2)\n",
        "print(valBooleani)"
      ],
      "metadata": {
        "id": "838ZxBNVeCfn",
        "colab": {
          "base_uri": "https://localhost:8080/"
        },
        "outputId": "7d9861b6-c343-47a1-8a9f-0bba2199c5ee"
      },
      "execution_count": null,
      "outputs": [
        {
          "output_type": "stream",
          "name": "stdout",
          "text": [
            "[6, 5, 1, 5, 9, 10, 7, 9, 9, 5, 8, 9, 6, 6, 4, 2, 7, 2, 4, 3]\n",
            "[8, 2, 4, 8, 2, 4, 2, 8, 6, 4, 7, 5, 9, 3, 8, 9, 9, 10, 7, 7]\n",
            "[False, True, False, False, True, True, True, True, True, True, True, True, False, True, False, False, False, False, False, False]\n"
          ]
        }
      ]
    },
    {
      "cell_type": "markdown",
      "source": [
        "4. utilizzando la terza lista, contare quanti sono gli elementi della prima lista che sono maggiori della seconda lista"
      ],
      "metadata": {
        "id": "pJcj5hNVeC4b"
      }
    },
    {
      "cell_type": "code",
      "source": [
        "conteggio = 0\n",
        "for x in valBooleani:\n",
        "  if x: \n",
        "    conteggio += 1\n",
        "print(conteggio)"
      ],
      "metadata": {
        "id": "ZOdPph2WeMBg",
        "colab": {
          "base_uri": "https://localhost:8080/"
        },
        "outputId": "1b0eb811-49e2-4268-a19f-fe152fe71442"
      },
      "execution_count": null,
      "outputs": [
        {
          "output_type": "stream",
          "name": "stdout",
          "text": [
            "10\n"
          ]
        }
      ]
    },
    {
      "cell_type": "code",
      "source": [
        "valBooleani.count(True)"
      ],
      "metadata": {
        "colab": {
          "base_uri": "https://localhost:8080/"
        },
        "id": "QEjhCOG3x4_j",
        "outputId": "9b0ab557-fe94-44f6-a261-b6810a2a4b8c"
      },
      "execution_count": null,
      "outputs": [
        {
          "output_type": "execute_result",
          "data": {
            "text/plain": [
              "10"
            ]
          },
          "metadata": {},
          "execution_count": 53
        }
      ]
    },
    {
      "cell_type": "markdown",
      "source": [
        "5. eliminare dalla seconda lista tutti gli elementi minori rispetto a quelli della prima lista, inserendoli in una quarta lista"
      ],
      "metadata": {
        "id": "9KHq-xy7eMYO"
      }
    },
    {
      "cell_type": "code",
      "source": [
        "print(lista1)\n",
        "print(lista2)\n",
        "\n",
        "lista3 = []\n",
        "indice = 0\n",
        "for x in lista2:\n",
        "  indice += 1\n",
        "  if x < lista1[indice]:\n",
        "    lista3.append(x)\n",
        "    lista2.pop(x)\n",
        "print(lista3)\n"
      ],
      "metadata": {
        "id": "VfgmqLmteRbD"
      },
      "execution_count": null,
      "outputs": []
    },
    {
      "cell_type": "markdown",
      "source": [
        "6. svutoare tutte e quattro le liste"
      ],
      "metadata": {
        "id": "R83H7_oheRzI"
      }
    },
    {
      "cell_type": "code",
      "source": [
        "lista1.clear()\n",
        "lista2 = []"
      ],
      "metadata": {
        "id": "iPDbfgW2efAJ"
      },
      "execution_count": null,
      "outputs": []
    }
  ]
}